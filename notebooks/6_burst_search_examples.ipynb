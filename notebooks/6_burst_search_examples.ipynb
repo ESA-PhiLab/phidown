{
 "cells": [
  {
   "cell_type": "markdown",
   "id": "ab4cafa3",
   "metadata": {},
   "source": [
    "# Sentinel-1 SLC Burst Search Examples\n",
    "\n",
    "This notebook demonstrates how to search for Sentinel-1 SLC burst products using the phidown library's burst mode feature.\n",
    "\n",
    "> **Note:** If you encounter errors about missing `burst_mode` parameter, please restart the kernel (**Kernel > Restart Kernel**) and run the cells again. This ensures the latest phidown version with burst mode support is loaded.\n",
    "\n",
    "## What are Sentinel-1 Bursts?\n",
    "\n",
    "Sentinel-1 SLC (Single Look Complex) bursts are individual radar acquisitions within a larger SLC product. Each burst represents a specific geographic area captured during the satellite's pass. Burst mode allows you to search and access these individual bursts rather than downloading entire SLC products.\n",
    "\n",
    "## Features:\n",
    "- Search for individual Sentinel-1 SLC bursts (available from August 2, 2024 onwards)\n",
    "- Filter by burst-specific parameters (Burst ID, Swath, Polarization, etc.)\n",
    "- Combine with standard filters (temporal, spatial, orbit direction)\n",
    "- Access bursts from parent products without downloading the full scene\n",
    "\n",
    "## Key Burst Parameters:\n",
    "- **burst_id**: Unique identifier for a specific burst\n",
    "- **absolute_burst_id**: Global unique burst identifier\n",
    "- **swath_identifier**: Swath name (IW1, IW2, IW3 for Interferometric Wide, EW1-EW5 for Extra Wide)\n",
    "- **parent_product_name**: Name of the parent SLC product\n",
    "- **parent_product_type**: Type of parent product (IW_SLC__1S or EW_SLC__1S)\n",
    "- **operational_mode**: Acquisition mode (IW or EW)\n",
    "- **polarisation_channels**: Polarization (VV, VH, HH, HV)\n",
    "- **platform_serial_identifier**: Sentinel-1 satellite (A or B)\n",
    "- **relative_orbit_number**: Relative orbit number\n",
    "- **datatake_id**: Datatake identifier\n",
    "\n",
    "## Usage:\n",
    "1. Set `burst_mode=True` in the query_by_filter method\n",
    "2. Add burst-specific filters as needed\n",
    "3. Execute the query to retrieve burst results"
   ]
  },
  {
   "cell_type": "markdown",
   "id": "1499aeb8",
   "metadata": {},
   "source": [
    "### Key Takeaways:\n",
    "\n",
    "1. **Enable Burst Mode**: Always set `burst_mode=True` to search for individual bursts instead of full products\n",
    "2. **Data Availability**: Burst data is available from August 2, 2024 onwards\n",
    "3. **Combine Filters**: You can combine temporal, spatial, and burst-specific filters for targeted searches\n",
    "4. **Swath Selection**: Use `swath_identifier` to select specific swaths (IW1, IW2, IW3 for IW mode)\n",
    "5. **Polarization**: Filter by polarization channels (VV, VH, HH, HV) based on your application\n",
    "6. **Orbit Parameters**: Use `orbit_direction` and `relative_orbit_number` for consistent time-series\n",
    "7. **Parent Products**: Search bursts from specific parent products using `parent_product_name`\n",
    "\n",
    "### Common Use Cases:\n",
    "\n",
    "- **InSAR Time Series**: Search for specific burst IDs across multiple dates with consistent orbit parameters\n",
    "- **Regional Analysis**: Use AOI + swath/polarization filters to get bursts covering your study area\n",
    "- **Product Decomposition**: Retrieve all bursts from a parent SLC product for individual processing\n",
    "- **Systematic Monitoring**: Filter by relative orbit number and burst ID for regular acquisitions\n",
    "\n",
    "### Valid Parameter Values:\n",
    "\n",
    "- **swath_identifier**: 'IW1', 'IW2', 'IW3', 'EW1', 'EW2', 'EW3', 'EW4', 'EW5'\n",
    "- **parent_product_type**: 'IW_SLC__1S', 'EW_SLC__1S'\n",
    "- **operational_mode**: 'IW', 'EW'\n",
    "- **polarisation_channels**: 'VV', 'VH', 'HH', 'HV'\n",
    "- **platform_serial_identifier**: 'A' (Sentinel-1A), 'B' (Sentinel-1B)\n",
    "- **orbit_direction**: 'ASCENDING', 'DESCENDING'\n",
    "\n",
    "For more information, visit the [Copernicus Data Space Ecosystem documentation](https://dataspace.copernicus.eu/)"
   ]
  },
  {
   "cell_type": "code",
   "execution_count": 1,
   "id": "20438428",
   "metadata": {},
   "outputs": [],
   "source": [
    "# Auto-reload modules during development\n",
    "%load_ext autoreload\n",
    "%autoreload 2"
   ]
  },
  {
   "cell_type": "code",
   "execution_count": 2,
   "id": "4fc8cde0",
   "metadata": {},
   "outputs": [
    {
     "name": "stderr",
     "output_type": "stream",
     "text": [
      "/Users/roberto.delprete/Library/CloudStorage/OneDrive-ESA/Desktop/Repos/phidown/.venv/lib/python3.9/site-packages/urllib3/__init__.py:35: NotOpenSSLWarning: urllib3 v2 only supports OpenSSL 1.1.1+, currently the 'ssl' module is compiled with 'LibreSSL 2.8.3'. See: https://github.com/urllib3/urllib3/issues/3020\n",
      "  warnings.warn(\n"
     ]
    },
    {
     "name": "stdout",
     "output_type": "stream",
     "text": [
      "Checking if burst mode is available...\n",
      "✓ Burst mode is available!\n"
     ]
    }
   ],
   "source": [
    "\"\"\"\n",
    "Import Required Libraries\n",
    "\n",
    "Import the CopernicusDataSearcher class from phidown for burst searching.\n",
    "\n",
    "Note: If you get an error about 'burst_mode' parameter not found, please:\n",
    "1. Restart the kernel (Kernel > Restart Kernel)\n",
    "2. Re-run this cell\n",
    "This ensures the latest phidown version with burst mode support is loaded.\n",
    "\"\"\"\n",
    "from phidown.search import CopernicusDataSearcher\n",
    "import pandas as pd\n",
    "\n",
    "# Set pandas display options for better readability\n",
    "pd.set_option('display.max_columns', None)\n",
    "pd.set_option('display.width', None)\n",
    "pd.set_option('display.max_colwidth', 50)\n",
    "\n",
    "# Verify burst mode is available\n",
    "print('Checking if burst mode is available...')\n",
    "import inspect\n",
    "sig = inspect.signature(CopernicusDataSearcher.query_by_filter)\n",
    "if 'burst_mode' in sig.parameters:\n",
    "    print('✓ Burst mode is available!')\n",
    "else:\n",
    "    print('✗ Burst mode not found. Please restart the kernel and re-run this cell.')"
   ]
  },
  {
   "cell_type": "markdown",
   "id": "6c8c0c5a",
   "metadata": {},
   "source": [
    "## Example 1: Basic Burst Search with Temporal Filter\n",
    "\n",
    "The simplest burst search uses only temporal filters. Set `burst_mode=True` to search the Bursts endpoint instead of the Products endpoint."
   ]
  },
  {
   "cell_type": "code",
   "execution_count": 3,
   "id": "c76091da",
   "metadata": {},
   "outputs": [
    {
     "name": "stdout",
     "output_type": "stream",
     "text": [
      "Query URL: https://catalogue.dataspace.copernicus.eu/odata/v1/Bursts?$filter=ContentDate/Start ge 2024-08-01T00:00:00 and ContentDate/Start le 2024-08-03T00:00:00&$orderby=ContentDate/Start desc&$top=10&$count=true\n",
      "\n",
      "Number of results: 10\n",
      "Total available results: 58014\n"
     ]
    },
    {
     "data": {
      "application/vnd.microsoft.datawrangler.viewer.v0+json": {
       "columns": [
        {
         "name": "index",
         "rawType": "int64",
         "type": "integer"
        },
        {
         "name": "Id",
         "rawType": "object",
         "type": "string"
        },
        {
         "name": "BurstId",
         "rawType": "int64",
         "type": "integer"
        },
        {
         "name": "SwathIdentifier",
         "rawType": "object",
         "type": "string"
        },
        {
         "name": "ParentProductName",
         "rawType": "object",
         "type": "string"
        },
        {
         "name": "PolarisationChannels",
         "rawType": "object",
         "type": "string"
        },
        {
         "name": "OrbitDirection",
         "rawType": "object",
         "type": "string"
        },
        {
         "name": "ContentDate",
         "rawType": "object",
         "type": "unknown"
        }
       ],
       "ref": "1bf74eb9-ae7c-4f42-9720-a5752df91fa9",
       "rows": [
        [
         "0",
         "5094c40f-0010-4ff1-95d2-aa0ed30622ad",
         "38900",
         "IW3",
         "S1A_IW_SLC__1SDV_20240802T234847_20240802T234909_055041_06B4AE_5F39.SAFE",
         "VH",
         "ASCENDING",
         "{'Start': '2024-08-02T23:49:07.596418Z', 'End': '2024-08-02T23:49:08.492719Z'}"
        ],
        [
         "1",
         "af330f8f-ac59-4e89-9ef7-4a587b7a5b06",
         "38900",
         "IW3",
         "S1A_IW_SLC__1SDV_20240802T234847_20240802T234909_055041_06B4AE_5F39.SAFE",
         "VV",
         "ASCENDING",
         "{'Start': '2024-08-02T23:49:07.596418Z', 'End': '2024-08-02T23:49:08.492719Z'}"
        ],
        [
         "2",
         "8f93a6ad-0c0b-42cd-a108-1c7d78f1e46b",
         "38900",
         "IW2",
         "S1A_IW_SLC__1SDV_20240802T234847_20240802T234909_055041_06B4AE_5F39.SAFE",
         "VH",
         "ASCENDING",
         "{'Start': '2024-08-02T23:49:06.518381Z', 'End': '2024-08-02T23:49:07.555148Z'}"
        ],
        [
         "3",
         "d38c2b58-941f-4ad4-99c3-4bddbb9e5ac1",
         "38900",
         "IW2",
         "S1A_IW_SLC__1SDV_20240802T234847_20240802T234909_055041_06B4AE_5F39.SAFE",
         "VV",
         "ASCENDING",
         "{'Start': '2024-08-02T23:49:06.518381Z', 'End': '2024-08-02T23:49:07.555148Z'}"
        ],
        [
         "4",
         "f0d8dcc9-8af9-4ead-b9fe-4aa51d5f47de",
         "38900",
         "IW1",
         "S1A_IW_SLC__1SDV_20240802T234847_20240802T234909_055041_06B4AE_5F39.SAFE",
         "VH",
         "ASCENDING",
         "{'Start': '2024-08-02T23:49:05.686178Z', 'End': '2024-08-02T23:49:06.556234Z'}"
        ]
       ],
       "shape": {
        "columns": 7,
        "rows": 5
       }
      },
      "text/html": [
       "<div>\n",
       "<style scoped>\n",
       "    .dataframe tbody tr th:only-of-type {\n",
       "        vertical-align: middle;\n",
       "    }\n",
       "\n",
       "    .dataframe tbody tr th {\n",
       "        vertical-align: top;\n",
       "    }\n",
       "\n",
       "    .dataframe thead th {\n",
       "        text-align: right;\n",
       "    }\n",
       "</style>\n",
       "<table border=\"1\" class=\"dataframe\">\n",
       "  <thead>\n",
       "    <tr style=\"text-align: right;\">\n",
       "      <th></th>\n",
       "      <th>Id</th>\n",
       "      <th>BurstId</th>\n",
       "      <th>SwathIdentifier</th>\n",
       "      <th>ParentProductName</th>\n",
       "      <th>PolarisationChannels</th>\n",
       "      <th>OrbitDirection</th>\n",
       "      <th>ContentDate</th>\n",
       "    </tr>\n",
       "  </thead>\n",
       "  <tbody>\n",
       "    <tr>\n",
       "      <th>0</th>\n",
       "      <td>5094c40f-0010-4ff1-95d2-aa0ed30622ad</td>\n",
       "      <td>38900</td>\n",
       "      <td>IW3</td>\n",
       "      <td>S1A_IW_SLC__1SDV_20240802T234847_20240802T2349...</td>\n",
       "      <td>VH</td>\n",
       "      <td>ASCENDING</td>\n",
       "      <td>{'Start': '2024-08-02T23:49:07.596418Z', 'End'...</td>\n",
       "    </tr>\n",
       "    <tr>\n",
       "      <th>1</th>\n",
       "      <td>af330f8f-ac59-4e89-9ef7-4a587b7a5b06</td>\n",
       "      <td>38900</td>\n",
       "      <td>IW3</td>\n",
       "      <td>S1A_IW_SLC__1SDV_20240802T234847_20240802T2349...</td>\n",
       "      <td>VV</td>\n",
       "      <td>ASCENDING</td>\n",
       "      <td>{'Start': '2024-08-02T23:49:07.596418Z', 'End'...</td>\n",
       "    </tr>\n",
       "    <tr>\n",
       "      <th>2</th>\n",
       "      <td>8f93a6ad-0c0b-42cd-a108-1c7d78f1e46b</td>\n",
       "      <td>38900</td>\n",
       "      <td>IW2</td>\n",
       "      <td>S1A_IW_SLC__1SDV_20240802T234847_20240802T2349...</td>\n",
       "      <td>VH</td>\n",
       "      <td>ASCENDING</td>\n",
       "      <td>{'Start': '2024-08-02T23:49:06.518381Z', 'End'...</td>\n",
       "    </tr>\n",
       "    <tr>\n",
       "      <th>3</th>\n",
       "      <td>d38c2b58-941f-4ad4-99c3-4bddbb9e5ac1</td>\n",
       "      <td>38900</td>\n",
       "      <td>IW2</td>\n",
       "      <td>S1A_IW_SLC__1SDV_20240802T234847_20240802T2349...</td>\n",
       "      <td>VV</td>\n",
       "      <td>ASCENDING</td>\n",
       "      <td>{'Start': '2024-08-02T23:49:06.518381Z', 'End'...</td>\n",
       "    </tr>\n",
       "    <tr>\n",
       "      <th>4</th>\n",
       "      <td>f0d8dcc9-8af9-4ead-b9fe-4aa51d5f47de</td>\n",
       "      <td>38900</td>\n",
       "      <td>IW1</td>\n",
       "      <td>S1A_IW_SLC__1SDV_20240802T234847_20240802T2349...</td>\n",
       "      <td>VH</td>\n",
       "      <td>ASCENDING</td>\n",
       "      <td>{'Start': '2024-08-02T23:49:05.686178Z', 'End'...</td>\n",
       "    </tr>\n",
       "  </tbody>\n",
       "</table>\n",
       "</div>"
      ],
      "text/plain": [
       "                                     Id  BurstId SwathIdentifier  \\\n",
       "0  5094c40f-0010-4ff1-95d2-aa0ed30622ad    38900             IW3   \n",
       "1  af330f8f-ac59-4e89-9ef7-4a587b7a5b06    38900             IW3   \n",
       "2  8f93a6ad-0c0b-42cd-a108-1c7d78f1e46b    38900             IW2   \n",
       "3  d38c2b58-941f-4ad4-99c3-4bddbb9e5ac1    38900             IW2   \n",
       "4  f0d8dcc9-8af9-4ead-b9fe-4aa51d5f47de    38900             IW1   \n",
       "\n",
       "                                   ParentProductName PolarisationChannels  \\\n",
       "0  S1A_IW_SLC__1SDV_20240802T234847_20240802T2349...                   VH   \n",
       "1  S1A_IW_SLC__1SDV_20240802T234847_20240802T2349...                   VV   \n",
       "2  S1A_IW_SLC__1SDV_20240802T234847_20240802T2349...                   VH   \n",
       "3  S1A_IW_SLC__1SDV_20240802T234847_20240802T2349...                   VV   \n",
       "4  S1A_IW_SLC__1SDV_20240802T234847_20240802T2349...                   VH   \n",
       "\n",
       "  OrbitDirection                                        ContentDate  \n",
       "0      ASCENDING  {'Start': '2024-08-02T23:49:07.596418Z', 'End'...  \n",
       "1      ASCENDING  {'Start': '2024-08-02T23:49:07.596418Z', 'End'...  \n",
       "2      ASCENDING  {'Start': '2024-08-02T23:49:06.518381Z', 'End'...  \n",
       "3      ASCENDING  {'Start': '2024-08-02T23:49:06.518381Z', 'End'...  \n",
       "4      ASCENDING  {'Start': '2024-08-02T23:49:05.686178Z', 'End'...  "
      ]
     },
     "execution_count": 3,
     "metadata": {},
     "output_type": "execute_result"
    }
   ],
   "source": [
    "\"\"\"\n",
    "Basic Burst Search\n",
    "\n",
    "Search for Sentinel-1 SLC bursts within a specific time range.\n",
    "Data is available from August 2, 2024 onwards.\n",
    "\"\"\"\n",
    "searcher = CopernicusDataSearcher()\n",
    "\n",
    "# Configure search for bursts with temporal filter\n",
    "searcher.query_by_filter(\n",
    "    burst_mode=True,\n",
    "    start_date='2024-08-01T00:00:00',\n",
    "    end_date='2024-08-03T00:00:00',\n",
    "    top=10,\n",
    "    count=True\n",
    ")\n",
    "\n",
    "# Display the query URL\n",
    "print(f'Query URL: {searcher._build_query()}\\n')\n",
    "\n",
    "# Execute the query\n",
    "df = searcher.execute_query()\n",
    "print(f'Number of results: {len(df)}')\n",
    "print(f'Total available results: {searcher.num_results}')\n",
    "\n",
    "# Display first few results\n",
    "searcher.display_results(top_n=5)"
   ]
  },
  {
   "cell_type": "markdown",
   "id": "ee8cb0f9",
   "metadata": {},
   "source": [
    "## Example 2: Burst Search with Spatial Filter (Area of Interest)\n",
    "\n",
    "You can combine burst mode with spatial filtering using a WKT polygon to define your area of interest."
   ]
  },
  {
   "cell_type": "code",
   "execution_count": 4,
   "id": "3df9d2d3",
   "metadata": {},
   "outputs": [
    {
     "name": "stdout",
     "output_type": "stream",
     "text": [
      "Query URL: https://catalogue.dataspace.copernicus.eu/odata/v1/Bursts?$filter=OData.CSC.Intersects(area=geography'SRID=4326;POLYGON((12.655118166047592 47.44667197521409, 21.39065656328509 48.347694733853245, 28.334291357162826 41.877123516783655, 17.47086198383573 40.35854475076158, 12.655118166047592 47.44667197521409))') and ContentDate/Start ge 2024-08-01T00:00:00 and ContentDate/Start le 2024-08-03T00:00:00&$orderby=ContentDate/Start desc&$top=10&$count=true\n",
      "\n",
      "Found 10 bursts in the specified area\n"
     ]
    },
    {
     "data": {
      "application/vnd.microsoft.datawrangler.viewer.v0+json": {
       "columns": [
        {
         "name": "index",
         "rawType": "int64",
         "type": "integer"
        },
        {
         "name": "Id",
         "rawType": "object",
         "type": "string"
        },
        {
         "name": "BurstId",
         "rawType": "int64",
         "type": "integer"
        },
        {
         "name": "SwathIdentifier",
         "rawType": "object",
         "type": "string"
        },
        {
         "name": "ParentProductName",
         "rawType": "object",
         "type": "string"
        },
        {
         "name": "PolarisationChannels",
         "rawType": "object",
         "type": "string"
        },
        {
         "name": "OrbitDirection",
         "rawType": "object",
         "type": "string"
        },
        {
         "name": "ContentDate",
         "rawType": "object",
         "type": "unknown"
        }
       ],
       "ref": "ef1e615a-35dd-4f24-aa50-5bf0a3864558",
       "rows": [
        [
         "0",
         "38af48ba-264e-4be5-b500-82355520cc2f",
         "13720",
         "IW3",
         "S1A_IW_SLC__1SDV_20240802T043126_20240802T043154_055029_06B449_917C.SAFE",
         "VH",
         "DESCENDING",
         "{'Start': '2024-08-02T04:31:34.348445Z', 'End': '2024-08-02T04:31:35.252457Z'}"
        ],
        [
         "1",
         "ad5eaf43-261b-4909-a45e-d3f6acb53f6b",
         "13720",
         "IW3",
         "S1A_IW_SLC__1SDV_20240802T043126_20240802T043154_055029_06B449_917C.SAFE",
         "VV",
         "DESCENDING",
         "{'Start': '2024-08-02T04:31:34.348445Z', 'End': '2024-08-02T04:31:35.252457Z'}"
        ],
        [
         "2",
         "93731915-d5ff-4566-93ea-fb49fd145dcc",
         "13719",
         "IW3",
         "S1A_IW_SLC__1SDV_20240802T043126_20240802T043154_055029_06B449_917C.SAFE",
         "VV",
         "DESCENDING",
         "{'Start': '2024-08-02T04:31:31.590168Z', 'End': '2024-08-02T04:31:32.494180Z'}"
        ],
        [
         "3",
         "dadbc607-73ba-4cf0-a69e-5c5264aa2faa",
         "13719",
         "IW3",
         "S1A_IW_SLC__1SDV_20240802T043126_20240802T043154_055029_06B449_917C.SAFE",
         "VH",
         "DESCENDING",
         "{'Start': '2024-08-02T04:31:31.590168Z', 'End': '2024-08-02T04:31:32.494180Z'}"
        ],
        [
         "4",
         "da72396d-7645-486c-9f7c-413d9939c1ef",
         "13718",
         "IW3",
         "S1A_IW_SLC__1SDV_20240802T043126_20240802T043154_055029_06B449_917C.SAFE",
         "VV",
         "DESCENDING",
         "{'Start': '2024-08-02T04:31:28.831891Z', 'End': '2024-08-02T04:31:29.735903Z'}"
        ]
       ],
       "shape": {
        "columns": 7,
        "rows": 5
       }
      },
      "text/html": [
       "<div>\n",
       "<style scoped>\n",
       "    .dataframe tbody tr th:only-of-type {\n",
       "        vertical-align: middle;\n",
       "    }\n",
       "\n",
       "    .dataframe tbody tr th {\n",
       "        vertical-align: top;\n",
       "    }\n",
       "\n",
       "    .dataframe thead th {\n",
       "        text-align: right;\n",
       "    }\n",
       "</style>\n",
       "<table border=\"1\" class=\"dataframe\">\n",
       "  <thead>\n",
       "    <tr style=\"text-align: right;\">\n",
       "      <th></th>\n",
       "      <th>Id</th>\n",
       "      <th>BurstId</th>\n",
       "      <th>SwathIdentifier</th>\n",
       "      <th>ParentProductName</th>\n",
       "      <th>PolarisationChannels</th>\n",
       "      <th>OrbitDirection</th>\n",
       "      <th>ContentDate</th>\n",
       "    </tr>\n",
       "  </thead>\n",
       "  <tbody>\n",
       "    <tr>\n",
       "      <th>0</th>\n",
       "      <td>38af48ba-264e-4be5-b500-82355520cc2f</td>\n",
       "      <td>13720</td>\n",
       "      <td>IW3</td>\n",
       "      <td>S1A_IW_SLC__1SDV_20240802T043126_20240802T0431...</td>\n",
       "      <td>VH</td>\n",
       "      <td>DESCENDING</td>\n",
       "      <td>{'Start': '2024-08-02T04:31:34.348445Z', 'End'...</td>\n",
       "    </tr>\n",
       "    <tr>\n",
       "      <th>1</th>\n",
       "      <td>ad5eaf43-261b-4909-a45e-d3f6acb53f6b</td>\n",
       "      <td>13720</td>\n",
       "      <td>IW3</td>\n",
       "      <td>S1A_IW_SLC__1SDV_20240802T043126_20240802T0431...</td>\n",
       "      <td>VV</td>\n",
       "      <td>DESCENDING</td>\n",
       "      <td>{'Start': '2024-08-02T04:31:34.348445Z', 'End'...</td>\n",
       "    </tr>\n",
       "    <tr>\n",
       "      <th>2</th>\n",
       "      <td>93731915-d5ff-4566-93ea-fb49fd145dcc</td>\n",
       "      <td>13719</td>\n",
       "      <td>IW3</td>\n",
       "      <td>S1A_IW_SLC__1SDV_20240802T043126_20240802T0431...</td>\n",
       "      <td>VV</td>\n",
       "      <td>DESCENDING</td>\n",
       "      <td>{'Start': '2024-08-02T04:31:31.590168Z', 'End'...</td>\n",
       "    </tr>\n",
       "    <tr>\n",
       "      <th>3</th>\n",
       "      <td>dadbc607-73ba-4cf0-a69e-5c5264aa2faa</td>\n",
       "      <td>13719</td>\n",
       "      <td>IW3</td>\n",
       "      <td>S1A_IW_SLC__1SDV_20240802T043126_20240802T0431...</td>\n",
       "      <td>VH</td>\n",
       "      <td>DESCENDING</td>\n",
       "      <td>{'Start': '2024-08-02T04:31:31.590168Z', 'End'...</td>\n",
       "    </tr>\n",
       "    <tr>\n",
       "      <th>4</th>\n",
       "      <td>da72396d-7645-486c-9f7c-413d9939c1ef</td>\n",
       "      <td>13718</td>\n",
       "      <td>IW3</td>\n",
       "      <td>S1A_IW_SLC__1SDV_20240802T043126_20240802T0431...</td>\n",
       "      <td>VV</td>\n",
       "      <td>DESCENDING</td>\n",
       "      <td>{'Start': '2024-08-02T04:31:28.831891Z', 'End'...</td>\n",
       "    </tr>\n",
       "  </tbody>\n",
       "</table>\n",
       "</div>"
      ],
      "text/plain": [
       "                                     Id  BurstId SwathIdentifier  \\\n",
       "0  38af48ba-264e-4be5-b500-82355520cc2f    13720             IW3   \n",
       "1  ad5eaf43-261b-4909-a45e-d3f6acb53f6b    13720             IW3   \n",
       "2  93731915-d5ff-4566-93ea-fb49fd145dcc    13719             IW3   \n",
       "3  dadbc607-73ba-4cf0-a69e-5c5264aa2faa    13719             IW3   \n",
       "4  da72396d-7645-486c-9f7c-413d9939c1ef    13718             IW3   \n",
       "\n",
       "                                   ParentProductName PolarisationChannels  \\\n",
       "0  S1A_IW_SLC__1SDV_20240802T043126_20240802T0431...                   VH   \n",
       "1  S1A_IW_SLC__1SDV_20240802T043126_20240802T0431...                   VV   \n",
       "2  S1A_IW_SLC__1SDV_20240802T043126_20240802T0431...                   VV   \n",
       "3  S1A_IW_SLC__1SDV_20240802T043126_20240802T0431...                   VH   \n",
       "4  S1A_IW_SLC__1SDV_20240802T043126_20240802T0431...                   VV   \n",
       "\n",
       "  OrbitDirection                                        ContentDate  \n",
       "0     DESCENDING  {'Start': '2024-08-02T04:31:34.348445Z', 'End'...  \n",
       "1     DESCENDING  {'Start': '2024-08-02T04:31:34.348445Z', 'End'...  \n",
       "2     DESCENDING  {'Start': '2024-08-02T04:31:31.590168Z', 'End'...  \n",
       "3     DESCENDING  {'Start': '2024-08-02T04:31:31.590168Z', 'End'...  \n",
       "4     DESCENDING  {'Start': '2024-08-02T04:31:28.831891Z', 'End'...  "
      ]
     },
     "execution_count": 4,
     "metadata": {},
     "output_type": "execute_result"
    }
   ],
   "source": [
    "\"\"\"\n",
    "Burst Search with AOI\n",
    "\n",
    "Search for bursts that intersect with a specific geographic area.\n",
    "The AOI is defined as a WKT (Well-Known Text) polygon.\n",
    "\"\"\"\n",
    "# Define an area of interest (example: region in central Europe)\n",
    "aoi_wkt = \"\"\"POLYGON((12.655118166047592 47.44667197521409, \n",
    "                       21.39065656328509 48.347694733853245, \n",
    "                       28.334291357162826 41.877123516783655, \n",
    "                       17.47086198383573 40.35854475076158, \n",
    "                       12.655118166047592 47.44667197521409))\"\"\"\n",
    "\n",
    "searcher = CopernicusDataSearcher()\n",
    "\n",
    "# Configure search with AOI and temporal filter\n",
    "searcher.query_by_filter(\n",
    "    burst_mode=True,\n",
    "    aoi_wkt=aoi_wkt,\n",
    "    start_date='2024-08-01T00:00:00',\n",
    "    end_date='2024-08-03T00:00:00',\n",
    "    top=10,\n",
    "    count=True\n",
    ")\n",
    "\n",
    "print(f'Query URL: {searcher._build_query()}\\n')\n",
    "\n",
    "# Execute and display results\n",
    "df = searcher.execute_query()\n",
    "print(f'Found {len(df)} bursts in the specified area')\n",
    "searcher.display_results(top_n=5)"
   ]
  },
  {
   "cell_type": "markdown",
   "id": "bfd9df02",
   "metadata": {},
   "source": [
    "## Example 3: Search by Specific Burst ID\n",
    "\n",
    "If you know the Burst ID you're looking for, you can search for it directly."
   ]
  },
  {
   "cell_type": "code",
   "execution_count": 5,
   "id": "7ba906be",
   "metadata": {},
   "outputs": [
    {
     "name": "stdout",
     "output_type": "stream",
     "text": [
      "Query URL: https://catalogue.dataspace.copernicus.eu/odata/v1/Bursts?$filter=ContentDate/Start ge 2024-08-01T00:00:00 and ContentDate/Start le 2024-08-15T00:00:00 and BurstId eq 15804&$orderby=ContentDate/Start desc&$top=20&$count=true\n",
      "\n",
      "Found 12 acquisitions of burst 15804\n"
     ]
    },
    {
     "data": {
      "application/vnd.microsoft.datawrangler.viewer.v0+json": {
       "columns": [
        {
         "name": "index",
         "rawType": "int64",
         "type": "integer"
        },
        {
         "name": "Id",
         "rawType": "object",
         "type": "string"
        },
        {
         "name": "BurstId",
         "rawType": "int64",
         "type": "integer"
        },
        {
         "name": "SwathIdentifier",
         "rawType": "object",
         "type": "string"
        },
        {
         "name": "ParentProductName",
         "rawType": "object",
         "type": "string"
        },
        {
         "name": "PolarisationChannels",
         "rawType": "object",
         "type": "string"
        },
        {
         "name": "OrbitDirection",
         "rawType": "object",
         "type": "string"
        },
        {
         "name": "ContentDate",
         "rawType": "object",
         "type": "unknown"
        }
       ],
       "ref": "9ca7d12d-08ca-4e24-899e-f3739b235d1c",
       "rows": [
        [
         "0",
         "03e875f3-319a-4c8f-935b-685b2224721a",
         "15804",
         "IW3",
         "S1A_IW_SLC__1SDV_20240814T060718_20240814T060746_055205_06BA8F_C87A.SAFE",
         "VH",
         "DESCENDING",
         "{'Start': '2024-08-14T06:07:21.962547Z', 'End': '2024-08-14T06:07:22.866559Z'}"
        ],
        [
         "1",
         "c5288339-81c9-4fd5-82cc-8764450b2a06",
         "15804",
         "IW3",
         "S1A_IW_SLC__1SDV_20240814T060718_20240814T060746_055205_06BA8F_C87A.SAFE",
         "VV",
         "DESCENDING",
         "{'Start': '2024-08-14T06:07:21.962547Z', 'End': '2024-08-14T06:07:22.866559Z'}"
        ],
        [
         "2",
         "5d1ec25e-ca40-4f12-bd36-c291903ee40c",
         "15804",
         "IW2",
         "S1A_IW_SLC__1SDV_20240814T060718_20240814T060746_055205_06BA8F_C87A.SAFE",
         "VV",
         "DESCENDING",
         "{'Start': '2024-08-14T06:07:20.884510Z', 'End': '2024-08-14T06:07:21.930921Z'}"
        ],
        [
         "3",
         "f739d767-f2e5-485b-957a-bdbc3421ee8b",
         "15804",
         "IW2",
         "S1A_IW_SLC__1SDV_20240814T060718_20240814T060746_055205_06BA8F_C87A.SAFE",
         "VH",
         "DESCENDING",
         "{'Start': '2024-08-14T06:07:20.884510Z', 'End': '2024-08-14T06:07:21.930921Z'}"
        ],
        [
         "4",
         "3fe29409-4502-4cfb-8204-89b1f6a62adb",
         "15804",
         "IW1",
         "S1A_IW_SLC__1SDV_20240814T060718_20240814T060746_055205_06BA8F_C87A.SAFE",
         "VH",
         "DESCENDING",
         "{'Start': '2024-08-14T06:07:20.052307Z', 'End': '2024-08-14T06:07:20.930516Z'}"
        ]
       ],
       "shape": {
        "columns": 7,
        "rows": 5
       }
      },
      "text/html": [
       "<div>\n",
       "<style scoped>\n",
       "    .dataframe tbody tr th:only-of-type {\n",
       "        vertical-align: middle;\n",
       "    }\n",
       "\n",
       "    .dataframe tbody tr th {\n",
       "        vertical-align: top;\n",
       "    }\n",
       "\n",
       "    .dataframe thead th {\n",
       "        text-align: right;\n",
       "    }\n",
       "</style>\n",
       "<table border=\"1\" class=\"dataframe\">\n",
       "  <thead>\n",
       "    <tr style=\"text-align: right;\">\n",
       "      <th></th>\n",
       "      <th>Id</th>\n",
       "      <th>BurstId</th>\n",
       "      <th>SwathIdentifier</th>\n",
       "      <th>ParentProductName</th>\n",
       "      <th>PolarisationChannels</th>\n",
       "      <th>OrbitDirection</th>\n",
       "      <th>ContentDate</th>\n",
       "    </tr>\n",
       "  </thead>\n",
       "  <tbody>\n",
       "    <tr>\n",
       "      <th>0</th>\n",
       "      <td>03e875f3-319a-4c8f-935b-685b2224721a</td>\n",
       "      <td>15804</td>\n",
       "      <td>IW3</td>\n",
       "      <td>S1A_IW_SLC__1SDV_20240814T060718_20240814T0607...</td>\n",
       "      <td>VH</td>\n",
       "      <td>DESCENDING</td>\n",
       "      <td>{'Start': '2024-08-14T06:07:21.962547Z', 'End'...</td>\n",
       "    </tr>\n",
       "    <tr>\n",
       "      <th>1</th>\n",
       "      <td>c5288339-81c9-4fd5-82cc-8764450b2a06</td>\n",
       "      <td>15804</td>\n",
       "      <td>IW3</td>\n",
       "      <td>S1A_IW_SLC__1SDV_20240814T060718_20240814T0607...</td>\n",
       "      <td>VV</td>\n",
       "      <td>DESCENDING</td>\n",
       "      <td>{'Start': '2024-08-14T06:07:21.962547Z', 'End'...</td>\n",
       "    </tr>\n",
       "    <tr>\n",
       "      <th>2</th>\n",
       "      <td>5d1ec25e-ca40-4f12-bd36-c291903ee40c</td>\n",
       "      <td>15804</td>\n",
       "      <td>IW2</td>\n",
       "      <td>S1A_IW_SLC__1SDV_20240814T060718_20240814T0607...</td>\n",
       "      <td>VV</td>\n",
       "      <td>DESCENDING</td>\n",
       "      <td>{'Start': '2024-08-14T06:07:20.884510Z', 'End'...</td>\n",
       "    </tr>\n",
       "    <tr>\n",
       "      <th>3</th>\n",
       "      <td>f739d767-f2e5-485b-957a-bdbc3421ee8b</td>\n",
       "      <td>15804</td>\n",
       "      <td>IW2</td>\n",
       "      <td>S1A_IW_SLC__1SDV_20240814T060718_20240814T0607...</td>\n",
       "      <td>VH</td>\n",
       "      <td>DESCENDING</td>\n",
       "      <td>{'Start': '2024-08-14T06:07:20.884510Z', 'End'...</td>\n",
       "    </tr>\n",
       "    <tr>\n",
       "      <th>4</th>\n",
       "      <td>3fe29409-4502-4cfb-8204-89b1f6a62adb</td>\n",
       "      <td>15804</td>\n",
       "      <td>IW1</td>\n",
       "      <td>S1A_IW_SLC__1SDV_20240814T060718_20240814T0607...</td>\n",
       "      <td>VH</td>\n",
       "      <td>DESCENDING</td>\n",
       "      <td>{'Start': '2024-08-14T06:07:20.052307Z', 'End'...</td>\n",
       "    </tr>\n",
       "  </tbody>\n",
       "</table>\n",
       "</div>"
      ],
      "text/plain": [
       "                                     Id  BurstId SwathIdentifier  \\\n",
       "0  03e875f3-319a-4c8f-935b-685b2224721a    15804             IW3   \n",
       "1  c5288339-81c9-4fd5-82cc-8764450b2a06    15804             IW3   \n",
       "2  5d1ec25e-ca40-4f12-bd36-c291903ee40c    15804             IW2   \n",
       "3  f739d767-f2e5-485b-957a-bdbc3421ee8b    15804             IW2   \n",
       "4  3fe29409-4502-4cfb-8204-89b1f6a62adb    15804             IW1   \n",
       "\n",
       "                                   ParentProductName PolarisationChannels  \\\n",
       "0  S1A_IW_SLC__1SDV_20240814T060718_20240814T0607...                   VH   \n",
       "1  S1A_IW_SLC__1SDV_20240814T060718_20240814T0607...                   VV   \n",
       "2  S1A_IW_SLC__1SDV_20240814T060718_20240814T0607...                   VV   \n",
       "3  S1A_IW_SLC__1SDV_20240814T060718_20240814T0607...                   VH   \n",
       "4  S1A_IW_SLC__1SDV_20240814T060718_20240814T0607...                   VH   \n",
       "\n",
       "  OrbitDirection                                        ContentDate  \n",
       "0     DESCENDING  {'Start': '2024-08-14T06:07:21.962547Z', 'End'...  \n",
       "1     DESCENDING  {'Start': '2024-08-14T06:07:21.962547Z', 'End'...  \n",
       "2     DESCENDING  {'Start': '2024-08-14T06:07:20.884510Z', 'End'...  \n",
       "3     DESCENDING  {'Start': '2024-08-14T06:07:20.884510Z', 'End'...  \n",
       "4     DESCENDING  {'Start': '2024-08-14T06:07:20.052307Z', 'End'...  "
      ]
     },
     "execution_count": 5,
     "metadata": {},
     "output_type": "execute_result"
    }
   ],
   "source": [
    "\"\"\"\n",
    "Search by Burst ID\n",
    "\n",
    "Retrieve all acquisitions of a specific burst by its ID.\n",
    "Burst IDs are integers that uniquely identify a burst location.\n",
    "\"\"\"\n",
    "searcher = CopernicusDataSearcher()\n",
    "\n",
    "# Search for a specific burst ID\n",
    "searcher.query_by_filter(\n",
    "    burst_mode=True,\n",
    "    burst_id=15804,  # Example burst ID\n",
    "    start_date='2024-08-01T00:00:00',\n",
    "    end_date='2024-08-15T00:00:00',\n",
    "    top=20,\n",
    "    count=True\n",
    ")\n",
    "\n",
    "print(f'Query URL: {searcher._build_query()}\\n')\n",
    "\n",
    "# Execute and display\n",
    "df = searcher.execute_query()\n",
    "print(f'Found {len(df)} acquisitions of burst {15804}')\n",
    "searcher.display_results(top_n=5)"
   ]
  },
  {
   "cell_type": "markdown",
   "id": "d568eca4",
   "metadata": {},
   "source": [
    "## Example 4: Search by Swath Identifier and Polarization\n",
    "\n",
    "Filter bursts by specific swath (IW1, IW2, IW3) and polarization channel (VV, VH, HH, HV)."
   ]
  },
  {
   "cell_type": "code",
   "execution_count": 6,
   "id": "a6fdf25f",
   "metadata": {},
   "outputs": [
    {
     "name": "stdout",
     "output_type": "stream",
     "text": [
      "Query URL: https://catalogue.dataspace.copernicus.eu/odata/v1/Bursts?$filter=ContentDate/Start ge 2024-08-01T00:00:00 and ContentDate/Start le 2024-08-03T00:00:00 and SwathIdentifier eq 'IW2' and PolarisationChannels eq 'VV'&$orderby=ContentDate/Start desc&$top=10&$count=true\n",
      "\n",
      "Found 10 bursts from swath IW2 with VV polarization\n"
     ]
    },
    {
     "data": {
      "application/vnd.microsoft.datawrangler.viewer.v0+json": {
       "columns": [
        {
         "name": "index",
         "rawType": "int64",
         "type": "integer"
        },
        {
         "name": "Id",
         "rawType": "object",
         "type": "string"
        },
        {
         "name": "BurstId",
         "rawType": "int64",
         "type": "integer"
        },
        {
         "name": "SwathIdentifier",
         "rawType": "object",
         "type": "string"
        },
        {
         "name": "ParentProductName",
         "rawType": "object",
         "type": "string"
        },
        {
         "name": "PolarisationChannels",
         "rawType": "object",
         "type": "string"
        },
        {
         "name": "OrbitDirection",
         "rawType": "object",
         "type": "string"
        },
        {
         "name": "ContentDate",
         "rawType": "object",
         "type": "unknown"
        }
       ],
       "ref": "e4cf0757-723d-4071-8278-1cd293e56c24",
       "rows": [
        [
         "0",
         "d38c2b58-941f-4ad4-99c3-4bddbb9e5ac1",
         "38900",
         "IW2",
         "S1A_IW_SLC__1SDV_20240802T234847_20240802T234909_055041_06B4AE_5F39.SAFE",
         "VV",
         "ASCENDING",
         "{'Start': '2024-08-02T23:49:06.518381Z', 'End': '2024-08-02T23:49:07.555148Z'}"
        ],
        [
         "1",
         "cf6430ea-c4b8-4d3d-9232-07dbc5acd30b",
         "38899",
         "IW2",
         "S1A_IW_SLC__1SDV_20240802T234847_20240802T234909_055041_06B4AE_5F39.SAFE",
         "VV",
         "ASCENDING",
         "{'Start': '2024-08-02T23:49:03.760104Z', 'End': '2024-08-02T23:49:04.796871Z'}"
        ],
        [
         "2",
         "763b7936-21ae-4b2d-b611-67a924a77045",
         "38898",
         "IW2",
         "S1A_IW_SLC__1SDV_20240802T234847_20240802T234909_055041_06B4AE_5F39.SAFE",
         "VV",
         "ASCENDING",
         "{'Start': '2024-08-02T23:49:01.001827Z', 'End': '2024-08-02T23:49:02.038594Z'}"
        ],
        [
         "3",
         "042189e6-9054-4331-8be8-48c15ae3712b",
         "38897",
         "IW2",
         "S1A_IW_SLC__1SDV_20240802T234847_20240802T234909_055041_06B4AE_5F39.SAFE",
         "VV",
         "ASCENDING",
         "{'Start': '2024-08-02T23:48:58.243550Z', 'End': '2024-08-02T23:48:59.280317Z'}"
        ],
        [
         "4",
         "1f0be57a-2733-4550-8a9e-532fd8c756dc",
         "38896",
         "IW2",
         "S1A_IW_SLC__1SDV_20240802T234847_20240802T234909_055041_06B4AE_5F39.SAFE",
         "VV",
         "ASCENDING",
         "{'Start': '2024-08-02T23:48:55.485273Z', 'End': '2024-08-02T23:48:56.522040Z'}"
        ]
       ],
       "shape": {
        "columns": 7,
        "rows": 5
       }
      },
      "text/html": [
       "<div>\n",
       "<style scoped>\n",
       "    .dataframe tbody tr th:only-of-type {\n",
       "        vertical-align: middle;\n",
       "    }\n",
       "\n",
       "    .dataframe tbody tr th {\n",
       "        vertical-align: top;\n",
       "    }\n",
       "\n",
       "    .dataframe thead th {\n",
       "        text-align: right;\n",
       "    }\n",
       "</style>\n",
       "<table border=\"1\" class=\"dataframe\">\n",
       "  <thead>\n",
       "    <tr style=\"text-align: right;\">\n",
       "      <th></th>\n",
       "      <th>Id</th>\n",
       "      <th>BurstId</th>\n",
       "      <th>SwathIdentifier</th>\n",
       "      <th>ParentProductName</th>\n",
       "      <th>PolarisationChannels</th>\n",
       "      <th>OrbitDirection</th>\n",
       "      <th>ContentDate</th>\n",
       "    </tr>\n",
       "  </thead>\n",
       "  <tbody>\n",
       "    <tr>\n",
       "      <th>0</th>\n",
       "      <td>d38c2b58-941f-4ad4-99c3-4bddbb9e5ac1</td>\n",
       "      <td>38900</td>\n",
       "      <td>IW2</td>\n",
       "      <td>S1A_IW_SLC__1SDV_20240802T234847_20240802T2349...</td>\n",
       "      <td>VV</td>\n",
       "      <td>ASCENDING</td>\n",
       "      <td>{'Start': '2024-08-02T23:49:06.518381Z', 'End'...</td>\n",
       "    </tr>\n",
       "    <tr>\n",
       "      <th>1</th>\n",
       "      <td>cf6430ea-c4b8-4d3d-9232-07dbc5acd30b</td>\n",
       "      <td>38899</td>\n",
       "      <td>IW2</td>\n",
       "      <td>S1A_IW_SLC__1SDV_20240802T234847_20240802T2349...</td>\n",
       "      <td>VV</td>\n",
       "      <td>ASCENDING</td>\n",
       "      <td>{'Start': '2024-08-02T23:49:03.760104Z', 'End'...</td>\n",
       "    </tr>\n",
       "    <tr>\n",
       "      <th>2</th>\n",
       "      <td>763b7936-21ae-4b2d-b611-67a924a77045</td>\n",
       "      <td>38898</td>\n",
       "      <td>IW2</td>\n",
       "      <td>S1A_IW_SLC__1SDV_20240802T234847_20240802T2349...</td>\n",
       "      <td>VV</td>\n",
       "      <td>ASCENDING</td>\n",
       "      <td>{'Start': '2024-08-02T23:49:01.001827Z', 'End'...</td>\n",
       "    </tr>\n",
       "    <tr>\n",
       "      <th>3</th>\n",
       "      <td>042189e6-9054-4331-8be8-48c15ae3712b</td>\n",
       "      <td>38897</td>\n",
       "      <td>IW2</td>\n",
       "      <td>S1A_IW_SLC__1SDV_20240802T234847_20240802T2349...</td>\n",
       "      <td>VV</td>\n",
       "      <td>ASCENDING</td>\n",
       "      <td>{'Start': '2024-08-02T23:48:58.243550Z', 'End'...</td>\n",
       "    </tr>\n",
       "    <tr>\n",
       "      <th>4</th>\n",
       "      <td>1f0be57a-2733-4550-8a9e-532fd8c756dc</td>\n",
       "      <td>38896</td>\n",
       "      <td>IW2</td>\n",
       "      <td>S1A_IW_SLC__1SDV_20240802T234847_20240802T2349...</td>\n",
       "      <td>VV</td>\n",
       "      <td>ASCENDING</td>\n",
       "      <td>{'Start': '2024-08-02T23:48:55.485273Z', 'End'...</td>\n",
       "    </tr>\n",
       "  </tbody>\n",
       "</table>\n",
       "</div>"
      ],
      "text/plain": [
       "                                     Id  BurstId SwathIdentifier  \\\n",
       "0  d38c2b58-941f-4ad4-99c3-4bddbb9e5ac1    38900             IW2   \n",
       "1  cf6430ea-c4b8-4d3d-9232-07dbc5acd30b    38899             IW2   \n",
       "2  763b7936-21ae-4b2d-b611-67a924a77045    38898             IW2   \n",
       "3  042189e6-9054-4331-8be8-48c15ae3712b    38897             IW2   \n",
       "4  1f0be57a-2733-4550-8a9e-532fd8c756dc    38896             IW2   \n",
       "\n",
       "                                   ParentProductName PolarisationChannels  \\\n",
       "0  S1A_IW_SLC__1SDV_20240802T234847_20240802T2349...                   VV   \n",
       "1  S1A_IW_SLC__1SDV_20240802T234847_20240802T2349...                   VV   \n",
       "2  S1A_IW_SLC__1SDV_20240802T234847_20240802T2349...                   VV   \n",
       "3  S1A_IW_SLC__1SDV_20240802T234847_20240802T2349...                   VV   \n",
       "4  S1A_IW_SLC__1SDV_20240802T234847_20240802T2349...                   VV   \n",
       "\n",
       "  OrbitDirection                                        ContentDate  \n",
       "0      ASCENDING  {'Start': '2024-08-02T23:49:06.518381Z', 'End'...  \n",
       "1      ASCENDING  {'Start': '2024-08-02T23:49:03.760104Z', 'End'...  \n",
       "2      ASCENDING  {'Start': '2024-08-02T23:49:01.001827Z', 'End'...  \n",
       "3      ASCENDING  {'Start': '2024-08-02T23:48:58.243550Z', 'End'...  \n",
       "4      ASCENDING  {'Start': '2024-08-02T23:48:55.485273Z', 'End'...  "
      ]
     },
     "execution_count": 6,
     "metadata": {},
     "output_type": "execute_result"
    }
   ],
   "source": [
    "\"\"\"\n",
    "Filter by Swath and Polarization\n",
    "\n",
    "Search for bursts from a specific swath with specific polarization.\n",
    "Swath identifiers: IW1, IW2, IW3 (Interferometric Wide) or EW1-EW5 (Extra Wide)\n",
    "Polarization channels: VV, VH, HH, HV\n",
    "\"\"\"\n",
    "searcher = CopernicusDataSearcher()\n",
    "\n",
    "# Search for IW2 swath with VV polarization\n",
    "searcher.query_by_filter(\n",
    "    burst_mode=True,\n",
    "    swath_identifier='IW2',\n",
    "    polarisation_channels='VV',\n",
    "    start_date='2024-08-01T00:00:00',\n",
    "    end_date='2024-08-03T00:00:00',\n",
    "    top=10,\n",
    "    count=True\n",
    ")\n",
    "\n",
    "print(f'Query URL: {searcher._build_query()}\\n')\n",
    "\n",
    "# Execute and display\n",
    "df = searcher.execute_query()\n",
    "print(f'Found {len(df)} bursts from swath IW2 with VV polarization')\n",
    "searcher.display_results(top_n=5)"
   ]
  },
  {
   "cell_type": "markdown",
   "id": "eb2b9b4a",
   "metadata": {},
   "source": [
    "## Example 5: Search Bursts from a Specific Parent Product\n",
    "\n",
    "If you know the parent SLC product name, you can retrieve all its constituent bursts."
   ]
  },
  {
   "cell_type": "code",
   "execution_count": 7,
   "id": "48a677d8",
   "metadata": {},
   "outputs": [
    {
     "name": "stdout",
     "output_type": "stream",
     "text": [
      "Query URL: https://catalogue.dataspace.copernicus.eu/odata/v1/Bursts?$filter=ContentDate/Start ge 2024-08-01T00:00:00 and ContentDate/Start le 2024-08-15T00:00:00 and ParentProductName eq 'S1A_IW_SLC__1SDV_20240802T060719_20240802T060746_055030_06B44E_E7CC.SAFE'&$orderby=ContentDate/Start desc&$top=1000\n",
      "\n",
      "Found 54 bursts in parent product\n",
      "Parent product: S1A_IW_SLC__1SDV_20240802T060719_20240802T060746_055030_06B44E_E7CC.SAFE\n",
      "\n"
     ]
    },
    {
     "data": {
      "application/vnd.microsoft.datawrangler.viewer.v0+json": {
       "columns": [
        {
         "name": "index",
         "rawType": "int64",
         "type": "integer"
        },
        {
         "name": "Id",
         "rawType": "object",
         "type": "string"
        },
        {
         "name": "BurstId",
         "rawType": "int64",
         "type": "integer"
        },
        {
         "name": "SwathIdentifier",
         "rawType": "object",
         "type": "string"
        },
        {
         "name": "ParentProductName",
         "rawType": "object",
         "type": "string"
        },
        {
         "name": "PolarisationChannels",
         "rawType": "object",
         "type": "string"
        },
        {
         "name": "OrbitDirection",
         "rawType": "object",
         "type": "string"
        },
        {
         "name": "ContentDate",
         "rawType": "object",
         "type": "unknown"
        }
       ],
       "ref": "5b32b505-e760-4987-8c96-e68cde2e258c",
       "rows": [
        [
         "0",
         "beaedba3-52b2-4a42-a97c-6c40e56e6040",
         "15812",
         "IW3",
         "S1A_IW_SLC__1SDV_20240802T060719_20240802T060746_055030_06B44E_E7CC.SAFE",
         "VH",
         "DESCENDING",
         "{'Start': '2024-08-02T06:07:44.644714Z', 'End': '2024-08-02T06:07:45.549319Z'}"
        ],
        [
         "1",
         "e7d3e00c-fb01-4c60-bcbb-5d5d41d4c627",
         "15812",
         "IW3",
         "S1A_IW_SLC__1SDV_20240802T060719_20240802T060746_055030_06B44E_E7CC.SAFE",
         "VV",
         "DESCENDING",
         "{'Start': '2024-08-02T06:07:44.644714Z', 'End': '2024-08-02T06:07:45.549319Z'}"
        ],
        [
         "2",
         "a38752b8-cb26-4a4a-8e1d-4166a12ffa6c",
         "15812",
         "IW2",
         "S1A_IW_SLC__1SDV_20240802T060719_20240802T060746_055030_06B44E_E7CC.SAFE",
         "VH",
         "DESCENDING",
         "{'Start': '2024-08-02T06:07:43.566677Z', 'End': '2024-08-02T06:07:44.613088Z'}"
        ],
        [
         "3",
         "fd1dce59-bbe6-48f4-9f98-a97a21b772e2",
         "15812",
         "IW2",
         "S1A_IW_SLC__1SDV_20240802T060719_20240802T060746_055030_06B44E_E7CC.SAFE",
         "VV",
         "DESCENDING",
         "{'Start': '2024-08-02T06:07:43.566677Z', 'End': '2024-08-02T06:07:44.613088Z'}"
        ],
        [
         "4",
         "ea4cc725-f72e-47f7-a49e-b46bf3742eba",
         "15812",
         "IW1",
         "S1A_IW_SLC__1SDV_20240802T060719_20240802T060746_055030_06B44E_E7CC.SAFE",
         "VH",
         "DESCENDING",
         "{'Start': '2024-08-02T06:07:42.734474Z', 'End': '2024-08-02T06:07:43.612683Z'}"
        ],
        [
         "5",
         "f8c4f619-b0e5-481e-afbe-b2fd8f244b4a",
         "15812",
         "IW1",
         "S1A_IW_SLC__1SDV_20240802T060719_20240802T060746_055030_06B44E_E7CC.SAFE",
         "VV",
         "DESCENDING",
         "{'Start': '2024-08-02T06:07:42.734474Z', 'End': '2024-08-02T06:07:43.612683Z'}"
        ],
        [
         "6",
         "3d86f604-0c6c-4612-ba9c-42b08d3c33c7",
         "15811",
         "IW3",
         "S1A_IW_SLC__1SDV_20240802T060719_20240802T060746_055030_06B44E_E7CC.SAFE",
         "VH",
         "DESCENDING",
         "{'Start': '2024-08-02T06:07:41.886437Z', 'End': '2024-08-02T06:07:42.791042Z'}"
        ],
        [
         "7",
         "c54482bd-44e2-4296-ac7f-809b304139a9",
         "15811",
         "IW3",
         "S1A_IW_SLC__1SDV_20240802T060719_20240802T060746_055030_06B44E_E7CC.SAFE",
         "VV",
         "DESCENDING",
         "{'Start': '2024-08-02T06:07:41.886437Z', 'End': '2024-08-02T06:07:42.791042Z'}"
        ],
        [
         "8",
         "6fb4318c-f6ca-4130-92c3-548fa1bc1733",
         "15811",
         "IW2",
         "S1A_IW_SLC__1SDV_20240802T060719_20240802T060746_055030_06B44E_E7CC.SAFE",
         "VH",
         "DESCENDING",
         "{'Start': '2024-08-02T06:07:40.808400Z', 'End': '2024-08-02T06:07:41.854811Z'}"
        ],
        [
         "9",
         "a60d901b-dbfd-445b-9e7b-46a4c35b9f5b",
         "15811",
         "IW2",
         "S1A_IW_SLC__1SDV_20240802T060719_20240802T060746_055030_06B44E_E7CC.SAFE",
         "VV",
         "DESCENDING",
         "{'Start': '2024-08-02T06:07:40.808400Z', 'End': '2024-08-02T06:07:41.854811Z'}"
        ]
       ],
       "shape": {
        "columns": 7,
        "rows": 10
       }
      },
      "text/html": [
       "<div>\n",
       "<style scoped>\n",
       "    .dataframe tbody tr th:only-of-type {\n",
       "        vertical-align: middle;\n",
       "    }\n",
       "\n",
       "    .dataframe tbody tr th {\n",
       "        vertical-align: top;\n",
       "    }\n",
       "\n",
       "    .dataframe thead th {\n",
       "        text-align: right;\n",
       "    }\n",
       "</style>\n",
       "<table border=\"1\" class=\"dataframe\">\n",
       "  <thead>\n",
       "    <tr style=\"text-align: right;\">\n",
       "      <th></th>\n",
       "      <th>Id</th>\n",
       "      <th>BurstId</th>\n",
       "      <th>SwathIdentifier</th>\n",
       "      <th>ParentProductName</th>\n",
       "      <th>PolarisationChannels</th>\n",
       "      <th>OrbitDirection</th>\n",
       "      <th>ContentDate</th>\n",
       "    </tr>\n",
       "  </thead>\n",
       "  <tbody>\n",
       "    <tr>\n",
       "      <th>0</th>\n",
       "      <td>beaedba3-52b2-4a42-a97c-6c40e56e6040</td>\n",
       "      <td>15812</td>\n",
       "      <td>IW3</td>\n",
       "      <td>S1A_IW_SLC__1SDV_20240802T060719_20240802T0607...</td>\n",
       "      <td>VH</td>\n",
       "      <td>DESCENDING</td>\n",
       "      <td>{'Start': '2024-08-02T06:07:44.644714Z', 'End'...</td>\n",
       "    </tr>\n",
       "    <tr>\n",
       "      <th>1</th>\n",
       "      <td>e7d3e00c-fb01-4c60-bcbb-5d5d41d4c627</td>\n",
       "      <td>15812</td>\n",
       "      <td>IW3</td>\n",
       "      <td>S1A_IW_SLC__1SDV_20240802T060719_20240802T0607...</td>\n",
       "      <td>VV</td>\n",
       "      <td>DESCENDING</td>\n",
       "      <td>{'Start': '2024-08-02T06:07:44.644714Z', 'End'...</td>\n",
       "    </tr>\n",
       "    <tr>\n",
       "      <th>2</th>\n",
       "      <td>a38752b8-cb26-4a4a-8e1d-4166a12ffa6c</td>\n",
       "      <td>15812</td>\n",
       "      <td>IW2</td>\n",
       "      <td>S1A_IW_SLC__1SDV_20240802T060719_20240802T0607...</td>\n",
       "      <td>VH</td>\n",
       "      <td>DESCENDING</td>\n",
       "      <td>{'Start': '2024-08-02T06:07:43.566677Z', 'End'...</td>\n",
       "    </tr>\n",
       "    <tr>\n",
       "      <th>3</th>\n",
       "      <td>fd1dce59-bbe6-48f4-9f98-a97a21b772e2</td>\n",
       "      <td>15812</td>\n",
       "      <td>IW2</td>\n",
       "      <td>S1A_IW_SLC__1SDV_20240802T060719_20240802T0607...</td>\n",
       "      <td>VV</td>\n",
       "      <td>DESCENDING</td>\n",
       "      <td>{'Start': '2024-08-02T06:07:43.566677Z', 'End'...</td>\n",
       "    </tr>\n",
       "    <tr>\n",
       "      <th>4</th>\n",
       "      <td>ea4cc725-f72e-47f7-a49e-b46bf3742eba</td>\n",
       "      <td>15812</td>\n",
       "      <td>IW1</td>\n",
       "      <td>S1A_IW_SLC__1SDV_20240802T060719_20240802T0607...</td>\n",
       "      <td>VH</td>\n",
       "      <td>DESCENDING</td>\n",
       "      <td>{'Start': '2024-08-02T06:07:42.734474Z', 'End'...</td>\n",
       "    </tr>\n",
       "    <tr>\n",
       "      <th>5</th>\n",
       "      <td>f8c4f619-b0e5-481e-afbe-b2fd8f244b4a</td>\n",
       "      <td>15812</td>\n",
       "      <td>IW1</td>\n",
       "      <td>S1A_IW_SLC__1SDV_20240802T060719_20240802T0607...</td>\n",
       "      <td>VV</td>\n",
       "      <td>DESCENDING</td>\n",
       "      <td>{'Start': '2024-08-02T06:07:42.734474Z', 'End'...</td>\n",
       "    </tr>\n",
       "    <tr>\n",
       "      <th>6</th>\n",
       "      <td>3d86f604-0c6c-4612-ba9c-42b08d3c33c7</td>\n",
       "      <td>15811</td>\n",
       "      <td>IW3</td>\n",
       "      <td>S1A_IW_SLC__1SDV_20240802T060719_20240802T0607...</td>\n",
       "      <td>VH</td>\n",
       "      <td>DESCENDING</td>\n",
       "      <td>{'Start': '2024-08-02T06:07:41.886437Z', 'End'...</td>\n",
       "    </tr>\n",
       "    <tr>\n",
       "      <th>7</th>\n",
       "      <td>c54482bd-44e2-4296-ac7f-809b304139a9</td>\n",
       "      <td>15811</td>\n",
       "      <td>IW3</td>\n",
       "      <td>S1A_IW_SLC__1SDV_20240802T060719_20240802T0607...</td>\n",
       "      <td>VV</td>\n",
       "      <td>DESCENDING</td>\n",
       "      <td>{'Start': '2024-08-02T06:07:41.886437Z', 'End'...</td>\n",
       "    </tr>\n",
       "    <tr>\n",
       "      <th>8</th>\n",
       "      <td>6fb4318c-f6ca-4130-92c3-548fa1bc1733</td>\n",
       "      <td>15811</td>\n",
       "      <td>IW2</td>\n",
       "      <td>S1A_IW_SLC__1SDV_20240802T060719_20240802T0607...</td>\n",
       "      <td>VH</td>\n",
       "      <td>DESCENDING</td>\n",
       "      <td>{'Start': '2024-08-02T06:07:40.808400Z', 'End'...</td>\n",
       "    </tr>\n",
       "    <tr>\n",
       "      <th>9</th>\n",
       "      <td>a60d901b-dbfd-445b-9e7b-46a4c35b9f5b</td>\n",
       "      <td>15811</td>\n",
       "      <td>IW2</td>\n",
       "      <td>S1A_IW_SLC__1SDV_20240802T060719_20240802T0607...</td>\n",
       "      <td>VV</td>\n",
       "      <td>DESCENDING</td>\n",
       "      <td>{'Start': '2024-08-02T06:07:40.808400Z', 'End'...</td>\n",
       "    </tr>\n",
       "  </tbody>\n",
       "</table>\n",
       "</div>"
      ],
      "text/plain": [
       "                                     Id  BurstId SwathIdentifier  \\\n",
       "0  beaedba3-52b2-4a42-a97c-6c40e56e6040    15812             IW3   \n",
       "1  e7d3e00c-fb01-4c60-bcbb-5d5d41d4c627    15812             IW3   \n",
       "2  a38752b8-cb26-4a4a-8e1d-4166a12ffa6c    15812             IW2   \n",
       "3  fd1dce59-bbe6-48f4-9f98-a97a21b772e2    15812             IW2   \n",
       "4  ea4cc725-f72e-47f7-a49e-b46bf3742eba    15812             IW1   \n",
       "5  f8c4f619-b0e5-481e-afbe-b2fd8f244b4a    15812             IW1   \n",
       "6  3d86f604-0c6c-4612-ba9c-42b08d3c33c7    15811             IW3   \n",
       "7  c54482bd-44e2-4296-ac7f-809b304139a9    15811             IW3   \n",
       "8  6fb4318c-f6ca-4130-92c3-548fa1bc1733    15811             IW2   \n",
       "9  a60d901b-dbfd-445b-9e7b-46a4c35b9f5b    15811             IW2   \n",
       "\n",
       "                                   ParentProductName PolarisationChannels  \\\n",
       "0  S1A_IW_SLC__1SDV_20240802T060719_20240802T0607...                   VH   \n",
       "1  S1A_IW_SLC__1SDV_20240802T060719_20240802T0607...                   VV   \n",
       "2  S1A_IW_SLC__1SDV_20240802T060719_20240802T0607...                   VH   \n",
       "3  S1A_IW_SLC__1SDV_20240802T060719_20240802T0607...                   VV   \n",
       "4  S1A_IW_SLC__1SDV_20240802T060719_20240802T0607...                   VH   \n",
       "5  S1A_IW_SLC__1SDV_20240802T060719_20240802T0607...                   VV   \n",
       "6  S1A_IW_SLC__1SDV_20240802T060719_20240802T0607...                   VH   \n",
       "7  S1A_IW_SLC__1SDV_20240802T060719_20240802T0607...                   VV   \n",
       "8  S1A_IW_SLC__1SDV_20240802T060719_20240802T0607...                   VH   \n",
       "9  S1A_IW_SLC__1SDV_20240802T060719_20240802T0607...                   VV   \n",
       "\n",
       "  OrbitDirection                                        ContentDate  \n",
       "0     DESCENDING  {'Start': '2024-08-02T06:07:44.644714Z', 'End'...  \n",
       "1     DESCENDING  {'Start': '2024-08-02T06:07:44.644714Z', 'End'...  \n",
       "2     DESCENDING  {'Start': '2024-08-02T06:07:43.566677Z', 'End'...  \n",
       "3     DESCENDING  {'Start': '2024-08-02T06:07:43.566677Z', 'End'...  \n",
       "4     DESCENDING  {'Start': '2024-08-02T06:07:42.734474Z', 'End'...  \n",
       "5     DESCENDING  {'Start': '2024-08-02T06:07:42.734474Z', 'End'...  \n",
       "6     DESCENDING  {'Start': '2024-08-02T06:07:41.886437Z', 'End'...  \n",
       "7     DESCENDING  {'Start': '2024-08-02T06:07:41.886437Z', 'End'...  \n",
       "8     DESCENDING  {'Start': '2024-08-02T06:07:40.808400Z', 'End'...  \n",
       "9     DESCENDING  {'Start': '2024-08-02T06:07:40.808400Z', 'End'...  "
      ]
     },
     "execution_count": 7,
     "metadata": {},
     "output_type": "execute_result"
    }
   ],
   "source": [
    "\"\"\"\n",
    "Search by Parent Product Name\n",
    "\n",
    "Retrieve all bursts from a specific parent SLC product.\n",
    "This is useful when you want to access individual bursts from a known product.\n",
    "\"\"\"\n",
    "searcher = CopernicusDataSearcher()\n",
    "\n",
    "# Example parent product name (replace with an actual product name from your results)\n",
    "parent_product = 'S1A_IW_SLC__1SDV_20240802T060719_20240802T060746_055030_06B44E_E7CC.SAFE'\n",
    "\n",
    "searcher.query_by_filter(\n",
    "    burst_mode=True,\n",
    "    parent_product_name=parent_product,\n",
    "    start_date='2024-08-01T00:00:00',\n",
    "    end_date='2024-08-15T00:00:00',\n",
    "    top=1000  # Get all bursts from this product\n",
    ")\n",
    "\n",
    "print(f'Query URL: {searcher._build_query()}\\n')\n",
    "\n",
    "# Execute and display\n",
    "df = searcher.execute_query()\n",
    "print(f'Found {len(df)} bursts in parent product')\n",
    "print(f'Parent product: {parent_product}\\n')\n",
    "searcher.display_results(top_n=10)"
   ]
  },
  {
   "cell_type": "markdown",
   "id": "41f6ccbe",
   "metadata": {},
   "source": [
    "## Example 6: Filter by Orbit Direction and Relative Orbit Number\n",
    "\n",
    "Combine orbit parameters with burst search to find specific orbital acquisitions."
   ]
  },
  {
   "cell_type": "code",
   "execution_count": 8,
   "id": "320e8870",
   "metadata": {},
   "outputs": [
    {
     "name": "stdout",
     "output_type": "stream",
     "text": [
      "Query URL: https://catalogue.dataspace.copernicus.eu/odata/v1/Bursts?$filter=OrbitDirection eq 'DESCENDING' and ContentDate/Start ge 2024-08-01T00:00:00 and ContentDate/Start le 2024-08-10T00:00:00 and RelativeOrbitNumber eq 8 and OperationalMode eq 'IW'&$orderby=ContentDate/Start desc&$top=20&$count=true\n",
      "\n",
      "Found 20 bursts from descending orbit #8\n"
     ]
    },
    {
     "data": {
      "application/vnd.microsoft.datawrangler.viewer.v0+json": {
       "columns": [
        {
         "name": "index",
         "rawType": "int64",
         "type": "integer"
        },
        {
         "name": "Id",
         "rawType": "object",
         "type": "string"
        },
        {
         "name": "BurstId",
         "rawType": "int64",
         "type": "integer"
        },
        {
         "name": "SwathIdentifier",
         "rawType": "object",
         "type": "string"
        },
        {
         "name": "ParentProductName",
         "rawType": "object",
         "type": "string"
        },
        {
         "name": "PolarisationChannels",
         "rawType": "object",
         "type": "string"
        },
        {
         "name": "OrbitDirection",
         "rawType": "object",
         "type": "string"
        },
        {
         "name": "ContentDate",
         "rawType": "object",
         "type": "unknown"
        }
       ],
       "ref": "20364300-e30b-4a0c-aef1-049ab7d50885",
       "rows": [
        [
         "0",
         "33566f0a-cad1-44a4-a050-8702d921de1e",
         "15936",
         "IW3",
         "S1A_IW_SLC__1SDV_20240802T061309_20240802T061328_055030_06B44E_DDE2.SAFE",
         "VH",
         "DESCENDING",
         "{'Start': '2024-08-02T06:13:26.671048Z', 'End': '2024-08-02T06:13:27.575653Z'}"
        ],
        [
         "1",
         "f5a9eed2-1b5c-42ab-80e5-2453d028ca1f",
         "15936",
         "IW3",
         "S1A_IW_SLC__1SDV_20240802T061309_20240802T061328_055030_06B44E_DDE2.SAFE",
         "VV",
         "DESCENDING",
         "{'Start': '2024-08-02T06:13:26.671048Z', 'End': '2024-08-02T06:13:27.575653Z'}"
        ],
        [
         "2",
         "9de9e560-d75e-4737-96c5-02adc5494d21",
         "15936",
         "IW2",
         "S1A_IW_SLC__1SDV_20240802T061309_20240802T061328_055030_06B44E_DDE2.SAFE",
         "VH",
         "DESCENDING",
         "{'Start': '2024-08-02T06:13:25.593011Z', 'End': '2024-08-02T06:13:26.639422Z'}"
        ],
        [
         "3",
         "b6c882f9-66de-43ea-b058-4da6bb5f6bf1",
         "15936",
         "IW2",
         "S1A_IW_SLC__1SDV_20240802T061309_20240802T061328_055030_06B44E_DDE2.SAFE",
         "VV",
         "DESCENDING",
         "{'Start': '2024-08-02T06:13:25.593011Z', 'End': '2024-08-02T06:13:26.639422Z'}"
        ],
        [
         "4",
         "680f349d-6d45-44ca-b556-da9e334006a8",
         "15936",
         "IW1",
         "S1A_IW_SLC__1SDV_20240802T061309_20240802T061328_055030_06B44E_DDE2.SAFE",
         "VH",
         "DESCENDING",
         "{'Start': '2024-08-02T06:13:24.760808Z', 'End': '2024-08-02T06:13:25.639017Z'}"
        ]
       ],
       "shape": {
        "columns": 7,
        "rows": 5
       }
      },
      "text/html": [
       "<div>\n",
       "<style scoped>\n",
       "    .dataframe tbody tr th:only-of-type {\n",
       "        vertical-align: middle;\n",
       "    }\n",
       "\n",
       "    .dataframe tbody tr th {\n",
       "        vertical-align: top;\n",
       "    }\n",
       "\n",
       "    .dataframe thead th {\n",
       "        text-align: right;\n",
       "    }\n",
       "</style>\n",
       "<table border=\"1\" class=\"dataframe\">\n",
       "  <thead>\n",
       "    <tr style=\"text-align: right;\">\n",
       "      <th></th>\n",
       "      <th>Id</th>\n",
       "      <th>BurstId</th>\n",
       "      <th>SwathIdentifier</th>\n",
       "      <th>ParentProductName</th>\n",
       "      <th>PolarisationChannels</th>\n",
       "      <th>OrbitDirection</th>\n",
       "      <th>ContentDate</th>\n",
       "    </tr>\n",
       "  </thead>\n",
       "  <tbody>\n",
       "    <tr>\n",
       "      <th>0</th>\n",
       "      <td>33566f0a-cad1-44a4-a050-8702d921de1e</td>\n",
       "      <td>15936</td>\n",
       "      <td>IW3</td>\n",
       "      <td>S1A_IW_SLC__1SDV_20240802T061309_20240802T0613...</td>\n",
       "      <td>VH</td>\n",
       "      <td>DESCENDING</td>\n",
       "      <td>{'Start': '2024-08-02T06:13:26.671048Z', 'End'...</td>\n",
       "    </tr>\n",
       "    <tr>\n",
       "      <th>1</th>\n",
       "      <td>f5a9eed2-1b5c-42ab-80e5-2453d028ca1f</td>\n",
       "      <td>15936</td>\n",
       "      <td>IW3</td>\n",
       "      <td>S1A_IW_SLC__1SDV_20240802T061309_20240802T0613...</td>\n",
       "      <td>VV</td>\n",
       "      <td>DESCENDING</td>\n",
       "      <td>{'Start': '2024-08-02T06:13:26.671048Z', 'End'...</td>\n",
       "    </tr>\n",
       "    <tr>\n",
       "      <th>2</th>\n",
       "      <td>9de9e560-d75e-4737-96c5-02adc5494d21</td>\n",
       "      <td>15936</td>\n",
       "      <td>IW2</td>\n",
       "      <td>S1A_IW_SLC__1SDV_20240802T061309_20240802T0613...</td>\n",
       "      <td>VH</td>\n",
       "      <td>DESCENDING</td>\n",
       "      <td>{'Start': '2024-08-02T06:13:25.593011Z', 'End'...</td>\n",
       "    </tr>\n",
       "    <tr>\n",
       "      <th>3</th>\n",
       "      <td>b6c882f9-66de-43ea-b058-4da6bb5f6bf1</td>\n",
       "      <td>15936</td>\n",
       "      <td>IW2</td>\n",
       "      <td>S1A_IW_SLC__1SDV_20240802T061309_20240802T0613...</td>\n",
       "      <td>VV</td>\n",
       "      <td>DESCENDING</td>\n",
       "      <td>{'Start': '2024-08-02T06:13:25.593011Z', 'End'...</td>\n",
       "    </tr>\n",
       "    <tr>\n",
       "      <th>4</th>\n",
       "      <td>680f349d-6d45-44ca-b556-da9e334006a8</td>\n",
       "      <td>15936</td>\n",
       "      <td>IW1</td>\n",
       "      <td>S1A_IW_SLC__1SDV_20240802T061309_20240802T0613...</td>\n",
       "      <td>VH</td>\n",
       "      <td>DESCENDING</td>\n",
       "      <td>{'Start': '2024-08-02T06:13:24.760808Z', 'End'...</td>\n",
       "    </tr>\n",
       "  </tbody>\n",
       "</table>\n",
       "</div>"
      ],
      "text/plain": [
       "                                     Id  BurstId SwathIdentifier  \\\n",
       "0  33566f0a-cad1-44a4-a050-8702d921de1e    15936             IW3   \n",
       "1  f5a9eed2-1b5c-42ab-80e5-2453d028ca1f    15936             IW3   \n",
       "2  9de9e560-d75e-4737-96c5-02adc5494d21    15936             IW2   \n",
       "3  b6c882f9-66de-43ea-b058-4da6bb5f6bf1    15936             IW2   \n",
       "4  680f349d-6d45-44ca-b556-da9e334006a8    15936             IW1   \n",
       "\n",
       "                                   ParentProductName PolarisationChannels  \\\n",
       "0  S1A_IW_SLC__1SDV_20240802T061309_20240802T0613...                   VH   \n",
       "1  S1A_IW_SLC__1SDV_20240802T061309_20240802T0613...                   VV   \n",
       "2  S1A_IW_SLC__1SDV_20240802T061309_20240802T0613...                   VH   \n",
       "3  S1A_IW_SLC__1SDV_20240802T061309_20240802T0613...                   VV   \n",
       "4  S1A_IW_SLC__1SDV_20240802T061309_20240802T0613...                   VH   \n",
       "\n",
       "  OrbitDirection                                        ContentDate  \n",
       "0     DESCENDING  {'Start': '2024-08-02T06:13:26.671048Z', 'End'...  \n",
       "1     DESCENDING  {'Start': '2024-08-02T06:13:26.671048Z', 'End'...  \n",
       "2     DESCENDING  {'Start': '2024-08-02T06:13:25.593011Z', 'End'...  \n",
       "3     DESCENDING  {'Start': '2024-08-02T06:13:25.593011Z', 'End'...  \n",
       "4     DESCENDING  {'Start': '2024-08-02T06:13:24.760808Z', 'End'...  "
      ]
     },
     "execution_count": 8,
     "metadata": {},
     "output_type": "execute_result"
    }
   ],
   "source": [
    "\"\"\"\n",
    "Filter by Orbit Parameters\n",
    "\n",
    "Search for bursts from a specific orbit direction and relative orbit number.\n",
    "This is useful for consistent time-series analysis.\n",
    "\"\"\"\n",
    "searcher = CopernicusDataSearcher()\n",
    "\n",
    "searcher.query_by_filter(\n",
    "    burst_mode=True,\n",
    "    orbit_direction='DESCENDING',\n",
    "    relative_orbit_number=8,\n",
    "    operational_mode='IW',\n",
    "    start_date='2024-08-01T00:00:00',\n",
    "    end_date='2024-08-10T00:00:00',\n",
    "    top=20,\n",
    "    count=True\n",
    ")\n",
    "\n",
    "print(f'Query URL: {searcher._build_query()}\\n')\n",
    "\n",
    "# Execute and display\n",
    "df = searcher.execute_query()\n",
    "print(f'Found {len(df)} bursts from descending orbit #8')\n",
    "searcher.display_results(top_n=5)"
   ]
  },
  {
   "cell_type": "markdown",
   "id": "bb12af33",
   "metadata": {},
   "source": [
    "## Example 7: Advanced Multi-Parameter Burst Search\n",
    "\n",
    "Combine multiple burst-specific parameters for highly targeted searches."
   ]
  },
  {
   "cell_type": "code",
   "execution_count": 9,
   "id": "e39215db",
   "metadata": {},
   "outputs": [
    {
     "name": "stdout",
     "output_type": "stream",
     "text": [
      "Query URL: https://catalogue.dataspace.copernicus.eu/odata/v1/Bursts?$filter=OrbitDirection eq 'DESCENDING' and ContentDate/Start ge 2024-08-01T00:00:00 and ContentDate/Start le 2024-08-15T00:00:00 and BurstId eq 15804 and SwathIdentifier eq 'IW2' and ParentProductType eq 'IW_SLC__1S' and RelativeOrbitNumber eq 8 and OperationalMode eq 'IW' and PolarisationChannels eq 'VV' and PlatformSerialIdentifier eq 'A'&$orderby=ContentDate/Start desc&$top=20&$count=true\n",
      "\n",
      "Found 2 bursts matching all criteria\n",
      "Total available: 2\n"
     ]
    },
    {
     "data": {
      "application/vnd.microsoft.datawrangler.viewer.v0+json": {
       "columns": [
        {
         "name": "index",
         "rawType": "int64",
         "type": "integer"
        },
        {
         "name": "Id",
         "rawType": "object",
         "type": "string"
        },
        {
         "name": "BurstId",
         "rawType": "int64",
         "type": "integer"
        },
        {
         "name": "SwathIdentifier",
         "rawType": "object",
         "type": "string"
        },
        {
         "name": "ParentProductName",
         "rawType": "object",
         "type": "string"
        },
        {
         "name": "PolarisationChannels",
         "rawType": "object",
         "type": "string"
        },
        {
         "name": "OrbitDirection",
         "rawType": "object",
         "type": "string"
        },
        {
         "name": "ContentDate",
         "rawType": "object",
         "type": "unknown"
        }
       ],
       "ref": "cafb750e-e7f2-4e63-bad7-076b35f915c5",
       "rows": [
        [
         "0",
         "5d1ec25e-ca40-4f12-bd36-c291903ee40c",
         "15804",
         "IW2",
         "S1A_IW_SLC__1SDV_20240814T060718_20240814T060746_055205_06BA8F_C87A.SAFE",
         "VV",
         "DESCENDING",
         "{'Start': '2024-08-14T06:07:20.884510Z', 'End': '2024-08-14T06:07:21.930921Z'}"
        ],
        [
         "1",
         "2353e9aa-a863-4048-b71f-a4028618334f",
         "15804",
         "IW2",
         "S1A_IW_SLC__1SDV_20240802T060719_20240802T060746_055030_06B44E_E7CC.SAFE",
         "VV",
         "DESCENDING",
         "{'Start': '2024-08-02T06:07:21.500461Z', 'End': '2024-08-02T06:07:22.546872Z'}"
        ]
       ],
       "shape": {
        "columns": 7,
        "rows": 2
       }
      },
      "text/html": [
       "<div>\n",
       "<style scoped>\n",
       "    .dataframe tbody tr th:only-of-type {\n",
       "        vertical-align: middle;\n",
       "    }\n",
       "\n",
       "    .dataframe tbody tr th {\n",
       "        vertical-align: top;\n",
       "    }\n",
       "\n",
       "    .dataframe thead th {\n",
       "        text-align: right;\n",
       "    }\n",
       "</style>\n",
       "<table border=\"1\" class=\"dataframe\">\n",
       "  <thead>\n",
       "    <tr style=\"text-align: right;\">\n",
       "      <th></th>\n",
       "      <th>Id</th>\n",
       "      <th>BurstId</th>\n",
       "      <th>SwathIdentifier</th>\n",
       "      <th>ParentProductName</th>\n",
       "      <th>PolarisationChannels</th>\n",
       "      <th>OrbitDirection</th>\n",
       "      <th>ContentDate</th>\n",
       "    </tr>\n",
       "  </thead>\n",
       "  <tbody>\n",
       "    <tr>\n",
       "      <th>0</th>\n",
       "      <td>5d1ec25e-ca40-4f12-bd36-c291903ee40c</td>\n",
       "      <td>15804</td>\n",
       "      <td>IW2</td>\n",
       "      <td>S1A_IW_SLC__1SDV_20240814T060718_20240814T0607...</td>\n",
       "      <td>VV</td>\n",
       "      <td>DESCENDING</td>\n",
       "      <td>{'Start': '2024-08-14T06:07:20.884510Z', 'End'...</td>\n",
       "    </tr>\n",
       "    <tr>\n",
       "      <th>1</th>\n",
       "      <td>2353e9aa-a863-4048-b71f-a4028618334f</td>\n",
       "      <td>15804</td>\n",
       "      <td>IW2</td>\n",
       "      <td>S1A_IW_SLC__1SDV_20240802T060719_20240802T0607...</td>\n",
       "      <td>VV</td>\n",
       "      <td>DESCENDING</td>\n",
       "      <td>{'Start': '2024-08-02T06:07:21.500461Z', 'End'...</td>\n",
       "    </tr>\n",
       "  </tbody>\n",
       "</table>\n",
       "</div>"
      ],
      "text/plain": [
       "                                     Id  BurstId SwathIdentifier  \\\n",
       "0  5d1ec25e-ca40-4f12-bd36-c291903ee40c    15804             IW2   \n",
       "1  2353e9aa-a863-4048-b71f-a4028618334f    15804             IW2   \n",
       "\n",
       "                                   ParentProductName PolarisationChannels  \\\n",
       "0  S1A_IW_SLC__1SDV_20240814T060718_20240814T0607...                   VV   \n",
       "1  S1A_IW_SLC__1SDV_20240802T060719_20240802T0607...                   VV   \n",
       "\n",
       "  OrbitDirection                                        ContentDate  \n",
       "0     DESCENDING  {'Start': '2024-08-14T06:07:20.884510Z', 'End'...  \n",
       "1     DESCENDING  {'Start': '2024-08-02T06:07:21.500461Z', 'End'...  "
      ]
     },
     "execution_count": 9,
     "metadata": {},
     "output_type": "execute_result"
    }
   ],
   "source": [
    "\"\"\"\n",
    "Advanced Multi-Parameter Search\n",
    "\n",
    "Demonstrate combining multiple burst-specific filters for precise queries.\n",
    "This example searches for a specific burst ID with additional constraints.\n",
    "\"\"\"\n",
    "searcher = CopernicusDataSearcher()\n",
    "\n",
    "searcher.query_by_filter(\n",
    "    burst_mode=True,\n",
    "    burst_id=15804,\n",
    "    swath_identifier='IW2',\n",
    "    parent_product_type='IW_SLC__1S',\n",
    "    orbit_direction='DESCENDING',\n",
    "    relative_orbit_number=8,\n",
    "    operational_mode='IW',\n",
    "    polarisation_channels='VV',\n",
    "    platform_serial_identifier='A',  # Sentinel-1A\n",
    "    start_date='2024-08-01T00:00:00',\n",
    "    end_date='2024-08-15T00:00:00',\n",
    "    top=20,\n",
    "    count=True\n",
    ")\n",
    "\n",
    "print(f'Query URL: {searcher._build_query()}\\n')\n",
    "\n",
    "# Execute and display\n",
    "df = searcher.execute_query()\n",
    "print(f'Found {len(df)} bursts matching all criteria')\n",
    "print(f'Total available: {searcher.num_results}')\n",
    "searcher.display_results(top_n=10)"
   ]
  },
  {
   "cell_type": "markdown",
   "id": "5a6aad0e",
   "metadata": {},
   "source": [
    "## Example 8: Analyzing Burst Results\n",
    "\n",
    "Once you have burst results, you can analyze the data to understand burst distribution, coverage, and other characteristics."
   ]
  },
  {
   "cell_type": "code",
   "execution_count": 10,
   "id": "d8f162b9",
   "metadata": {},
   "outputs": [
    {
     "name": "stdout",
     "output_type": "stream",
     "text": [
      "=== Burst Search Results Analysis ===\n",
      "\n",
      "Total bursts found: 100\n",
      "Total available: 4369\n",
      "\n",
      "=== Burst Characteristics ===\n",
      "\n",
      "Swath Distribution:\n",
      "SwathIdentifier\n",
      "IW2    100\n",
      "Name: count, dtype: int64\n",
      "\n",
      "Polarization Channels:\n",
      "PolarisationChannels\n",
      "VV    100\n",
      "Name: count, dtype: int64\n",
      "\n",
      "Number of unique parent products: 12\n",
      "\n",
      "Number of unique burst IDs: 100\n",
      "Burst ID range: 35540 - 37561\n",
      "\n",
      "=== Sample Results ===\n"
     ]
    }
   ],
   "source": [
    "\"\"\"\n",
    "Analyze Burst Search Results\n",
    "\n",
    "Perform basic analysis on burst search results to understand:\n",
    "- Distribution across swaths\n",
    "- Polarization channels available\n",
    "- Parent products\n",
    "- Temporal coverage\n",
    "\"\"\"\n",
    "searcher = CopernicusDataSearcher()\n",
    "\n",
    "# Search for bursts with broad criteria\n",
    "searcher.query_by_filter(\n",
    "    burst_mode=True,\n",
    "    orbit_direction='DESCENDING',\n",
    "    swath_identifier='IW2',\n",
    "    polarisation_channels='VV',\n",
    "    start_date='2024-08-01T00:00:00',\n",
    "    end_date='2024-08-03T00:00:00',\n",
    "    top=100,\n",
    "    count=True\n",
    ")\n",
    "\n",
    "# Execute query\n",
    "df = searcher.execute_query()\n",
    "\n",
    "print(f'=== Burst Search Results Analysis ===\\n')\n",
    "print(f'Total bursts found: {len(df)}')\n",
    "print(f'Total available: {searcher.num_results}\\n')\n",
    "\n",
    "# Analyze burst distribution\n",
    "if len(df) > 0:\n",
    "    print(f'=== Burst Characteristics ===')\n",
    "    \n",
    "    # Check available columns\n",
    "    if 'SwathIdentifier' in df.columns:\n",
    "        print(f'\\nSwath Distribution:')\n",
    "        print(df['SwathIdentifier'].value_counts())\n",
    "    \n",
    "    if 'PolarisationChannels' in df.columns:\n",
    "        print(f'\\nPolarization Channels:')\n",
    "        print(df['PolarisationChannels'].value_counts())\n",
    "    \n",
    "    if 'ParentProductName' in df.columns:\n",
    "        print(f'\\nNumber of unique parent products: {df[\"ParentProductName\"].nunique()}')\n",
    "    \n",
    "    if 'BurstId' in df.columns:\n",
    "        print(f'\\nNumber of unique burst IDs: {df[\"BurstId\"].nunique()}')\n",
    "        print(f'Burst ID range: {df[\"BurstId\"].min()} - {df[\"BurstId\"].max()}')\n",
    "    \n",
    "    print(f'\\n=== Sample Results ===')\n",
    "    searcher.display_results(top_n=5)"
   ]
  }
 ],
 "metadata": {
  "kernelspec": {
   "display_name": ".venv",
   "language": "python",
   "name": "python3"
  },
  "language_info": {
   "codemirror_mode": {
    "name": "ipython",
    "version": 3
   },
   "file_extension": ".py",
   "mimetype": "text/x-python",
   "name": "python",
   "nbconvert_exporter": "python",
   "pygments_lexer": "ipython3",
   "version": "3.9.6"
  }
 },
 "nbformat": 4,
 "nbformat_minor": 5
}
