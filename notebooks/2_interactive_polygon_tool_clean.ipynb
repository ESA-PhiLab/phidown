{
 "cells": [
  {
   "cell_type": "markdown",
   "id": "d51fb900",
   "metadata": {},
   "source": [
    "# Interactive Polygon Drawing Tool\n",
    "\n",
    "This interactive polygon drawing tool provides:\n",
    "\n",
    "✅ **Easy polygon drawing** with intuitive map controls  \n",
    "✅ **Real-time WKT export** for immediate use with phidown  \n",
    "✅ **Polygon editing and deletion** capabilities  \n",
    "✅ **WKT import functionality** to visualize existing polygons  \n",
    "✅ **30+ premium basemap layers** including satellite imagery, topographic, dark themes, and specialized scientific maps  \n",
    "✅ **Seamless integration** with phidown search functionality  \n",
    "\n",
    "\n",
    "<details>\n",
    "<summary><strong>Available Basemap Categories (click to expand)</strong></summary>\n",
    "\n",
    "### 🛰️ Satellite & Imagery (6 layers)\n",
    "- **Esri World Imagery** - High-resolution satellite imagery\n",
    "- **NASA Blue Marble** - Earth from space view  \n",
    "- **NASA Earth at Night** - Night lights and urban areas\n",
    "- **NASA MODIS True Color** - Real satellite data\n",
    "- **NASA VIIRS True Color** - High-quality satellite imagery\n",
    "- **Stadia Satellite** - Alternative satellite provider\n",
    "\n",
    "### 🗺️ Street & Road Maps (6 layers)\n",
    "- **OpenStreetMap** - Classic open-source mapping\n",
    "- **Esri World Street** - Professional street mapping\n",
    "- **CartoDB Positron** - Clean, minimal street map\n",
    "- **CartoDB Voyager** - Balanced street and terrain\n",
    "- **Stadia OSM Bright** - Bright, clear street view\n",
    "- **Stadia Alidade Smooth** - Modern street styling\n",
    "\n",
    "### ⛰️ Topographic & Terrain (7 layers)\n",
    "- **Esri World Topo** - Comprehensive topographic\n",
    "- **Esri World Terrain** - Terrain and elevation\n",
    "- **Esri World Physical** - Physical geography\n",
    "- **Esri Shaded Relief** - 3D terrain visualization\n",
    "- **Stadia Terrain** - Terrain with labels\n",
    "- **Stadia Outdoors** - Hiking and outdoor focus\n",
    "- **OpenTopoMap** - Open-source topographic\n",
    "\n",
    "### 🌑 Dark Themes (3 layers)\n",
    "- **CartoDB Dark Matter** - Clean dark theme\n",
    "- **Stadia Alidade Dark** - Modern dark styling  \n",
    "- **Stadia Toner** - High-contrast black/white\n",
    "\n",
    "### 🎨 Artistic & Special (4 layers)\n",
    "- **Stadia Watercolor** - Beautiful artistic style\n",
    "- **Esri National Geographic** - Classic NatGeo styling\n",
    "- **Esri Ocean Basemap** - Marine-optimized\n",
    "- **Esri World Gray Canvas** - Neutral background\n",
    "\n",
    "### ❄️ Specialized Scientific (4 layers)\n",
    "- **Esri Arctic Imagery** - Polar region focus\n",
    "- **NASA Ice Velocity** - Ice movement data\n",
    "- **NASA Land Surface Temperature** - Climate data\n",
    "- **NASA Snow Cover** - Snow/ice coverage\n",
    "\n",
    "</details>\n",
    "\n",
    "\n",
    "### 📝 Quick Reference: When to Use Each Category\n",
    "\n",
    "| **Analysis Type** | **Recommended Category** | **Best Basemap** |\n",
    "|-------------------|-------------------------|------------------|\n",
    "| Satellite data search | 🛰️ Satellite & Imagery | Esri World Imagery |\n",
    "| Terrain analysis | ⛰️ Topographic | Esri World Topo |\n",
    "| Urban studies | 🜙 Night Lights | NASA Earth at Night |\n",
    "| Arctic research | ❄️ Specialized | Arctic Imagery |\n",
    "| Long work sessions | 🌑 Dark Themes | CartoDB Dark Matter |\n",
    "| Ocean/Marine areas | 🌊 Special | Esri Ocean Basemap |\n",
    "\n",
    "This notebook now uses the interactive tools from the phidown package for clean, modular code organization."
   ]
  },
  {
   "cell_type": "code",
   "execution_count": 1,
   "id": "121a4af9",
   "metadata": {},
   "outputs": [
    {
     "name": "stdout",
     "output_type": "stream",
     "text": [
      "Available Basemaps:\n",
      " - 🛰️ Esri World Imagery\n",
      " - 🌍 NASA Blue Marble\n",
      " - 🌙 NASA Earth at Night\n",
      " - 🛰️ NASA MODIS True Color\n",
      " - 🛰️ NASA VIIRS True Color\n"
     ]
    },
    {
     "data": {
      "application/vnd.jupyter.widget-view+json": {
       "model_id": "005e5fb6f5b040d8802b6324d7572c10",
       "version_major": 2,
       "version_minor": 0
      },
      "text/plain": [
       "VBox(children=(HTML(value='\\n            <div style=\"background-color: #f0f8ff; padding: 10px; border-radius: …"
      ]
     },
     "execution_count": 1,
     "metadata": {},
     "output_type": "execute_result"
    }
   ],
   "source": [
    "# Import the interactive polygon tool from phidown\n",
    "from phidown.interactive_tools import (\n",
    "    InteractivePolygonTool, \n",
    "    create_polygon_tool, \n",
    "    search_with_polygon\n",
    ")\n",
    "from phidown.search import CopernicusDataSearcher\n",
    "from ipyleaflet import basemaps\n",
    "\n",
    "tool = create_polygon_tool(\n",
    "    center=(40.7, 14.455),\n",
    "    zoom=12,\n",
    "    basemap_type='satellite',\n",
    "    show_basemap_switcher=False,\n",
    ")\n",
    "\n",
    "tool.print_available_basemaps(max_items=5)\n",
    "tool.display()"
   ]
  },
  {
   "cell_type": "markdown",
   "id": "ec14b3a5",
   "metadata": {},
   "source": [
    "## Direct Search Integration\n",
    "\n",
    "Use the search integration function to automatically search for satellite data using drawn polygons:"
   ]
  },
  {
   "cell_type": "code",
   "execution_count": null,
   "id": "fae141a3",
   "metadata": {},
   "outputs": [],
   "source": [
    "\"\"\"\n",
    "Demonstrate direct search integration with drawn polygons.\n",
    "\"\"\"\n",
    "print('🚀 Search function ready!')\n",
    "print('📝 Instructions:')\n",
    "print('1. Draw a polygon on the map above')\n",
    "print('2. Run this cell')\n",
    "print('3. View the search results\\n')\n",
    "\n",
    "# Search using the basic tool (make sure you've drawn a polygon first!)\n",
    "results = search_with_polygon(\n",
    "    polygon_tool=tool,\n",
    "    collection_name='SENTINEL-2',\n",
    "    product_type='S2MSI1C',\n",
    "    start_date='2022-05-01T00:00:00',\n",
    "    end_date='2024-05-31T00:00:00',\n",
    "    cloud_cover_threshold=50,\n",
    "    top=1000,\n",
    ")\n",
    "\n",
    "if results is not None:\n",
    "    print(f'📊 Search completed! Found {len(results)} products')\n",
    "else:\n",
    "    print('❌ No results found or no polygon drawn')\n",
    "\n",
    "results\n"
   ]
  },
  {
   "cell_type": "markdown",
   "id": "a34c60b5",
   "metadata": {},
   "source": [
    "## Advanced Usage Examples\n",
    "\n",
    "### Custom Polygon Tool Configuration\n",
    "\n",
    "Create a highly customized polygon tool for specific use cases:"
   ]
  },
  {
   "cell_type": "code",
   "execution_count": null,
   "id": "bf7eb59b",
   "metadata": {},
   "outputs": [],
   "source": [
    "# Advanced custom configuration\n",
    "custom_tool = InteractivePolygonTool(\n",
    "    center=(3, -6),  \n",
    "    zoom=4,\n",
    "    basemap=basemaps.Esri.ArcticImagery,  # Arctic-specific basemap\n",
    "    show_basemap_switcher=True\n",
    ")\n",
    "\n",
    "print(\"🏔️ Arctic research tool created!\")\n",
    "print(\"📍 Location: Reykjavik, Iceland\")\n",
    "print(\"🗺️ Basemap: Arctic Imagery\")\n",
    "print(\"🎛️ Full basemap collection available\")\n",
    "\n",
    "# Display the arctic tool\n",
    "display(custom_tool.display())"
   ]
  }
 ],
 "metadata": {
  "kernelspec": {
   "display_name": ".venv",
   "language": "python",
   "name": "python3"
  },
  "language_info": {
   "codemirror_mode": {
    "name": "ipython",
    "version": 3
   },
   "file_extension": ".py",
   "mimetype": "text/x-python",
   "name": "python",
   "nbconvert_exporter": "python",
   "pygments_lexer": "ipython3",
   "version": "3.12.9"
  }
 },
 "nbformat": 4,
 "nbformat_minor": 5
}
