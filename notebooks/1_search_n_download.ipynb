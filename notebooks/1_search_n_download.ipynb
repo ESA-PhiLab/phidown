{
 "cells": [
  {
   "cell_type": "markdown",
   "id": "4fbb5fa0",
   "metadata": {},
   "source": [
    "# Copernicus Data Search and Download Notebook\n",
    "\n",
    "This notebook demonstrates how to search for and download Copernicus satellite data using the phidown library.\n",
    "\n",
    "## Features:\n",
    "- Search SENTINEL-1 data with customizable filters\n",
    "- Filter by processing level, operational mode, and other attributes\n",
    "- Download selected products to local directory\n",
    "\n",
    "## Usage:\n",
    "1. Configure search parameters in the first cell\n",
    "2. Execute the search query\n",
    "3. Review results and download selected products"
   ]
  },
  {
   "cell_type": "code",
   "execution_count": 2,
   "id": "10d56e22",
   "metadata": {},
   "outputs": [
    {
     "name": "stderr",
     "output_type": "stream",
     "text": [
      "/Users/roberto.delprete/Library/CloudStorage/OneDrive-ESA/Desktop/Repos/phidown/.venv/lib/python3.9/site-packages/urllib3/__init__.py:35: NotOpenSSLWarning: urllib3 v2 only supports OpenSSL 1.1.1+, currently the 'ssl' module is compiled with 'LibreSSL 2.8.3'. See: https://github.com/urllib3/urllib3/issues/3020\n",
      "  warnings.warn(\n"
     ]
    },
    {
     "name": "stdout",
     "output_type": "stream",
     "text": [
      "Number of results: 910\n"
     ]
    },
    {
     "data": {
      "application/vnd.microsoft.datawrangler.viewer.v0+json": {
       "columns": [
        {
         "name": "index",
         "rawType": "int64",
         "type": "integer"
        },
        {
         "name": "Id",
         "rawType": "object",
         "type": "string"
        },
        {
         "name": "Name",
         "rawType": "object",
         "type": "string"
        },
        {
         "name": "S3Path",
         "rawType": "object",
         "type": "string"
        },
        {
         "name": "GeoFootprint",
         "rawType": "object",
         "type": "unknown"
        },
        {
         "name": "OriginDate",
         "rawType": "object",
         "type": "string"
        },
        {
         "name": "Attributes",
         "rawType": "object",
         "type": "unknown"
        }
       ],
       "ref": "1201666e-6462-4e43-9a9b-ca1fbeef4ff7",
       "rows": [
        [
         "0",
         "00cd06ea-80e6-4ee2-9fb3-b5c0ec189186",
         "S1A_S6_RAW__0SDV_20240502T195132_20240502T195153_053697_0685CC_E173.SAFE",
         "/eodata/Sentinel-1/SAR/S6_RAW__0S/2024/05/02/S1A_S6_RAW__0SDV_20240502T195132_20240502T195153_053697_0685CC_E173.SAFE",
         "{'type': 'Polygon', 'coordinates': [[[-24.5551, 14.1238], [-23.8367, 14.2118], [-24.0805, 15.459], [-24.8032, 15.3719], [-24.5551, 14.1238]]]}",
         "2024-05-02 20:15:12",
         "[{'@odata.type': '#OData.CSC.StringAttribute', 'Name': 'origin', 'Value': 'ESA', 'ValueType': 'String'}, {'@odata.type': '#OData.CSC.IntegerAttribute', 'Name': 'datatakeID', 'Value': 427468, 'ValueType': 'Integer'}, {'@odata.type': '#OData.CSC.IntegerAttribute', 'Name': 'cycleNumber', 'Value': 321, 'ValueType': 'Integer'}, {'@odata.type': '#OData.CSC.IntegerAttribute', 'Name': 'orbitNumber', 'Value': 53697, 'ValueType': 'Integer'}, {'@odata.type': '#OData.CSC.IntegerAttribute', 'Name': 'sliceNumber', 'Value': 1, 'ValueType': 'Integer'}, {'@odata.type': '#OData.CSC.StringAttribute', 'Name': 'productClass', 'Value': 'S', 'ValueType': 'String'}, {'@odata.type': '#OData.CSC.StringAttribute', 'Name': 'orbitDirection', 'Value': 'ASCENDING', 'ValueType': 'String'}, {'@odata.type': '#OData.CSC.DateTimeOffsetAttribute', 'Name': 'processingDate', 'Value': '2024-05-02T20:13:41.753139Z', 'ValueType': 'DateTimeOffset'}, {'@odata.type': '#OData.CSC.StringAttribute', 'Name': 'operationalMode', 'Value': 'SM', 'ValueType': 'String'}, {'@odata.type': '#OData.CSC.StringAttribute', 'Name': 'processingLevel', 'Value': 'LEVEL0', 'ValueType': 'String'}, {'@odata.type': '#OData.CSC.StringAttribute', 'Name': 'swathIdentifier', 'Value': '6', 'ValueType': 'String'}, {'@odata.type': '#OData.CSC.StringAttribute', 'Name': 'processingCenter', 'Value': 'S1 Production Service-SERCO', 'ValueType': 'String'}, {'@odata.type': '#OData.CSC.BooleanAttribute', 'Name': 'sliceProductFlag', 'Value': False, 'ValueType': 'Boolean'}, {'@odata.type': '#OData.CSC.StringAttribute', 'Name': 'platformShortName', 'Value': 'SENTINEL-1', 'ValueType': 'String'}, {'@odata.type': '#OData.CSC.StringAttribute', 'Name': 'instrumentShortName', 'Value': 'SAR', 'ValueType': 'String'}, {'@odata.type': '#OData.CSC.IntegerAttribute', 'Name': 'relativeOrbitNumber', 'Value': 75, 'ValueType': 'Integer'}, {'@odata.type': '#OData.CSC.StringAttribute', 'Name': 'polarisationChannels', 'Value': 'VH&VV', 'ValueType': 'String'}, {'@odata.type': '#OData.CSC.StringAttribute', 'Name': 'productConsolidation', 'Value': 'SLICE', 'ValueType': 'String'}, {'@odata.type': '#OData.CSC.StringAttribute', 'Name': 'platformSerialIdentifier', 'Value': 'A', 'ValueType': 'String'}, {'@odata.type': '#OData.CSC.IntegerAttribute', 'Name': 'instrumentConfigurationID', 'Value': 7, 'ValueType': 'Integer'}, {'@odata.type': '#OData.CSC.DoubleAttribute', 'Name': 'startTimeFromAscendingNode', 'Value': 222314.36, 'ValueType': 'Double'}, {'@odata.type': '#OData.CSC.DoubleAttribute', 'Name': 'completionTimeFromAscendingNode', 'Value': 242954.848, 'ValueType': 'Double'}, {'@odata.type': '#OData.CSC.StringAttribute', 'Name': 'productType', 'Value': 'S6_RAW__0S', 'ValueType': 'String'}, {'@odata.type': '#OData.CSC.DateTimeOffsetAttribute', 'Name': 'beginningDateTime', 'Value': '2024-05-02T19:51:32.488701Z', 'ValueType': 'DateTimeOffset'}, {'@odata.type': '#OData.CSC.DateTimeOffsetAttribute', 'Name': 'endingDateTime', 'Value': '2024-05-02T19:51:53.129189Z', 'ValueType': 'DateTimeOffset'}]"
        ],
        [
         "1",
         "e68c7e10-7213-443e-857c-f9ddadb648fb",
         "S1A_S4_RAW__0SDV_20240502T193657_20240502T193727_053696_0685CA_DEE6.SAFE",
         "/eodata/Sentinel-1/SAR/S4_RAW__0S/2024/05/02/S1A_S4_RAW__0SDV_20240502T193657_20240502T193727_053696_0685CA_DEE6.SAFE",
         "{'type': 'Polygon', 'coordinates': [[[-12.4077, -38.561], [-11.5174, -38.3888], [-12.21, -36.5871], [-13.0799, -36.7534], [-12.4077, -38.561]]]}",
         "2024-05-02 20:15:29",
         "[{'@odata.type': '#OData.CSC.StringAttribute', 'Name': 'origin', 'Value': 'ESA', 'ValueType': 'String'}, {'@odata.type': '#OData.CSC.IntegerAttribute', 'Name': 'datatakeID', 'Value': 427466, 'ValueType': 'Integer'}, {'@odata.type': '#OData.CSC.IntegerAttribute', 'Name': 'cycleNumber', 'Value': 321, 'ValueType': 'Integer'}, {'@odata.type': '#OData.CSC.IntegerAttribute', 'Name': 'orbitNumber', 'Value': 53696, 'ValueType': 'Integer'}, {'@odata.type': '#OData.CSC.IntegerAttribute', 'Name': 'sliceNumber', 'Value': 1, 'ValueType': 'Integer'}, {'@odata.type': '#OData.CSC.StringAttribute', 'Name': 'productClass', 'Value': 'S', 'ValueType': 'String'}, {'@odata.type': '#OData.CSC.StringAttribute', 'Name': 'orbitDirection', 'Value': 'ASCENDING', 'ValueType': 'String'}, {'@odata.type': '#OData.CSC.DateTimeOffsetAttribute', 'Name': 'processingDate', 'Value': '2024-05-02T20:13:43.395199Z', 'ValueType': 'DateTimeOffset'}, {'@odata.type': '#OData.CSC.StringAttribute', 'Name': 'operationalMode', 'Value': 'SM', 'ValueType': 'String'}, {'@odata.type': '#OData.CSC.StringAttribute', 'Name': 'processingLevel', 'Value': 'LEVEL0', 'ValueType': 'String'}, {'@odata.type': '#OData.CSC.StringAttribute', 'Name': 'swathIdentifier', 'Value': '4', 'ValueType': 'String'}, {'@odata.type': '#OData.CSC.StringAttribute', 'Name': 'processingCenter', 'Value': 'S1 Production Service-SERCO', 'ValueType': 'String'}, {'@odata.type': '#OData.CSC.BooleanAttribute', 'Name': 'sliceProductFlag', 'Value': False, 'ValueType': 'Boolean'}, {'@odata.type': '#OData.CSC.StringAttribute', 'Name': 'platformShortName', 'Value': 'SENTINEL-1', 'ValueType': 'String'}, {'@odata.type': '#OData.CSC.StringAttribute', 'Name': 'instrumentShortName', 'Value': 'SAR', 'ValueType': 'String'}, {'@odata.type': '#OData.CSC.IntegerAttribute', 'Name': 'relativeOrbitNumber', 'Value': 74, 'ValueType': 'Integer'}, {'@odata.type': '#OData.CSC.StringAttribute', 'Name': 'polarisationChannels', 'Value': 'VH&VV', 'ValueType': 'String'}, {'@odata.type': '#OData.CSC.StringAttribute', 'Name': 'productConsolidation', 'Value': 'SLICE', 'ValueType': 'String'}, {'@odata.type': '#OData.CSC.StringAttribute', 'Name': 'platformSerialIdentifier', 'Value': 'A', 'ValueType': 'String'}, {'@odata.type': '#OData.CSC.IntegerAttribute', 'Name': 'instrumentConfigurationID', 'Value': 7, 'ValueType': 'Integer'}, {'@odata.type': '#OData.CSC.DoubleAttribute', 'Name': 'startTimeFromAscendingNode', 'Value': 5271620.239, 'ValueType': 'Double'}, {'@odata.type': '#OData.CSC.DoubleAttribute', 'Name': 'completionTimeFromAscendingNode', 'Value': 5302268.616, 'ValueType': 'Double'}, {'@odata.type': '#OData.CSC.StringAttribute', 'Name': 'productType', 'Value': 'S4_RAW__0S', 'ValueType': 'String'}, {'@odata.type': '#OData.CSC.DateTimeOffsetAttribute', 'Name': 'beginningDateTime', 'Value': '2024-05-02T19:36:57.285667Z', 'ValueType': 'DateTimeOffset'}, {'@odata.type': '#OData.CSC.DateTimeOffsetAttribute', 'Name': 'endingDateTime', 'Value': '2024-05-02T19:37:27.934044Z', 'ValueType': 'DateTimeOffset'}]"
        ],
        [
         "2",
         "8f52959c-83d4-4568-8b9c-3bdc7933c14b",
         "S1A_S1_RAW__0SDH_20240502T121147_20240502T121217_053692_06859D_BB61.SAFE",
         "/eodata/Sentinel-1/SAR/S1_RAW__0S/2024/05/02/S1A_S1_RAW__0SDH_20240502T121147_20240502T121217_053692_06859D_BB61.SAFE",
         "{'type': 'Polygon', 'coordinates': [[[-88.2859, 40.6066], [-87.7645, 42.4446], [-88.7127, 42.5552], [-89.2075, 40.715], [-88.2859, 40.6066]]]}",
         "2024-05-02 13:07:28",
         "[{'@odata.type': '#OData.CSC.StringAttribute', 'Name': 'origin', 'Value': 'ESA', 'ValueType': 'String'}, {'@odata.type': '#OData.CSC.IntegerAttribute', 'Name': 'datatakeID', 'Value': 427421, 'ValueType': 'Integer'}, {'@odata.type': '#OData.CSC.IntegerAttribute', 'Name': 'cycleNumber', 'Value': 321, 'ValueType': 'Integer'}, {'@odata.type': '#OData.CSC.IntegerAttribute', 'Name': 'orbitNumber', 'Value': 53692, 'ValueType': 'Integer'}, {'@odata.type': '#OData.CSC.IntegerAttribute', 'Name': 'sliceNumber', 'Value': 1, 'ValueType': 'Integer'}, {'@odata.type': '#OData.CSC.StringAttribute', 'Name': 'productClass', 'Value': 'S', 'ValueType': 'String'}, {'@odata.type': '#OData.CSC.StringAttribute', 'Name': 'orbitDirection', 'Value': 'DESCENDING', 'ValueType': 'String'}, {'@odata.type': '#OData.CSC.DateTimeOffsetAttribute', 'Name': 'processingDate', 'Value': '2024-05-02T13:05:24.867650Z', 'ValueType': 'DateTimeOffset'}, {'@odata.type': '#OData.CSC.StringAttribute', 'Name': 'operationalMode', 'Value': 'SM', 'ValueType': 'String'}, {'@odata.type': '#OData.CSC.StringAttribute', 'Name': 'processingLevel', 'Value': 'LEVEL0', 'ValueType': 'String'}, {'@odata.type': '#OData.CSC.StringAttribute', 'Name': 'swathIdentifier', 'Value': '1', 'ValueType': 'String'}, {'@odata.type': '#OData.CSC.StringAttribute', 'Name': 'processingCenter', 'Value': 'S1 Production Service-SERCO', 'ValueType': 'String'}, {'@odata.type': '#OData.CSC.BooleanAttribute', 'Name': 'sliceProductFlag', 'Value': False, 'ValueType': 'Boolean'}, {'@odata.type': '#OData.CSC.StringAttribute', 'Name': 'platformShortName', 'Value': 'SENTINEL-1', 'ValueType': 'String'}, {'@odata.type': '#OData.CSC.StringAttribute', 'Name': 'instrumentShortName', 'Value': 'SAR', 'ValueType': 'String'}, {'@odata.type': '#OData.CSC.IntegerAttribute', 'Name': 'relativeOrbitNumber', 'Value': 70, 'ValueType': 'Integer'}, {'@odata.type': '#OData.CSC.StringAttribute', 'Name': 'polarisationChannels', 'Value': 'HH&HV', 'ValueType': 'String'}, {'@odata.type': '#OData.CSC.StringAttribute', 'Name': 'productConsolidation', 'Value': 'SLICE', 'ValueType': 'String'}, {'@odata.type': '#OData.CSC.StringAttribute', 'Name': 'platformSerialIdentifier', 'Value': 'A', 'ValueType': 'String'}, {'@odata.type': '#OData.CSC.IntegerAttribute', 'Name': 'instrumentConfigurationID', 'Value': 7, 'ValueType': 'Integer'}, {'@odata.type': '#OData.CSC.DoubleAttribute', 'Name': 'startTimeFromAscendingNode', 'Value': 2260108.66, 'ValueType': 'Double'}, {'@odata.type': '#OData.CSC.DoubleAttribute', 'Name': 'completionTimeFromAscendingNode', 'Value': 2290688.829, 'ValueType': 'Double'}, {'@odata.type': '#OData.CSC.StringAttribute', 'Name': 'productType', 'Value': 'S1_RAW__0S', 'ValueType': 'String'}, {'@odata.type': '#OData.CSC.DateTimeOffsetAttribute', 'Name': 'beginningDateTime', 'Value': '2024-05-02T12:11:47.360207Z', 'ValueType': 'DateTimeOffset'}, {'@odata.type': '#OData.CSC.DateTimeOffsetAttribute', 'Name': 'endingDateTime', 'Value': '2024-05-02T12:12:17.940376Z', 'ValueType': 'DateTimeOffset'}]"
        ],
        [
         "3",
         "54192b79-3683-4234-82f6-78f154af2d1c",
         "S1A_S4_RAW__0SDV_20240502T062925_20240502T062945_053688_068575_CCDD.SAFE",
         "/eodata/Sentinel-1/SAR/S4_RAW__0S/2024/05/02/S1A_S4_RAW__0SDV_20240502T062925_20240502T062945_053688_068575_CCDD.SAFE",
         "{'type': 'Polygon', 'coordinates': [[[-177.858, -29.9975], [-177.0517, -29.85], [-177.4375, -28.6239], [-178.2343, -28.7683], [-177.858, -29.9975]]]}",
         "2024-05-02 07:16:16",
         "[{'@odata.type': '#OData.CSC.StringAttribute', 'Name': 'origin', 'Value': 'ESA', 'ValueType': 'String'}, {'@odata.type': '#OData.CSC.IntegerAttribute', 'Name': 'datatakeID', 'Value': 427381, 'ValueType': 'Integer'}, {'@odata.type': '#OData.CSC.IntegerAttribute', 'Name': 'cycleNumber', 'Value': 321, 'ValueType': 'Integer'}, {'@odata.type': '#OData.CSC.IntegerAttribute', 'Name': 'orbitNumber', 'Value': 53688, 'ValueType': 'Integer'}, {'@odata.type': '#OData.CSC.IntegerAttribute', 'Name': 'sliceNumber', 'Value': 1, 'ValueType': 'Integer'}, {'@odata.type': '#OData.CSC.StringAttribute', 'Name': 'productClass', 'Value': 'S', 'ValueType': 'String'}, {'@odata.type': '#OData.CSC.StringAttribute', 'Name': 'orbitDirection', 'Value': 'ASCENDING', 'ValueType': 'String'}, {'@odata.type': '#OData.CSC.DateTimeOffsetAttribute', 'Name': 'processingDate', 'Value': '2024-05-02T07:15:00.599893Z', 'ValueType': 'DateTimeOffset'}, {'@odata.type': '#OData.CSC.StringAttribute', 'Name': 'operationalMode', 'Value': 'SM', 'ValueType': 'String'}, {'@odata.type': '#OData.CSC.StringAttribute', 'Name': 'processingLevel', 'Value': 'LEVEL0', 'ValueType': 'String'}, {'@odata.type': '#OData.CSC.StringAttribute', 'Name': 'swathIdentifier', 'Value': '4', 'ValueType': 'String'}, {'@odata.type': '#OData.CSC.StringAttribute', 'Name': 'processingCenter', 'Value': 'S1 Production Service-SERCO', 'ValueType': 'String'}, {'@odata.type': '#OData.CSC.BooleanAttribute', 'Name': 'sliceProductFlag', 'Value': False, 'ValueType': 'Boolean'}, {'@odata.type': '#OData.CSC.StringAttribute', 'Name': 'platformShortName', 'Value': 'SENTINEL-1', 'ValueType': 'String'}, {'@odata.type': '#OData.CSC.StringAttribute', 'Name': 'instrumentShortName', 'Value': 'SAR', 'ValueType': 'String'}, {'@odata.type': '#OData.CSC.IntegerAttribute', 'Name': 'relativeOrbitNumber', 'Value': 66, 'ValueType': 'Integer'}, {'@odata.type': '#OData.CSC.StringAttribute', 'Name': 'polarisationChannels', 'Value': 'VH&VV', 'ValueType': 'String'}, {'@odata.type': '#OData.CSC.StringAttribute', 'Name': 'productConsolidation', 'Value': 'SLICE', 'ValueType': 'String'}, {'@odata.type': '#OData.CSC.StringAttribute', 'Name': 'platformSerialIdentifier', 'Value': 'A', 'ValueType': 'String'}, {'@odata.type': '#OData.CSC.IntegerAttribute', 'Name': 'instrumentConfigurationID', 'Value': 7, 'ValueType': 'Integer'}, {'@odata.type': '#OData.CSC.DoubleAttribute', 'Name': 'startTimeFromAscendingNode', 'Value': 5416307.221, 'ValueType': 'Double'}, {'@odata.type': '#OData.CSC.DoubleAttribute', 'Name': 'completionTimeFromAscendingNode', 'Value': 5436956.62, 'ValueType': 'Double'}, {'@odata.type': '#OData.CSC.StringAttribute', 'Name': 'productType', 'Value': 'S4_RAW__0S', 'ValueType': 'String'}, {'@odata.type': '#OData.CSC.DateTimeOffsetAttribute', 'Name': 'beginningDateTime', 'Value': '2024-05-02T06:29:25.324425Z', 'ValueType': 'DateTimeOffset'}, {'@odata.type': '#OData.CSC.DateTimeOffsetAttribute', 'Name': 'endingDateTime', 'Value': '2024-05-02T06:29:45.973824Z', 'ValueType': 'DateTimeOffset'}]"
        ],
        [
         "4",
         "c03e2735-12b5-47cd-9deb-af959af4aa55",
         "S1A_S6_RAW__0SDV_20240502T055859_20240502T055929_053688_06856F_E1EA.SAFE",
         "/eodata/Sentinel-1/SAR/S6_RAW__0S/2024/05/02/S1A_S6_RAW__0SDV_20240502T055859_20240502T055929_053688_06856F_E1EA.SAFE",
         "{'type': 'Polygon', 'coordinates': [[[-12.6051, -38.8646], [-11.8894, -37.0689], [-12.7568, -36.891], [-13.4927, -38.68], [-12.6051, -38.8646]]]}",
         "2024-05-02 07:16:24",
         "[{'@odata.type': '#OData.CSC.StringAttribute', 'Name': 'origin', 'Value': 'ESA', 'ValueType': 'String'}, {'@odata.type': '#OData.CSC.IntegerAttribute', 'Name': 'datatakeID', 'Value': 427375, 'ValueType': 'Integer'}, {'@odata.type': '#OData.CSC.IntegerAttribute', 'Name': 'cycleNumber', 'Value': 321, 'ValueType': 'Integer'}, {'@odata.type': '#OData.CSC.IntegerAttribute', 'Name': 'orbitNumber', 'Value': 53688, 'ValueType': 'Integer'}, {'@odata.type': '#OData.CSC.IntegerAttribute', 'Name': 'sliceNumber', 'Value': 1, 'ValueType': 'Integer'}, {'@odata.type': '#OData.CSC.StringAttribute', 'Name': 'productClass', 'Value': 'S', 'ValueType': 'String'}, {'@odata.type': '#OData.CSC.StringAttribute', 'Name': 'orbitDirection', 'Value': 'DESCENDING', 'ValueType': 'String'}, {'@odata.type': '#OData.CSC.DateTimeOffsetAttribute', 'Name': 'processingDate', 'Value': '2024-05-02T07:15:09.255805Z', 'ValueType': 'DateTimeOffset'}, {'@odata.type': '#OData.CSC.StringAttribute', 'Name': 'operationalMode', 'Value': 'SM', 'ValueType': 'String'}, {'@odata.type': '#OData.CSC.StringAttribute', 'Name': 'processingLevel', 'Value': 'LEVEL0', 'ValueType': 'String'}, {'@odata.type': '#OData.CSC.StringAttribute', 'Name': 'swathIdentifier', 'Value': '6', 'ValueType': 'String'}, {'@odata.type': '#OData.CSC.StringAttribute', 'Name': 'processingCenter', 'Value': 'S1 Production Service-SERCO', 'ValueType': 'String'}, {'@odata.type': '#OData.CSC.BooleanAttribute', 'Name': 'sliceProductFlag', 'Value': False, 'ValueType': 'Boolean'}, {'@odata.type': '#OData.CSC.StringAttribute', 'Name': 'platformShortName', 'Value': 'SENTINEL-1', 'ValueType': 'String'}, {'@odata.type': '#OData.CSC.StringAttribute', 'Name': 'instrumentShortName', 'Value': 'SAR', 'ValueType': 'String'}, {'@odata.type': '#OData.CSC.IntegerAttribute', 'Name': 'relativeOrbitNumber', 'Value': 66, 'ValueType': 'Integer'}, {'@odata.type': '#OData.CSC.StringAttribute', 'Name': 'polarisationChannels', 'Value': 'VH&VV', 'ValueType': 'String'}, {'@odata.type': '#OData.CSC.StringAttribute', 'Name': 'productConsolidation', 'Value': 'SLICE', 'ValueType': 'String'}, {'@odata.type': '#OData.CSC.StringAttribute', 'Name': 'platformSerialIdentifier', 'Value': 'A', 'ValueType': 'String'}, {'@odata.type': '#OData.CSC.IntegerAttribute', 'Name': 'instrumentConfigurationID', 'Value': 7, 'ValueType': 'Integer'}, {'@odata.type': '#OData.CSC.DoubleAttribute', 'Name': 'startTimeFromAscendingNode', 'Value': 3589998.267, 'ValueType': 'Double'}, {'@odata.type': '#OData.CSC.DoubleAttribute', 'Name': 'completionTimeFromAscendingNode', 'Value': 3620635.87, 'ValueType': 'Double'}, {'@odata.type': '#OData.CSC.StringAttribute', 'Name': 'productType', 'Value': 'S6_RAW__0S', 'ValueType': 'String'}, {'@odata.type': '#OData.CSC.DateTimeOffsetAttribute', 'Name': 'beginningDateTime', 'Value': '2024-05-02T05:58:59.015465Z', 'ValueType': 'DateTimeOffset'}, {'@odata.type': '#OData.CSC.DateTimeOffsetAttribute', 'Name': 'endingDateTime', 'Value': '2024-05-02T05:59:29.653068Z', 'ValueType': 'DateTimeOffset'}]"
        ]
       ],
       "shape": {
        "columns": 6,
        "rows": 5
       }
      },
      "text/html": [
       "<div>\n",
       "<style scoped>\n",
       "    .dataframe tbody tr th:only-of-type {\n",
       "        vertical-align: middle;\n",
       "    }\n",
       "\n",
       "    .dataframe tbody tr th {\n",
       "        vertical-align: top;\n",
       "    }\n",
       "\n",
       "    .dataframe thead th {\n",
       "        text-align: right;\n",
       "    }\n",
       "</style>\n",
       "<table border=\"1\" class=\"dataframe\">\n",
       "  <thead>\n",
       "    <tr style=\"text-align: right;\">\n",
       "      <th></th>\n",
       "      <th>Id</th>\n",
       "      <th>Name</th>\n",
       "      <th>S3Path</th>\n",
       "      <th>GeoFootprint</th>\n",
       "      <th>OriginDate</th>\n",
       "      <th>Attributes</th>\n",
       "    </tr>\n",
       "  </thead>\n",
       "  <tbody>\n",
       "    <tr>\n",
       "      <th>0</th>\n",
       "      <td>00cd06ea-80e6-4ee2-9fb3-b5c0ec189186</td>\n",
       "      <td>S1A_S6_RAW__0SDV_20240502T195132_20240502T1951...</td>\n",
       "      <td>/eodata/Sentinel-1/SAR/S6_RAW__0S/2024/05/02/S...</td>\n",
       "      <td>{'type': 'Polygon', 'coordinates': [[[-24.5551...</td>\n",
       "      <td>2024-05-02 20:15:12</td>\n",
       "      <td>[{'@odata.type': '#OData.CSC.StringAttribute',...</td>\n",
       "    </tr>\n",
       "    <tr>\n",
       "      <th>1</th>\n",
       "      <td>e68c7e10-7213-443e-857c-f9ddadb648fb</td>\n",
       "      <td>S1A_S4_RAW__0SDV_20240502T193657_20240502T1937...</td>\n",
       "      <td>/eodata/Sentinel-1/SAR/S4_RAW__0S/2024/05/02/S...</td>\n",
       "      <td>{'type': 'Polygon', 'coordinates': [[[-12.4077...</td>\n",
       "      <td>2024-05-02 20:15:29</td>\n",
       "      <td>[{'@odata.type': '#OData.CSC.StringAttribute',...</td>\n",
       "    </tr>\n",
       "    <tr>\n",
       "      <th>2</th>\n",
       "      <td>8f52959c-83d4-4568-8b9c-3bdc7933c14b</td>\n",
       "      <td>S1A_S1_RAW__0SDH_20240502T121147_20240502T1212...</td>\n",
       "      <td>/eodata/Sentinel-1/SAR/S1_RAW__0S/2024/05/02/S...</td>\n",
       "      <td>{'type': 'Polygon', 'coordinates': [[[-88.2859...</td>\n",
       "      <td>2024-05-02 13:07:28</td>\n",
       "      <td>[{'@odata.type': '#OData.CSC.StringAttribute',...</td>\n",
       "    </tr>\n",
       "    <tr>\n",
       "      <th>3</th>\n",
       "      <td>54192b79-3683-4234-82f6-78f154af2d1c</td>\n",
       "      <td>S1A_S4_RAW__0SDV_20240502T062925_20240502T0629...</td>\n",
       "      <td>/eodata/Sentinel-1/SAR/S4_RAW__0S/2024/05/02/S...</td>\n",
       "      <td>{'type': 'Polygon', 'coordinates': [[[-177.858...</td>\n",
       "      <td>2024-05-02 07:16:16</td>\n",
       "      <td>[{'@odata.type': '#OData.CSC.StringAttribute',...</td>\n",
       "    </tr>\n",
       "    <tr>\n",
       "      <th>4</th>\n",
       "      <td>c03e2735-12b5-47cd-9deb-af959af4aa55</td>\n",
       "      <td>S1A_S6_RAW__0SDV_20240502T055859_20240502T0559...</td>\n",
       "      <td>/eodata/Sentinel-1/SAR/S6_RAW__0S/2024/05/02/S...</td>\n",
       "      <td>{'type': 'Polygon', 'coordinates': [[[-12.6051...</td>\n",
       "      <td>2024-05-02 07:16:24</td>\n",
       "      <td>[{'@odata.type': '#OData.CSC.StringAttribute',...</td>\n",
       "    </tr>\n",
       "  </tbody>\n",
       "</table>\n",
       "</div>"
      ],
      "text/plain": [
       "                                     Id  \\\n",
       "0  00cd06ea-80e6-4ee2-9fb3-b5c0ec189186   \n",
       "1  e68c7e10-7213-443e-857c-f9ddadb648fb   \n",
       "2  8f52959c-83d4-4568-8b9c-3bdc7933c14b   \n",
       "3  54192b79-3683-4234-82f6-78f154af2d1c   \n",
       "4  c03e2735-12b5-47cd-9deb-af959af4aa55   \n",
       "\n",
       "                                                Name  \\\n",
       "0  S1A_S6_RAW__0SDV_20240502T195132_20240502T1951...   \n",
       "1  S1A_S4_RAW__0SDV_20240502T193657_20240502T1937...   \n",
       "2  S1A_S1_RAW__0SDH_20240502T121147_20240502T1212...   \n",
       "3  S1A_S4_RAW__0SDV_20240502T062925_20240502T0629...   \n",
       "4  S1A_S6_RAW__0SDV_20240502T055859_20240502T0559...   \n",
       "\n",
       "                                              S3Path  \\\n",
       "0  /eodata/Sentinel-1/SAR/S6_RAW__0S/2024/05/02/S...   \n",
       "1  /eodata/Sentinel-1/SAR/S4_RAW__0S/2024/05/02/S...   \n",
       "2  /eodata/Sentinel-1/SAR/S1_RAW__0S/2024/05/02/S...   \n",
       "3  /eodata/Sentinel-1/SAR/S4_RAW__0S/2024/05/02/S...   \n",
       "4  /eodata/Sentinel-1/SAR/S6_RAW__0S/2024/05/02/S...   \n",
       "\n",
       "                                        GeoFootprint           OriginDate  \\\n",
       "0  {'type': 'Polygon', 'coordinates': [[[-24.5551...  2024-05-02 20:15:12   \n",
       "1  {'type': 'Polygon', 'coordinates': [[[-12.4077...  2024-05-02 20:15:29   \n",
       "2  {'type': 'Polygon', 'coordinates': [[[-88.2859...  2024-05-02 13:07:28   \n",
       "3  {'type': 'Polygon', 'coordinates': [[[-177.858...  2024-05-02 07:16:16   \n",
       "4  {'type': 'Polygon', 'coordinates': [[[-12.6051...  2024-05-02 07:16:24   \n",
       "\n",
       "                                          Attributes  \n",
       "0  [{'@odata.type': '#OData.CSC.StringAttribute',...  \n",
       "1  [{'@odata.type': '#OData.CSC.StringAttribute',...  \n",
       "2  [{'@odata.type': '#OData.CSC.StringAttribute',...  \n",
       "3  [{'@odata.type': '#OData.CSC.StringAttribute',...  \n",
       "4  [{'@odata.type': '#OData.CSC.StringAttribute',...  "
      ]
     },
     "execution_count": 2,
     "metadata": {},
     "output_type": "execute_result"
    }
   ],
   "source": [
    "\"\"\"\n",
    "Search Configuration and Query Execution\n",
    "\n",
    "This cell configures the CopernicusDataSearcher with specific parameters for SENTINEL-1 data\n",
    "and executes the search query to retrieve matching products.\n",
    "\n",
    "Parameters:\n",
    "    collection_name (str): Satellite collection to search ('SENTINEL-1')\n",
    "    product_type (str, optional): Specific product type filter\n",
    "    orbit_direction (str, optional): Orbit direction filter\n",
    "    cloud_cover_threshold (float, optional): Maximum cloud cover percentage\n",
    "    aoi_wkt (str, optional): Area of Interest in WKT format\n",
    "    start_date (str): Start date for temporal filtering (ISO format)\n",
    "    end_date (str): End date for temporal filtering (ISO format)\n",
    "    top (int): Maximum number of results to return\n",
    "    count (bool): Whether to return total count of matching results\n",
    "    attributes (dict): Additional filtering attributes\n",
    "\n",
    "Returns:\n",
    "    pandas.DataFrame: Search results with product metadata\n",
    "\"\"\"\n",
    "from phidown.search import CopernicusDataSearcher\n",
    "# You can modify these parameters as needed\n",
    "\n",
    "aoi_wkt = \"POLYGON((-95.0 29.0, -95.0 30.0, -94.0 30.0, -94.0 29.0, -95.0 29.0))\"  # Define the AOI in WKT format\n",
    "aoi_wkt = None \n",
    "\n",
    "searcher = CopernicusDataSearcher()\n",
    "# Configure the search parameters\n",
    "searcher.query_by_filter(\n",
    "    collection_name='SENTINEL-1',\n",
    "    product_type=None,\n",
    "    orbit_direction=None,\n",
    "    cloud_cover_threshold=None,\n",
    "    aoi_wkt=aoi_wkt,  # Example: aoi_wkt=aoi_wkt if you want to use the defined AOI\n",
    "    start_date = '2023-05-03T00:00:00',\n",
    "    end_date = '2024-05-03T04:00:00',\n",
    "    top=1000,\n",
    "    count=True,  # Set to True to get the total count of results\n",
    "    attributes={'processingLevel':'LEVEL0',\n",
    "                'operationalMode': 'SM',\n",
    "                # 'swathIdentifier': 'S1', # Swath identifier is: 1,2,3,4,5,6 for RAW\n",
    "                } # Swath identifier Stripmap: S1, ..., S6 | 'WV1,WV2' for wavemode\n",
    "    # base_url defaults to 'https://catalogue.dataspace.copernicus.eu/odata/v1/Products'\n",
    "    # order_by defaults to 'ContentDate/Start desc'\n",
    ")\n",
    "\n",
    "df = searcher.execute_query()\n",
    "print(f\"Number of results: {len(df)}\")\n",
    "# Display the first few rows of the DataFrame\n",
    "searcher.display_results(top_n=5)"
   ]
  },
  {
   "cell_type": "code",
   "execution_count": null,
   "id": "7c281058",
   "metadata": {},
   "outputs": [
    {
     "name": "stdout",
     "output_type": "stream",
     "text": [
      "Downloading product: S1A_S6_RAW__0SDV_20240502T195132_20240502T195153_053697_0685CC_E173.SAFE\n",
      "Output directory: /Users/roberto.delprete/Library/CloudStorage/OneDrive-ESA/Desktop/Repos/phidown/downloads\n"
     ]
    },
    {
     "name": "stderr",
     "output_type": "stream",
     "text": [
      "Downloading: 100%|█████████▉| 888M/888M [00:42<00:00, 22.0MB/s] \n"
     ]
    }
   ],
   "source": [
    "\"\"\"\n",
    "Product Download\n",
    "\n",
    "This cell demonstrates how to download a selected product from the search results.\n",
    "\n",
    "Args:\n",
    "    product_name (str): Name of the product to download (from search results)\n",
    "    config_file (str): Path to the configuration file containing authentication credentials\n",
    "    output_dir (str): Directory where the downloaded product will be saved\n",
    "\n",
    "Note:\n",
    "    - Update the config_file path to point to your actual .s5cfg file\n",
    "    - Update the output_dir path to your desired download location\n",
    "    - The example downloads the first product from the search results (df.iloc[0])\n",
    "\"\"\"\n",
    "searcher.download_product('S1A_S6_RAW__0SDV_20240502T195132_20240502T195153_053697_0685CC_E173.SAFE',\n",
    "                        config_file='path/to/your/config/file/.s5cfg',\n",
    "                        output_dir='path/to/your/download/directory/')"
   ]
  }
 ],
 "metadata": {
  "kernelspec": {
   "display_name": ".venv",
   "language": "python",
   "name": "python3"
  },
  "language_info": {
   "codemirror_mode": {
    "name": "ipython",
    "version": 3
   },
   "file_extension": ".py",
   "mimetype": "text/x-python",
   "name": "python",
   "nbconvert_exporter": "python",
   "pygments_lexer": "ipython3",
   "version": "3.9.6"
  }
 },
 "nbformat": 4,
 "nbformat_minor": 5
}
