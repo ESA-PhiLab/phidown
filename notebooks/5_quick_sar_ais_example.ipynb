{
 "cells": [
  {
   "cell_type": "markdown",
   "id": "aabda816",
   "metadata": {},
   "source": [
    "# Quick Start: SAR + AIS Data Download\n",
    "\n",
    "A simple example showing how to search for Sentinel-1 SAR data and download corresponding AIS vessel tracking data for the same area and time."
   ]
  },
  {
   "cell_type": "code",
   "execution_count": null,
   "id": "b03e9679",
   "metadata": {},
   "outputs": [],
   "source": [
    "# Import phidown modules\n",
    "from phidown import CopernicusDataSearcher\n",
    "from phidown.ais import download_ais_data\n",
    "import pandas as pd"
   ]
  },
  {
   "cell_type": "code",
   "execution_count": null,
   "id": "cbed0c41",
   "metadata": {},
   "outputs": [],
   "source": [
    "# Define area of interest (Mediterranean Sea near shipping lanes)\n",
    "aoi_wkt = \"\"\"POLYGON((\n",
    "    10.0 40.0,\n",
    "    15.0 40.0,\n",
    "    15.0 45.0,\n",
    "    10.0 45.0,\n",
    "    10.0 40.0\n",
    "))\"\"\"\n",
    "\n",
    "# Set date for analysis\n",
    "target_date = \"2024-07-15\"\n",
    "\n",
    "print(f\"Searching for data on {target_date}\")\n",
    "print(f\"Area: Mediterranean Sea (10-15°E, 40-45°N)\")"
   ]
  },
  {
   "cell_type": "code",
   "execution_count": null,
   "id": "a95fef2e",
   "metadata": {},
   "outputs": [],
   "source": [
    "# Search for Sentinel-1 SAR data\n",
    "searcher = CopernicusDataSearcher()\n",
    "\n",
    "sar_results = searcher.search(\n",
    "    collection_name='SENTINEL-1',\n",
    "    aoi_wkt=aoi_wkt,\n",
    "    start_date=target_date,\n",
    "    end_date=target_date,\n",
    "    product_type='GRD'  # Ground Range Detected\n",
    ")\n",
    "\n",
    "print(f\"Found {len(sar_results)} SAR products\")\n",
    "\n",
    "if len(sar_results) > 0:\n",
    "    # Show first few results\n",
    "    display_cols = ['Name', 'ContentDate', 'Instrument', 'ProductType']\n",
    "    available_cols = [col for col in display_cols if col in sar_results.columns]\n",
    "    print(\"\\nSAR Products:\")\n",
    "    print(sar_results[available_cols].head(3))"
   ]
  },
  {
   "cell_type": "code",
   "execution_count": null,
   "id": "6a669e74",
   "metadata": {},
   "outputs": [],
   "source": [
    "# Download AIS data for the same area and time\n",
    "try:\n",
    "    ais_data = download_ais_data(\n",
    "        start_date=target_date,\n",
    "        start_time=\"08:00:00\",  # Morning period\n",
    "        end_time=\"16:00:00\",   # Afternoon period\n",
    "        aoi_wkt=aoi_wkt\n",
    "    )\n",
    "    \n",
    "    print(f\"Downloaded {len(ais_data)} AIS records\")\n",
    "    \n",
    "    if len(ais_data) > 0:\n",
    "        print(f\"\\nAIS Data Overview:\")\n",
    "        print(f\"  Unique vessels: {ais_data['mmsi'].nunique()}\")\n",
    "        print(f\"  Named vessels: {len(ais_data[ais_data['name'] != ''])}\")\n",
    "        print(f\"  Data columns: {list(ais_data.columns)}\")\n",
    "        \n",
    "        # Show sample data\n",
    "        print(f\"\\nSample AIS records:\")\n",
    "        print(ais_data[['name', 'lat', 'lon', 'timestamp', 'mmsi']].head())\n",
    "    \n",
    "except Exception as e:\n",
    "    print(f\"AIS download failed: {e}\")\n",
    "    print(\"Make sure you have installed: pip install phidown[ais]\")"
   ]
  },
  {
   "cell_type": "code",
   "execution_count": null,
   "id": "6e43a974",
   "metadata": {},
   "outputs": [],
   "source": [
    "# Simple analysis: vessel positions vs SAR coverage\n",
    "if len(sar_results) > 0 and len(ais_data) > 0:\n",
    "    print(\"Data Integration Summary:\")\n",
    "    print(f\"  SAR products available: {len(sar_results)}\")\n",
    "    print(f\"  AIS vessel positions: {len(ais_data)}\")\n",
    "    print(f\"  Potential vessel-SAR matches: Ready for analysis\")\n",
    "    \n",
    "    # Basic statistics\n",
    "    print(f\"\\nSpatial Coverage:\")\n",
    "    print(f\"  Latitude range: {ais_data['lat'].min():.2f} to {ais_data['lat'].max():.2f}\")\n",
    "    print(f\"  Longitude range: {ais_data['lon'].min():.2f} to {ais_data['lon'].max():.2f}\")\n",
    "    \n",
    "    # Save combined results\n",
    "    ais_data.to_csv(f'ais_data_{target_date}.csv', index=False)\n",
    "    sar_results.to_csv(f'sar_results_{target_date}.csv', index=False)\n",
    "    \n",
    "    print(f\"\\nData saved to:\")\n",
    "    print(f\"  - ais_data_{target_date}.csv\")\n",
    "    print(f\"  - sar_results_{target_date}.csv\")\n",
    "else:\n",
    "    print(\"No data available for integration analysis.\")"
   ]
  },
  {
   "cell_type": "markdown",
   "id": "415ceb12",
   "metadata": {},
   "source": [
    "## Next Steps\n",
    "\n",
    "Now you have:\n",
    "1. **SAR search results** - showing available satellite imagery\n",
    "2. **AIS vessel data** - showing ship positions and movements\n",
    "\n",
    "You can:\n",
    "- Download the actual SAR imagery using phidown's download functions\n",
    "- Analyze vessel detection in SAR images\n",
    "- Compare AIS positions with SAR detections\n",
    "- Study maritime traffic patterns\n",
    "\n",
    "See the detailed notebook `4_sar_and_ais_integration.ipynb` for advanced analysis examples."
   ]
  }
 ],
 "metadata": {
  "language_info": {
   "name": "python"
  }
 },
 "nbformat": 4,
 "nbformat_minor": 5
}
