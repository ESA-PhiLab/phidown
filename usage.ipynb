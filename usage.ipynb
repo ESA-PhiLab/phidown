{
 "cells": [
  {
   "cell_type": "markdown",
   "metadata": {},
   "source": [
    "# Copernicus Sentinel-2 Data Search and Exploration\n",
    "\n",
    "This Jupyter Notebook demonstrates how to search, filter, and explore Sentinel-2 satellite imagery metadata using the `phisenapi` library. The workflow includes:\n",
    "\n",
    "- **Setting Search Parameters:**  \n",
    "    The notebook defines parameters such as collection name (`SENTINEL-2`), product type (`S2MSI1C`), cloud cover threshold, area of interest (AOI) in WKT format, date range, and sorting options.\n",
    "\n",
    "- **Executing the Search:**  \n",
    "    An instance of `CopernicusDataSearcher` is configured with the specified parameters and used to query the Copernicus Open Access Hub for matching Sentinel-2 products.\n",
    "\n",
    "- **Viewing Results:**  \n",
    "    The resulting metadata is loaded into a pandas DataFrame (`df`). Key columns such as `Id`, `Name`, `S3Path`, and `GeoFootprint` are displayed for quick inspection.\n",
    "\n",
    "## Variables and Data\n",
    "\n",
    "- **aoi_wkt:** AOI polygon in WKT format. Polygon must start and end with the same point. Coordinates must be given in EPSG 4326\n",
    "- **cloud_cover_threshold:** Maximum allowed cloud cover percentage.\n",
    "- **collection_name:** Data collection to search (`SENTINEL-2`).\n",
    "- **columns_to_display:** List of DataFrame columns to display.\n",
    "- **df:** DataFrame containing search results (1000 entries, 16 columns).\n",
    "- **searcher:** Configured `CopernicusDataSearcher` instance.\n",
    "- **start_date, end_date:** Date range for the search.\n",
    "- **product_type, orbit_direction, order_by, top:** Additional search parameters."
   ]
  },
  {
   "cell_type": "code",
   "execution_count": null,
   "metadata": {},
   "outputs": [],
   "source": [
    "%load_ext autoreload\n",
    "%autoreload 2"
   ]
  },
  {
   "cell_type": "markdown",
   "metadata": {},
   "source": [
    "# Search\n",
    "\n",
    "You can modify the search parameters to refine your query, re-run the search, and further analyze or visualize the results as needed."
   ]
  },
  {
   "cell_type": "code",
   "execution_count": 4,
   "metadata": {},
   "outputs": [
    {
     "data": {
      "text/html": [
       "<div>\n",
       "<style scoped>\n",
       "    .dataframe tbody tr th:only-of-type {\n",
       "        vertical-align: middle;\n",
       "    }\n",
       "\n",
       "    .dataframe tbody tr th {\n",
       "        vertical-align: top;\n",
       "    }\n",
       "\n",
       "    .dataframe thead th {\n",
       "        text-align: right;\n",
       "    }\n",
       "</style>\n",
       "<table border=\"1\" class=\"dataframe\">\n",
       "  <thead>\n",
       "    <tr style=\"text-align: right;\">\n",
       "      <th></th>\n",
       "      <th>Id</th>\n",
       "      <th>Name</th>\n",
       "      <th>S3Path</th>\n",
       "      <th>GeoFootprint</th>\n",
       "      <th>OriginDate</th>\n",
       "      <th>Attributes</th>\n",
       "    </tr>\n",
       "  </thead>\n",
       "  <tbody>\n",
       "    <tr>\n",
       "      <th>0</th>\n",
       "      <td>0720d51b-aad3-5972-a41f-9fb5a377d88c</td>\n",
       "      <td>S1A_IW_SLC__1SDV_20220503T035608_20220503T0356...</td>\n",
       "      <td>/eodata/Sentinel-1/SAR/SLC/2022/05/03/S1A_IW_S...</td>\n",
       "      <td>{'type': 'Polygon', 'coordinates': [[[25.95559...</td>\n",
       "      <td>2022-05-03 09:09:06</td>\n",
       "      <td>[{'@odata.type': '#OData.CSC.StringAttribute',...</td>\n",
       "    </tr>\n",
       "    <tr>\n",
       "      <th>1</th>\n",
       "      <td>ea2651cc-cbc5-56da-965e-0742b927cfc6</td>\n",
       "      <td>S1A_IW_SLC__1SDV_20220503T035542_20220503T0356...</td>\n",
       "      <td>/eodata/Sentinel-1/SAR/SLC/2022/05/03/S1A_IW_S...</td>\n",
       "      <td>{'type': 'Polygon', 'coordinates': [[[26.37545...</td>\n",
       "      <td>2022-05-03 09:24:00</td>\n",
       "      <td>[{'@odata.type': '#OData.CSC.StringAttribute',...</td>\n",
       "    </tr>\n",
       "    <tr>\n",
       "      <th>2</th>\n",
       "      <td>6bcec001-b3ac-5537-bb33-b52ec097f46d</td>\n",
       "      <td>S1A_IW_SLC__1SDV_20220503T035517_20220503T0355...</td>\n",
       "      <td>/eodata/Sentinel-1/SAR/SLC/2022/05/03/S1A_IW_S...</td>\n",
       "      <td>{'type': 'Polygon', 'coordinates': [[[26.72352...</td>\n",
       "      <td>2022-05-03 09:15:13</td>\n",
       "      <td>[{'@odata.type': '#OData.CSC.StringAttribute',...</td>\n",
       "    </tr>\n",
       "    <tr>\n",
       "      <th>3</th>\n",
       "      <td>eba657b9-4a57-5d96-874e-f0f11e11fc60</td>\n",
       "      <td>S1A_IW_SLC__1SDV_20220503T035452_20220503T0355...</td>\n",
       "      <td>/eodata/Sentinel-1/SAR/SLC/2022/05/03/S1A_IW_S...</td>\n",
       "      <td>{'type': 'Polygon', 'coordinates': [[[27.05805...</td>\n",
       "      <td>2022-05-03 09:05:02</td>\n",
       "      <td>[{'@odata.type': '#OData.CSC.StringAttribute',...</td>\n",
       "    </tr>\n",
       "    <tr>\n",
       "      <th>4</th>\n",
       "      <td>f8866bf5-1563-5d55-aba3-82513d0d023e</td>\n",
       "      <td>S1A_IW_SLC__1SDV_20220503T035427_20220503T0354...</td>\n",
       "      <td>/eodata/Sentinel-1/SAR/SLC/2022/05/03/S1A_IW_S...</td>\n",
       "      <td>{'type': 'Polygon', 'coordinates': [[[27.38505...</td>\n",
       "      <td>2022-05-03 09:15:09</td>\n",
       "      <td>[{'@odata.type': '#OData.CSC.StringAttribute',...</td>\n",
       "    </tr>\n",
       "  </tbody>\n",
       "</table>\n",
       "</div>"
      ],
      "text/plain": [
       "                                     Id  \\\n",
       "0  0720d51b-aad3-5972-a41f-9fb5a377d88c   \n",
       "1  ea2651cc-cbc5-56da-965e-0742b927cfc6   \n",
       "2  6bcec001-b3ac-5537-bb33-b52ec097f46d   \n",
       "3  eba657b9-4a57-5d96-874e-f0f11e11fc60   \n",
       "4  f8866bf5-1563-5d55-aba3-82513d0d023e   \n",
       "\n",
       "                                                Name  \\\n",
       "0  S1A_IW_SLC__1SDV_20220503T035608_20220503T0356...   \n",
       "1  S1A_IW_SLC__1SDV_20220503T035542_20220503T0356...   \n",
       "2  S1A_IW_SLC__1SDV_20220503T035517_20220503T0355...   \n",
       "3  S1A_IW_SLC__1SDV_20220503T035452_20220503T0355...   \n",
       "4  S1A_IW_SLC__1SDV_20220503T035427_20220503T0354...   \n",
       "\n",
       "                                              S3Path  \\\n",
       "0  /eodata/Sentinel-1/SAR/SLC/2022/05/03/S1A_IW_S...   \n",
       "1  /eodata/Sentinel-1/SAR/SLC/2022/05/03/S1A_IW_S...   \n",
       "2  /eodata/Sentinel-1/SAR/SLC/2022/05/03/S1A_IW_S...   \n",
       "3  /eodata/Sentinel-1/SAR/SLC/2022/05/03/S1A_IW_S...   \n",
       "4  /eodata/Sentinel-1/SAR/SLC/2022/05/03/S1A_IW_S...   \n",
       "\n",
       "                                        GeoFootprint           OriginDate  \\\n",
       "0  {'type': 'Polygon', 'coordinates': [[[25.95559...  2022-05-03 09:09:06   \n",
       "1  {'type': 'Polygon', 'coordinates': [[[26.37545...  2022-05-03 09:24:00   \n",
       "2  {'type': 'Polygon', 'coordinates': [[[26.72352...  2022-05-03 09:15:13   \n",
       "3  {'type': 'Polygon', 'coordinates': [[[27.05805...  2022-05-03 09:05:02   \n",
       "4  {'type': 'Polygon', 'coordinates': [[[27.38505...  2022-05-03 09:15:09   \n",
       "\n",
       "                                          Attributes  \n",
       "0  [{'@odata.type': '#OData.CSC.StringAttribute',...  \n",
       "1  [{'@odata.type': '#OData.CSC.StringAttribute',...  \n",
       "2  [{'@odata.type': '#OData.CSC.StringAttribute',...  \n",
       "3  [{'@odata.type': '#OData.CSC.StringAttribute',...  \n",
       "4  [{'@odata.type': '#OData.CSC.StringAttribute',...  "
      ]
     },
     "execution_count": 4,
     "metadata": {},
     "output_type": "execute_result"
    }
   ],
   "source": [
    "from phidown.search import CopernicusDataSearcher\n",
    "# You can modify these parameters as needed\n",
    "\n",
    "searcher = CopernicusDataSearcher(\n",
    "    collection_names=['SENTINEL-1'],\n",
    "    product_type='SLC',\n",
    "    orbit_direction=None,\n",
    "    cloud_cover_threshold=None,\n",
    "    start_date='2022-05-03T00:00:00.000Z',\n",
    "    end_date='2022-05-03T04:00:00.000Z',\n",
    "    top=5,\n",
    ")\n",
    "df = searcher.execute_query()\n",
    "searcher.display_results()"
   ]
  },
  {
   "cell_type": "code",
   "execution_count": null,
   "metadata": {},
   "outputs": [
    {
     "name": "stdout",
     "output_type": "stream",
     "text": [
      "Downloading S1A_IW_SLC__1SDV_20220503T035608_20220503T035640_043041_0523B3_3750.SAFE...\n",
      "Downloading S1A_IW_SLC__1SDV_20220503T035542_20220503T035610_043041_0523B3_7F8F.SAFE...\n",
      "Downloading S1A_IW_SLC__1SDV_20220503T035517_20220503T035544_043041_0523B3_B9BB.SAFE...\n",
      "Downloading S1A_IW_SLC__1SDV_20220503T035452_20220503T035519_043041_0523B3_A31B.SAFE...\n",
      "Downloading S1A_IW_SLC__1SDV_20220503T035427_20220503T035454_043041_0523B3_7EAC.SAFE...\n"
     ]
    }
   ],
   "source": [
    "from tqdm.notebook import tqdm\n",
    "\n",
    "for product_name in tqdm(df['Name'], desc=\"Downloading products\"):\n",
    "    !python -m phidown.downloader -eo_product_name {product_name}"
   ]
  },
  {
   "cell_type": "code",
   "execution_count": null,
   "metadata": {},
   "outputs": [],
   "source": []
  }
 ],
 "metadata": {
  "kernelspec": {
   "display_name": "phidown",
   "language": "python",
   "name": "python3"
  },
  "language_info": {
   "codemirror_mode": {
    "name": "ipython",
    "version": 3
   },
   "file_extension": ".py",
   "mimetype": "text/x-python",
   "name": "python",
   "nbconvert_exporter": "python",
   "pygments_lexer": "ipython3",
   "version": "3.9.22"
  }
 },
 "nbformat": 4,
 "nbformat_minor": 2
}
