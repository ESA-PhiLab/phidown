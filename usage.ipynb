{
 "cells": [
  {
   "cell_type": "markdown",
   "metadata": {},
   "source": [
    "# Copernicus Sentinel-2 Data Search and Exploration\n",
    "\n",
    "This Jupyter Notebook demonstrates how to search, filter, and explore Sentinel-2 satellite imagery metadata using the `phisenapi` library. The workflow includes:\n",
    "\n",
    "- **Setting Search Parameters:**  \n",
    "    The notebook defines parameters such as collection name (`SENTINEL-2`), product type (`S2MSI1C`), cloud cover threshold, area of interest (AOI) in WKT format, date range, and sorting options.\n",
    "\n",
    "- **Executing the Search:**  \n",
    "    An instance of `CopernicusDataSearcher` is configured with the specified parameters and used to query the Copernicus Open Access Hub for matching Sentinel-2 products.\n",
    "\n",
    "- **Viewing Results:**  \n",
    "    The resulting metadata is loaded into a pandas DataFrame (`df`). Key columns such as `Id`, `Name`, `S3Path`, and `GeoFootprint` are displayed for quick inspection.\n",
    "\n",
    "## Variables and Data\n",
    "\n",
    "- **aoi_wkt:** AOI polygon in WKT format. Polygon must start and end with the same point. Coordinates must be given in EPSG 4326\n",
    "- **cloud_cover_threshold:** Maximum allowed cloud cover percentage.\n",
    "- **collection_name:** Data collection to search (`SENTINEL-2`).\n",
    "- **columns_to_display:** List of DataFrame columns to display.\n",
    "- **df:** DataFrame containing search results (1000 entries, 16 columns).\n",
    "- **searcher:** Configured `CopernicusDataSearcher` instance.\n",
    "- **start_date, end_date:** Date range for the search.\n",
    "- **product_type, orbit_direction, order_by, top:** Additional search parameters."
   ]
  },
  {
   "cell_type": "code",
   "execution_count": 4,
   "metadata": {},
   "outputs": [],
   "source": [
    "%load_ext autoreload\n",
    "%autoreload 2"
   ]
  },
  {
   "cell_type": "markdown",
   "metadata": {},
   "source": [
    "# Search\n",
    "\n",
    "You can modify the search parameters to refine your query, re-run the search, and further analyze or visualize the results as needed."
   ]
  },
  {
   "cell_type": "code",
   "execution_count": 17,
   "metadata": {},
   "outputs": [
    {
     "data": {
      "text/html": [
       "<div>\n",
       "<style scoped>\n",
       "    .dataframe tbody tr th:only-of-type {\n",
       "        vertical-align: middle;\n",
       "    }\n",
       "\n",
       "    .dataframe tbody tr th {\n",
       "        vertical-align: top;\n",
       "    }\n",
       "\n",
       "    .dataframe thead th {\n",
       "        text-align: right;\n",
       "    }\n",
       "</style>\n",
       "<table border=\"1\" class=\"dataframe\">\n",
       "  <thead>\n",
       "    <tr style=\"text-align: right;\">\n",
       "      <th></th>\n",
       "      <th>Id</th>\n",
       "      <th>Name</th>\n",
       "      <th>S3Path</th>\n",
       "      <th>GeoFootprint</th>\n",
       "      <th>OriginDate</th>\n",
       "      <th>Attributes</th>\n",
       "    </tr>\n",
       "  </thead>\n",
       "  <tbody>\n",
       "    <tr>\n",
       "      <th>0</th>\n",
       "      <td>6b123c0c-5fe4-5ff5-9de3-b25895f03340</td>\n",
       "      <td>S1A_WV_SLC__1SSV_20220503T024447_20220503T0319...</td>\n",
       "      <td>/eodata/Sentinel-1/SAR/SLC/2022/05/03/S1A_WV_S...</td>\n",
       "      <td>{'type': 'Polygon', 'coordinates': [[[-105.027...</td>\n",
       "      <td>2022-05-03 06:34:02</td>\n",
       "      <td>[{'@odata.type': '#OData.CSC.StringAttribute',...</td>\n",
       "    </tr>\n",
       "    <tr>\n",
       "      <th>1</th>\n",
       "      <td>a7a6da07-ba5d-597b-bddd-aa44d14d90e9</td>\n",
       "      <td>S1A_IW_SLC__1SDV_20220503T013644_20220503T0137...</td>\n",
       "      <td>/eodata/Sentinel-1/SAR/SLC/2022/05/03/S1A_IW_S...</td>\n",
       "      <td>{'type': 'Polygon', 'coordinates': [[[-117.360...</td>\n",
       "      <td>2022-05-03 08:20:03</td>\n",
       "      <td>[{'@odata.type': '#OData.CSC.StringAttribute',...</td>\n",
       "    </tr>\n",
       "    <tr>\n",
       "      <th>2</th>\n",
       "      <td>50022ead-e4b4-53ce-af58-ff1d92e356ee</td>\n",
       "      <td>S1A_IW_SLC__1SDV_20220503T013617_20220503T0136...</td>\n",
       "      <td>/eodata/Sentinel-1/SAR/SLC/2022/05/03/S1A_IW_S...</td>\n",
       "      <td>{'type': 'Polygon', 'coordinates': [[[-116.993...</td>\n",
       "      <td>2022-05-03 08:12:01</td>\n",
       "      <td>[{'@odata.type': '#OData.CSC.StringAttribute',...</td>\n",
       "    </tr>\n",
       "    <tr>\n",
       "      <th>3</th>\n",
       "      <td>c6198e52-ff18-5699-8993-bd1c15b89ad6</td>\n",
       "      <td>S1A_IW_SLC__1SDV_20220503T013320_20220503T0133...</td>\n",
       "      <td>/eodata/Sentinel-1/SAR/SLC/2022/05/03/S1A_IW_S...</td>\n",
       "      <td>{'type': 'Polygon', 'coordinates': [[[-114.506...</td>\n",
       "      <td>2022-05-03 08:20:06</td>\n",
       "      <td>[{'@odata.type': '#OData.CSC.StringAttribute',...</td>\n",
       "    </tr>\n",
       "    <tr>\n",
       "      <th>4</th>\n",
       "      <td>ecb32a16-16b1-5f60-b112-ff2a56d944ec</td>\n",
       "      <td>S1A_IW_SLC__1SDV_20220503T013253_20220503T0133...</td>\n",
       "      <td>/eodata/Sentinel-1/SAR/SLC/2022/05/03/S1A_IW_S...</td>\n",
       "      <td>{'type': 'Polygon', 'coordinates': [[[-114.046...</td>\n",
       "      <td>2022-05-03 08:35:08</td>\n",
       "      <td>[{'@odata.type': '#OData.CSC.StringAttribute',...</td>\n",
       "    </tr>\n",
       "    <tr>\n",
       "      <th>5</th>\n",
       "      <td>6bc7f455-0724-5726-958c-a5cb9c785139</td>\n",
       "      <td>S1A_WV_SLC__1SSV_20220503T010718_20220503T0130...</td>\n",
       "      <td>/eodata/Sentinel-1/SAR/SLC/2022/05/03/S1A_WV_S...</td>\n",
       "      <td>{'type': 'Polygon', 'coordinates': [[[-85.1358...</td>\n",
       "      <td>2022-05-03 03:59:00</td>\n",
       "      <td>[{'@odata.type': '#OData.CSC.StringAttribute',...</td>\n",
       "    </tr>\n",
       "  </tbody>\n",
       "</table>\n",
       "</div>"
      ],
      "text/plain": [
       "                                     Id  \\\n",
       "0  6b123c0c-5fe4-5ff5-9de3-b25895f03340   \n",
       "1  a7a6da07-ba5d-597b-bddd-aa44d14d90e9   \n",
       "2  50022ead-e4b4-53ce-af58-ff1d92e356ee   \n",
       "3  c6198e52-ff18-5699-8993-bd1c15b89ad6   \n",
       "4  ecb32a16-16b1-5f60-b112-ff2a56d944ec   \n",
       "5  6bc7f455-0724-5726-958c-a5cb9c785139   \n",
       "\n",
       "                                                Name  \\\n",
       "0  S1A_WV_SLC__1SSV_20220503T024447_20220503T0319...   \n",
       "1  S1A_IW_SLC__1SDV_20220503T013644_20220503T0137...   \n",
       "2  S1A_IW_SLC__1SDV_20220503T013617_20220503T0136...   \n",
       "3  S1A_IW_SLC__1SDV_20220503T013320_20220503T0133...   \n",
       "4  S1A_IW_SLC__1SDV_20220503T013253_20220503T0133...   \n",
       "5  S1A_WV_SLC__1SSV_20220503T010718_20220503T0130...   \n",
       "\n",
       "                                              S3Path  \\\n",
       "0  /eodata/Sentinel-1/SAR/SLC/2022/05/03/S1A_WV_S...   \n",
       "1  /eodata/Sentinel-1/SAR/SLC/2022/05/03/S1A_IW_S...   \n",
       "2  /eodata/Sentinel-1/SAR/SLC/2022/05/03/S1A_IW_S...   \n",
       "3  /eodata/Sentinel-1/SAR/SLC/2022/05/03/S1A_IW_S...   \n",
       "4  /eodata/Sentinel-1/SAR/SLC/2022/05/03/S1A_IW_S...   \n",
       "5  /eodata/Sentinel-1/SAR/SLC/2022/05/03/S1A_WV_S...   \n",
       "\n",
       "                                        GeoFootprint           OriginDate  \\\n",
       "0  {'type': 'Polygon', 'coordinates': [[[-105.027...  2022-05-03 06:34:02   \n",
       "1  {'type': 'Polygon', 'coordinates': [[[-117.360...  2022-05-03 08:20:03   \n",
       "2  {'type': 'Polygon', 'coordinates': [[[-116.993...  2022-05-03 08:12:01   \n",
       "3  {'type': 'Polygon', 'coordinates': [[[-114.506...  2022-05-03 08:20:06   \n",
       "4  {'type': 'Polygon', 'coordinates': [[[-114.046...  2022-05-03 08:35:08   \n",
       "5  {'type': 'Polygon', 'coordinates': [[[-85.1358...  2022-05-03 03:59:00   \n",
       "\n",
       "                                          Attributes  \n",
       "0  [{'@odata.type': '#OData.CSC.StringAttribute',...  \n",
       "1  [{'@odata.type': '#OData.CSC.StringAttribute',...  \n",
       "2  [{'@odata.type': '#OData.CSC.StringAttribute',...  \n",
       "3  [{'@odata.type': '#OData.CSC.StringAttribute',...  \n",
       "4  [{'@odata.type': '#OData.CSC.StringAttribute',...  \n",
       "5  [{'@odata.type': '#OData.CSC.StringAttribute',...  "
      ]
     },
     "execution_count": 17,
     "metadata": {},
     "output_type": "execute_result"
    }
   ],
   "source": [
    "from phidown.search import CopernicusDataSearcher\n",
    "# You can modify these parameters as needed\n",
    "\n",
    "searcher = CopernicusDataSearcher(\n",
    "    collection_names=['SENTINEL-1'],\n",
    "    product_type='SLC',\n",
    "    orbit_direction='ASCENDING',\n",
    "    cloud_cover_threshold=None,\n",
    "    start_date='2022-05-03T00:00:00.000Z',\n",
    "    end_date='2022-05-03T04:00:00.000Z',\n",
    "    top=30,\n",
    ")\n",
    "df = searcher.execute_query()\n",
    "searcher.display_results()"
   ]
  },
  {
   "cell_type": "code",
   "execution_count": 18,
   "metadata": {},
   "outputs": [
    {
     "name": "stdout",
     "output_type": "stream",
     "text": [
      "Downloading S1A_WV_SLC__1SSV_20220503T024447_20220503T031915_043040_0523AE_4B9F.SAFE...\n",
      "Downloading S1A_IW_SLC__1SDV_20220503T013644_20220503T013709_043040_0523A3_5019.SAFE...\n",
      "Downloading S1A_IW_SLC__1SDV_20220503T013617_20220503T013647_043040_0523A3_6986.SAFE...\n",
      "Downloading S1A_IW_SLC__1SDV_20220503T013320_20220503T013356_043040_0523A2_89BE.SAFE...\n",
      "Downloading S1A_IW_SLC__1SDV_20220503T013253_20220503T013323_043040_0523A2_E265.SAFE...\n",
      "Downloading S1A_WV_SLC__1SSV_20220503T010718_20220503T013003_043039_0523A1_F1A6.SAFE...\n"
     ]
    }
   ],
   "source": [
    "for product_name in df['Name']:\n",
    "    print(f\"Downloading {product_name}...\")\n",
    "    # searcher.download_product(product_name, output_dir='.', overwrite=True)"
   ]
  },
  {
   "cell_type": "code",
   "execution_count": 19,
   "metadata": {},
   "outputs": [
    {
     "name": "stdout",
     "output_type": "stream",
     "text": [
      "Temporary S3 credentials created successfully.\n",
      "access: D9JLP2AP6Q1Q39Q33VSE\n",
      "secret: Pgn36FYC6bsO5xdrcxRrjfh8quIfemJSoJuzpPHU\n",
      ".                                       |                    |   0% 0.00/0.00B\n",
      "Failed to download Sentinel-1/SAR/SLC/2022/05/03/S1A_WV_SLC__1SSV_20220503T024447_20220503T031915_043040_0523AE_4B9F.SAFE/. Error: [Errno 22] Invalid argument: 'S1A_WV_SLC__1SSV_20220503T024447_20220503T031915_043040_0523AE_4B9F.SAFE/..a7Bebb30' -> 'S1A_WV_SLC__1SSV_20220503T024447_20220503T031915_043040_0523AE_4B9F.SAFE/.'\n",
      "annotation                              |                    |   0% 0.00/0.00B\n",
      "Traceback (most recent call last):\n",
      "  File \"/opt/miniconda3/envs/phidown/lib/python3.9/runpy.py\", line 197, in _run_module_as_main\n",
      "    return _run_code(code, main_globals, None,\n",
      "  File \"/opt/miniconda3/envs/phidown/lib/python3.9/runpy.py\", line 87, in _run_code\n",
      "    exec(code, run_globals)\n",
      "  File \"/Users/roberto.delprete/Library/CloudStorage/OneDrive-ESA/Desktop/phidown/phidown/downloader.py\", line 183, in <module>\n",
      "    main()\n",
      "  File \"/Users/roberto.delprete/Library/CloudStorage/OneDrive-ESA/Desktop/phidown/phidown/downloader.py\", line 165, in main\n",
      "    traverse_and_download_s3(s3_resource, bucket_name, base_s3_path, top_level_folder, failed_downloads)\n",
      "  File \"/Users/roberto.delprete/Library/CloudStorage/OneDrive-ESA/Desktop/phidown/phidown/downloader.py\", line 134, in traverse_and_download_s3\n",
      "    os.makedirs(local_dir, exist_ok=True)\n",
      "  File \"/opt/miniconda3/envs/phidown/lib/python3.9/os.py\", line 225, in makedirs\n",
      "    mkdir(name, mode)\n",
      "FileExistsError: [Errno 17] File exists: 'S1A_WV_SLC__1SSV_20220503T024447_20220503T031915_043040_0523AE_4B9F.SAFE/annotation'\n"
     ]
    }
   ],
   "source": [
    "!python -m phidown.downloader -eo_product_name S1A_WV_SLC__1SSV_20220503T024447_20220503T031915_043040_0523AE_4B9F.SAFE"
   ]
  },
  {
   "cell_type": "code",
   "execution_count": null,
   "metadata": {},
   "outputs": [],
   "source": []
  }
 ],
 "metadata": {
  "kernelspec": {
   "display_name": "phidown",
   "language": "python",
   "name": "python3"
  },
  "language_info": {
   "codemirror_mode": {
    "name": "ipython",
    "version": 3
   },
   "file_extension": ".py",
   "mimetype": "text/x-python",
   "name": "python",
   "nbconvert_exporter": "python",
   "pygments_lexer": "ipython3",
   "version": "3.9.22"
  }
 },
 "nbformat": 4,
 "nbformat_minor": 2
}
