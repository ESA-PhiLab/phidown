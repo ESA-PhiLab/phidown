{
 "cells": [
  {
   "cell_type": "markdown",
   "metadata": {},
   "source": [
    "# Copernicus Sentinel-2 Data Search and Exploration\n",
    "\n",
    "This Jupyter Notebook demonstrates how to search, filter, and explore Sentinel-2 satellite imagery metadata using the `phidown` library. The workflow includes:\n",
    "\n",
    "- **Setting Search Parameters:**  \n",
    "    The notebook defines parameters such as collection name (`SENTINEL-2`), product type (`S2MSI1C`), cloud cover threshold, area of interest (AOI) in WKT format, date range, and sorting options.\n",
    "\n",
    "- **Executing the Search:**  \n",
    "    An instance of `CopernicusDataSearcher` is configured with the specified parameters and used to query the Copernicus Open Access Hub for matching Sentinel-2 products.\n",
    "\n",
    "- **Viewing Results:**  \n",
    "    The resulting metadata is loaded into a pandas DataFrame (`df`). Key columns such as `Id`, `Name`, `S3Path`, and `GeoFootprint` are displayed for quick inspection.\n",
    "\n",
    "## Variables and Data\n",
    "\n",
    "- **aoi_wkt:** AOI polygon in WKT format. Polygon must start and end with the same point. Coordinates must be given in EPSG 4326\n",
    "- **cloud_cover_threshold:** Maximum allowed cloud cover percentage.\n",
    "- **collection_name:** Data collection to search (`SENTINEL-2`).\n",
    "- **columns_to_display:** List of DataFrame columns to display.\n",
    "- **df:** DataFrame containing search results (1000 entries, 16 columns).\n",
    "- **searcher:** Configured `CopernicusDataSearcher` instance.\n",
    "- **start_date, end_date:** Date range for the search.\n",
    "- **product_type, orbit_direction, order_by, top:** Additional search parameters."
   ]
  },
  {
   "cell_type": "code",
   "execution_count": null,
   "metadata": {},
   "outputs": [],
   "source": [
    "%load_ext autoreload\n",
    "%autoreload 2"
   ]
  },
  {
   "cell_type": "markdown",
   "metadata": {},
   "source": [
    "# Search\n",
    "\n",
    "You can modify the search parameters to refine your query, re-run the search, and further analyze or visualize the results as needed."
   ]
  },
  {
   "cell_type": "markdown",
   "metadata": {},
   "source": [
    "### Sentinel Products"
   ]
  },
  {
   "cell_type": "code",
   "execution_count": 8,
   "metadata": {},
   "outputs": [
    {
     "name": "stdout",
     "output_type": "stream",
     "text": [
      "Number of results: 910\n"
     ]
    },
    {
     "data": {
      "text/html": [
       "<div>\n",
       "<style scoped>\n",
       "    .dataframe tbody tr th:only-of-type {\n",
       "        vertical-align: middle;\n",
       "    }\n",
       "\n",
       "    .dataframe tbody tr th {\n",
       "        vertical-align: top;\n",
       "    }\n",
       "\n",
       "    .dataframe thead th {\n",
       "        text-align: right;\n",
       "    }\n",
       "</style>\n",
       "<table border=\"1\" class=\"dataframe\">\n",
       "  <thead>\n",
       "    <tr style=\"text-align: right;\">\n",
       "      <th></th>\n",
       "      <th>Id</th>\n",
       "      <th>Name</th>\n",
       "      <th>S3Path</th>\n",
       "      <th>GeoFootprint</th>\n",
       "      <th>OriginDate</th>\n",
       "      <th>Attributes</th>\n",
       "    </tr>\n",
       "  </thead>\n",
       "  <tbody>\n",
       "    <tr>\n",
       "      <th>0</th>\n",
       "      <td>00cd06ea-80e6-4ee2-9fb3-b5c0ec189186</td>\n",
       "      <td>S1A_S6_RAW__0SDV_20240502T195132_20240502T1951...</td>\n",
       "      <td>/eodata/Sentinel-1/SAR/S6_RAW__0S/2024/05/02/S...</td>\n",
       "      <td>{'type': 'Polygon', 'coordinates': [[[-24.5551...</td>\n",
       "      <td>2024-05-02 20:15:12</td>\n",
       "      <td>[{'@odata.type': '#OData.CSC.StringAttribute',...</td>\n",
       "    </tr>\n",
       "    <tr>\n",
       "      <th>1</th>\n",
       "      <td>e68c7e10-7213-443e-857c-f9ddadb648fb</td>\n",
       "      <td>S1A_S4_RAW__0SDV_20240502T193657_20240502T1937...</td>\n",
       "      <td>/eodata/Sentinel-1/SAR/S4_RAW__0S/2024/05/02/S...</td>\n",
       "      <td>{'type': 'Polygon', 'coordinates': [[[-12.4077...</td>\n",
       "      <td>2024-05-02 20:15:29</td>\n",
       "      <td>[{'@odata.type': '#OData.CSC.StringAttribute',...</td>\n",
       "    </tr>\n",
       "    <tr>\n",
       "      <th>2</th>\n",
       "      <td>8f52959c-83d4-4568-8b9c-3bdc7933c14b</td>\n",
       "      <td>S1A_S1_RAW__0SDH_20240502T121147_20240502T1212...</td>\n",
       "      <td>/eodata/Sentinel-1/SAR/S1_RAW__0S/2024/05/02/S...</td>\n",
       "      <td>{'type': 'Polygon', 'coordinates': [[[-88.2859...</td>\n",
       "      <td>2024-05-02 13:07:28</td>\n",
       "      <td>[{'@odata.type': '#OData.CSC.StringAttribute',...</td>\n",
       "    </tr>\n",
       "    <tr>\n",
       "      <th>3</th>\n",
       "      <td>54192b79-3683-4234-82f6-78f154af2d1c</td>\n",
       "      <td>S1A_S4_RAW__0SDV_20240502T062925_20240502T0629...</td>\n",
       "      <td>/eodata/Sentinel-1/SAR/S4_RAW__0S/2024/05/02/S...</td>\n",
       "      <td>{'type': 'Polygon', 'coordinates': [[[-177.858...</td>\n",
       "      <td>2024-05-02 07:16:16</td>\n",
       "      <td>[{'@odata.type': '#OData.CSC.StringAttribute',...</td>\n",
       "    </tr>\n",
       "    <tr>\n",
       "      <th>4</th>\n",
       "      <td>c03e2735-12b5-47cd-9deb-af959af4aa55</td>\n",
       "      <td>S1A_S6_RAW__0SDV_20240502T055859_20240502T0559...</td>\n",
       "      <td>/eodata/Sentinel-1/SAR/S6_RAW__0S/2024/05/02/S...</td>\n",
       "      <td>{'type': 'Polygon', 'coordinates': [[[-12.6051...</td>\n",
       "      <td>2024-05-02 07:16:24</td>\n",
       "      <td>[{'@odata.type': '#OData.CSC.StringAttribute',...</td>\n",
       "    </tr>\n",
       "  </tbody>\n",
       "</table>\n",
       "</div>"
      ],
      "text/plain": [
       "                                     Id  \\\n",
       "0  00cd06ea-80e6-4ee2-9fb3-b5c0ec189186   \n",
       "1  e68c7e10-7213-443e-857c-f9ddadb648fb   \n",
       "2  8f52959c-83d4-4568-8b9c-3bdc7933c14b   \n",
       "3  54192b79-3683-4234-82f6-78f154af2d1c   \n",
       "4  c03e2735-12b5-47cd-9deb-af959af4aa55   \n",
       "\n",
       "                                                Name  \\\n",
       "0  S1A_S6_RAW__0SDV_20240502T195132_20240502T1951...   \n",
       "1  S1A_S4_RAW__0SDV_20240502T193657_20240502T1937...   \n",
       "2  S1A_S1_RAW__0SDH_20240502T121147_20240502T1212...   \n",
       "3  S1A_S4_RAW__0SDV_20240502T062925_20240502T0629...   \n",
       "4  S1A_S6_RAW__0SDV_20240502T055859_20240502T0559...   \n",
       "\n",
       "                                              S3Path  \\\n",
       "0  /eodata/Sentinel-1/SAR/S6_RAW__0S/2024/05/02/S...   \n",
       "1  /eodata/Sentinel-1/SAR/S4_RAW__0S/2024/05/02/S...   \n",
       "2  /eodata/Sentinel-1/SAR/S1_RAW__0S/2024/05/02/S...   \n",
       "3  /eodata/Sentinel-1/SAR/S4_RAW__0S/2024/05/02/S...   \n",
       "4  /eodata/Sentinel-1/SAR/S6_RAW__0S/2024/05/02/S...   \n",
       "\n",
       "                                        GeoFootprint           OriginDate  \\\n",
       "0  {'type': 'Polygon', 'coordinates': [[[-24.5551...  2024-05-02 20:15:12   \n",
       "1  {'type': 'Polygon', 'coordinates': [[[-12.4077...  2024-05-02 20:15:29   \n",
       "2  {'type': 'Polygon', 'coordinates': [[[-88.2859...  2024-05-02 13:07:28   \n",
       "3  {'type': 'Polygon', 'coordinates': [[[-177.858...  2024-05-02 07:16:16   \n",
       "4  {'type': 'Polygon', 'coordinates': [[[-12.6051...  2024-05-02 07:16:24   \n",
       "\n",
       "                                          Attributes  \n",
       "0  [{'@odata.type': '#OData.CSC.StringAttribute',...  \n",
       "1  [{'@odata.type': '#OData.CSC.StringAttribute',...  \n",
       "2  [{'@odata.type': '#OData.CSC.StringAttribute',...  \n",
       "3  [{'@odata.type': '#OData.CSC.StringAttribute',...  \n",
       "4  [{'@odata.type': '#OData.CSC.StringAttribute',...  "
      ]
     },
     "execution_count": 8,
     "metadata": {},
     "output_type": "execute_result"
    }
   ],
   "source": [
    "from phidown.search import CopernicusDataSearcher\n",
    "# You can modify these parameters as needed\n",
    "\n",
    "aoi_wkt = \"POLYGON((-95.0 29.0, -95.0 30.0, -94.0 30.0, -94.0 29.0, -95.0 29.0))\"  # Define the AOI in WKT format\n",
    "aoi_wkt = None \n",
    "\n",
    "searcher = CopernicusDataSearcher()\n",
    "# Configure the search parameters\n",
    "searcher.query_by_filter(\n",
    "    collection_name='SENTINEL-1',\n",
    "    product_type=None,\n",
    "    orbit_direction=None,\n",
    "    cloud_cover_threshold=None,\n",
    "    aoi_wkt=aoi_wkt,  # Example: aoi_wkt=aoi_wkt if you want to use the defined AOI\n",
    "    start_date = '2023-05-03T00:00:00',\n",
    "    end_date = '2024-05-03T04:00:00',\n",
    "    top=1000,\n",
    "    count=True,  # Set to True to get the total count of results\n",
    "    attributes={'processingLevel':'LEVEL0',\n",
    "                'operationalMode': 'SM',\n",
    "                # 'swathIdentifier': 'S1', # Swath identifier is: 1,2,3,4,5,6 for RAW\n",
    "                } # Swath identifier Stripmap: S1, ..., S6 | 'WV1,WV2' for wavemode\n",
    "    # base_url defaults to 'https://catalogue.dataspace.copernicus.eu/odata/v1/Products'\n",
    "    # order_by defaults to 'ContentDate/Start desc'\n",
    ")\n",
    "\n",
    "df = searcher.execute_query()\n",
    "print(f\"Number of results: {len(df)}\")\n",
    "# Display the first few rows of the DataFrame\n",
    "searcher.display_results(top_n=5)"
   ]
  },
  {
   "cell_type": "markdown",
   "metadata": {},
   "source": [
    "### CCM"
   ]
  },
  {
   "cell_type": "code",
   "execution_count": null,
   "metadata": {},
   "outputs": [],
   "source": [
    "from phidown.search import CopernicusDataSearcher\n",
    "# You can modify these parameters as needed\n",
    "\n",
    "searcher = CopernicusDataSearcher()\n",
    "# Configure the search parameters\n",
    "searcher.query_by_filter(\n",
    "    collection_name='CCM',\n",
    "    product_type='NAO_MS4_2A_07B6',\n",
    "    orbit_direction=None,\n",
    "    cloud_cover_threshold=None,\n",
    "    aoi_wkt=None,  # Use the defined AOI\n",
    "    start_date='2014-05-03T00:00:00',\n",
    "    end_date='2024-05-03T04:00:00',\n",
    "    top=1000,\n",
    "    attributes=None\n",
    ")\n",
    "\n",
    "df = searcher.execute_query()\n",
    "print(f\"Number of results: {len(df)}\")\n",
    "# Display the first few rows of the DataFrame\n",
    "searcher.display_results(top_n=5)"
   ]
  },
  {
   "cell_type": "markdown",
   "metadata": {},
   "source": [
    "### Search by Product Name (Exact Match)\n",
    "\n",
    "You can search for a specific product if you know its exact name."
   ]
  },
  {
   "cell_type": "markdown",
   "metadata": {},
   "source": [
    "**Tip:**\n",
    "\n",
    "To search by exact product name, make sure the name exists in the Copernicus Data Space catalogue. You can find valid product names by running a general search first, or by browsing the [Copernicus Data Space Catalogue](https://dataspace.copernicus.eu/browser/). If your search returns no results, try using a product name from the official documentation or a recent search result.\n",
    "\n",
    "Below, we use a known-valid product name as an example."
   ]
  },
  {
   "cell_type": "code",
   "execution_count": 2,
   "metadata": {},
   "outputs": [
    {
     "name": "stdout",
     "output_type": "stream",
     "text": [
      "Searching for product with exact name: S1A_IW_GRDH_1SDV_20141031T161924_20141031T161949_003076_003856_634E.SAFE\n",
      "\n"
     ]
    },
    {
     "data": {
      "text/html": [
       "<div>\n",
       "<style scoped>\n",
       "    .dataframe tbody tr th:only-of-type {\n",
       "        vertical-align: middle;\n",
       "    }\n",
       "\n",
       "    .dataframe tbody tr th {\n",
       "        vertical-align: top;\n",
       "    }\n",
       "\n",
       "    .dataframe thead th {\n",
       "        text-align: right;\n",
       "    }\n",
       "</style>\n",
       "<table border=\"1\" class=\"dataframe\">\n",
       "  <thead>\n",
       "    <tr style=\"text-align: right;\">\n",
       "      <th></th>\n",
       "      <th>@odata.mediaContentType</th>\n",
       "      <th>Id</th>\n",
       "      <th>Name</th>\n",
       "      <th>ContentType</th>\n",
       "      <th>ContentLength</th>\n",
       "      <th>OriginDate</th>\n",
       "      <th>PublicationDate</th>\n",
       "      <th>ModificationDate</th>\n",
       "      <th>Online</th>\n",
       "      <th>EvictionDate</th>\n",
       "      <th>S3Path</th>\n",
       "      <th>Checksum</th>\n",
       "      <th>ContentDate</th>\n",
       "      <th>Footprint</th>\n",
       "      <th>GeoFootprint</th>\n",
       "      <th>Attributes</th>\n",
       "    </tr>\n",
       "  </thead>\n",
       "  <tbody>\n",
       "    <tr>\n",
       "      <th>0</th>\n",
       "      <td>application/octet-stream</td>\n",
       "      <td>c23d5ffd-bc2a-54c1-a2cf-e2dc18bc945f</td>\n",
       "      <td>S1A_IW_GRDH_1SDV_20141031T161924_20141031T1619...</td>\n",
       "      <td>application/octet-stream</td>\n",
       "      <td>1748087439</td>\n",
       "      <td>2014-12-27 02:54:17</td>\n",
       "      <td>2016-08-21T07:27:38.211866Z</td>\n",
       "      <td>2024-06-11T19:29:45.682674Z</td>\n",
       "      <td>True</td>\n",
       "      <td>9999-12-31T23:59:59.999999Z</td>\n",
       "      <td>/eodata/Sentinel-1/SAR/GRD/2014/10/31/S1A_IW_G...</td>\n",
       "      <td>[{'Value': '2532e4332148e698b1d07669a8cd9ca0',...</td>\n",
       "      <td>{'Start': '2014-10-31T16:19:24.220594Z', 'End'...</td>\n",
       "      <td>geography'SRID=4326;POLYGON ((19.165325 54.983...</td>\n",
       "      <td>{'type': 'Polygon', 'coordinates': [[[19.16532...</td>\n",
       "      <td>[{'@odata.type': '#OData.CSC.StringAttribute',...</td>\n",
       "    </tr>\n",
       "  </tbody>\n",
       "</table>\n",
       "</div>"
      ],
      "text/plain": [
       "    @odata.mediaContentType                                    Id  \\\n",
       "0  application/octet-stream  c23d5ffd-bc2a-54c1-a2cf-e2dc18bc945f   \n",
       "\n",
       "                                                Name  \\\n",
       "0  S1A_IW_GRDH_1SDV_20141031T161924_20141031T1619...   \n",
       "\n",
       "                ContentType  ContentLength           OriginDate  \\\n",
       "0  application/octet-stream     1748087439  2014-12-27 02:54:17   \n",
       "\n",
       "               PublicationDate             ModificationDate  Online  \\\n",
       "0  2016-08-21T07:27:38.211866Z  2024-06-11T19:29:45.682674Z    True   \n",
       "\n",
       "                  EvictionDate  \\\n",
       "0  9999-12-31T23:59:59.999999Z   \n",
       "\n",
       "                                              S3Path  \\\n",
       "0  /eodata/Sentinel-1/SAR/GRD/2014/10/31/S1A_IW_G...   \n",
       "\n",
       "                                            Checksum  \\\n",
       "0  [{'Value': '2532e4332148e698b1d07669a8cd9ca0',...   \n",
       "\n",
       "                                         ContentDate  \\\n",
       "0  {'Start': '2014-10-31T16:19:24.220594Z', 'End'...   \n",
       "\n",
       "                                           Footprint  \\\n",
       "0  geography'SRID=4326;POLYGON ((19.165325 54.983...   \n",
       "\n",
       "                                        GeoFootprint  \\\n",
       "0  {'type': 'Polygon', 'coordinates': [[[19.16532...   \n",
       "\n",
       "                                          Attributes  \n",
       "0  [{'@odata.type': '#OData.CSC.StringAttribute',...  "
      ]
     },
     "metadata": {},
     "output_type": "display_data"
    }
   ],
   "source": [
    "from phidown.search import CopernicusDataSearcher\n",
    "\n",
    "searcher_by_name = CopernicusDataSearcher()\n",
    "\n",
    "# Replace with an actual product name you want to find\n",
    "product_to_find = 'S1A_IW_GRDH_1SDV_20141031T161924_20141031T161949_003076_003856_634E.SAFE' # Example, replace with a recent, valid name\n",
    "\n",
    "print(f\"Searching for product with exact name: {product_to_find}\\n\")\n",
    "df_exact = searcher_by_name.query_by_name(product_name=product_to_find)\n",
    "\n",
    "if not df_exact.empty:\n",
    "    searcher_by_name.display_results(top_n=1)\n",
    "    display(df_exact)\n",
    "else:\n",
    "    print(f\"Product '{product_to_find}' not found or an error occurred.\")"
   ]
  },
  {
   "cell_type": "markdown",
   "metadata": {},
   "source": [
    "## 📥 Download Your Product\n",
    "\n",
    "Important:\n",
    "If your credentials are not deleted automatically, you must manually revoke them here:\n",
    "\n",
    "🔗 Manage S3 Credentials: https://eodata-s3keysmanager.dataspace.copernicus.eu/panel/s3-credentials\n",
    "\n",
    "Stay secure — always clean up your credentials!"
   ]
  },
  {
   "cell_type": "code",
   "execution_count": 1,
   "metadata": {},
   "outputs": [
    {
     "name": "stdout",
     "output_type": "stream",
     "text": [
      "Downloading product: S1A_S3_SLC__1SDH_20240430T213606_20240430T213631_053668_0684A3_FCED.SAFE\n",
      "Output directory: /Users/robertodelprete/Desktop/PyProjects/sar/phidown\n",
      "Pulling down from S3 path: /eodata/Sentinel-1/SAR/S3_SLC__1S/2024/04/30/S1A_S3_SLC__1SDH_20240430T213606_20240430T213631_053668_0684A3_FCED.SAFE\n"
     ]
    },
    {
     "name": "stderr",
     "output_type": "stream",
     "text": [
      "INFO:phidown.s5cmd_utils:Created configuration file: .s5cfg\n",
      "INFO:phidown.s5cmd_utils:Downloading from: s3://eodata/Sentinel-1/SAR/S3_SLC__1S/2024/04/30/S1A_S3_SLC__1SDH_20240430T213606_20240430T213631_053668_0684A3_FCED.SAFE/*\n",
      "INFO:phidown.s5cmd_utils:Output directory: /Users/robertodelprete/Desktop/PyProjects/sar/phidown/S1A_S3_SLC__1SDH_20240430T213606_20240430T213631_053668_0684A3_FCED.SAFE\n",
      "INFO:phidown.s5cmd_utils:Running command: s5cmd --endpoint-url https://eodata.dataspace.copernicus.eu cp s3://eodata/Sentinel-1/SAR/S3_SLC__1S/2024/04/30/S1A_S3_SLC__1SDH_20240430T213606_20240430T213631_053668_0684A3_FCED.SAFE/* /Users/robertodelprete/Desktop/PyProjects/sar/phidown/S1A_S3_SLC__1SDH_20240430T213606_20240430T213631_053668_0684A3_FCED.SAFE/\n"
     ]
    }
   ],
   "source": [
    "from phidown.search import CopernicusDataSearcher\n",
    "\n",
    "searcher = CopernicusDataSearcher() \n",
    "\n",
    "filename = 'S1A_S3_SLC__1SDH_20240430T213606_20240430T213631_053668_0684A3_FCED.SAFE'\n",
    "searcher.download_product(filename, output_dir='.')"
   ]
  }
 ],
 "metadata": {
  "kernelspec": {
   "display_name": ".venv",
   "language": "python",
   "name": "python3"
  },
  "language_info": {
   "codemirror_mode": {
    "name": "ipython",
    "version": 3
   },
   "file_extension": ".py",
   "mimetype": "text/x-python",
   "name": "python",
   "nbconvert_exporter": "python",
   "pygments_lexer": "ipython3",
   "version": "3.12.9"
  }
 },
 "nbformat": 4,
 "nbformat_minor": 2
}
