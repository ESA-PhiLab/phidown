{
 "cells": [
  {
   "cell_type": "markdown",
   "metadata": {},
   "source": [
    "# Copernicus Sentinel-2 Data Search and Exploration\n",
    "\n",
    "This Jupyter Notebook demonstrates how to search, filter, and explore Sentinel-2 satellite imagery metadata using the `phidown` library. The workflow includes:\n",
    "\n",
    "- **Setting Search Parameters:**  \n",
    "    The notebook defines parameters such as collection name (`SENTINEL-2`), product type (`S2MSI1C`), cloud cover threshold, area of interest (AOI) in WKT format, date range, and sorting options.\n",
    "\n",
    "- **Executing the Search:**  \n",
    "    An instance of `CopernicusDataSearcher` is configured with the specified parameters and used to query the Copernicus Open Access Hub for matching Sentinel-2 products.\n",
    "\n",
    "- **Viewing Results:**  \n",
    "    The resulting metadata is loaded into a pandas DataFrame (`df`). Key columns such as `Id`, `Name`, `S3Path`, and `GeoFootprint` are displayed for quick inspection.\n",
    "\n",
    "## Variables and Data\n",
    "\n",
    "- **aoi_wkt:** AOI polygon in WKT format. Polygon must start and end with the same point. Coordinates must be given in EPSG 4326\n",
    "- **cloud_cover_threshold:** Maximum allowed cloud cover percentage.\n",
    "- **collection_name:** Data collection to search (`SENTINEL-2`).\n",
    "- **columns_to_display:** List of DataFrame columns to display.\n",
    "- **df:** DataFrame containing search results (1000 entries, 16 columns).\n",
    "- **searcher:** Configured `CopernicusDataSearcher` instance.\n",
    "- **start_date, end_date:** Date range for the search.\n",
    "- **product_type, orbit_direction, order_by, top:** Additional search parameters."
   ]
  },
  {
   "cell_type": "code",
   "execution_count": null,
   "metadata": {},
   "outputs": [],
   "source": [
    "%load_ext autoreload\n",
    "%autoreload 2"
   ]
  },
  {
   "cell_type": "markdown",
   "metadata": {},
   "source": [
    "# Search\n",
    "\n",
    "You can modify the search parameters to refine your query, re-run the search, and further analyze or visualize the results as needed."
   ]
  },
  {
   "cell_type": "markdown",
   "metadata": {},
   "source": [
    "### Sentinel Products"
   ]
  },
  {
   "cell_type": "code",
   "execution_count": 1,
   "metadata": {},
   "outputs": [
    {
     "ename": "ModuleNotFoundError",
     "evalue": "No module named 'downloader'",
     "output_type": "error",
     "traceback": [
      "\u001b[31m---------------------------------------------------------------------------\u001b[39m",
      "\u001b[31mModuleNotFoundError\u001b[39m                       Traceback (most recent call last)",
      "\u001b[36mCell\u001b[39m\u001b[36m \u001b[39m\u001b[32mIn[1]\u001b[39m\u001b[32m, line 1\u001b[39m\n\u001b[32m----> \u001b[39m\u001b[32m1\u001b[39m \u001b[38;5;28;01mfrom\u001b[39;00m\u001b[38;5;250m \u001b[39m\u001b[34;01mphidown\u001b[39;00m\u001b[34;01m.\u001b[39;00m\u001b[34;01msearch\u001b[39;00m\u001b[38;5;250m \u001b[39m\u001b[38;5;28;01mimport\u001b[39;00m CopernicusDataSearcher\n\u001b[32m      2\u001b[39m \u001b[38;5;66;03m# You can modify these parameters as needed\u001b[39;00m\n\u001b[32m      4\u001b[39m aoi_wkt = \u001b[33m\"\u001b[39m\u001b[33mPOLYGON((-95.0 29.0, -95.0 30.0, -94.0 30.0, -94.0 29.0, -95.0 29.0))\u001b[39m\u001b[33m\"\u001b[39m  \u001b[38;5;66;03m# Define the AOI in WKT format\u001b[39;00m\n",
      "\u001b[36mFile \u001b[39m\u001b[32m~/Library/CloudStorage/OneDrive-ESA/Desktop/phidown/phidown/search.py:7\u001b[39m\n\u001b[32m      5\u001b[39m \u001b[38;5;28;01mimport\u001b[39;00m\u001b[38;5;250m \u001b[39m\u001b[34;01mtyping\u001b[39;00m\n\u001b[32m      6\u001b[39m \u001b[38;5;28;01mfrom\u001b[39;00m\u001b[38;5;250m \u001b[39m\u001b[34;01mdatetime\u001b[39;00m\u001b[38;5;250m \u001b[39m\u001b[38;5;28;01mimport\u001b[39;00m datetime\n\u001b[32m----> \u001b[39m\u001b[32m7\u001b[39m \u001b[38;5;28;01mfrom\u001b[39;00m\u001b[38;5;250m \u001b[39m\u001b[34;01mdownloader\u001b[39;00m\u001b[38;5;250m \u001b[39m\u001b[38;5;28;01mimport\u001b[39;00m pull_down\n\u001b[32m      9\u001b[39m \u001b[38;5;66;03m# Write the credentials from config.json!\u001b[39;00m\n\u001b[32m     10\u001b[39m \n\u001b[32m     11\u001b[39m \n\u001b[32m   (...)\u001b[39m\u001b[32m     24\u001b[39m \u001b[38;5;66;03m# The search results are returned as a pandas DataFrame, and you can\u001b[39;00m\n\u001b[32m     25\u001b[39m \u001b[38;5;66;03m# display specific columns of interest.\u001b[39;00m\n\u001b[32m     28\u001b[39m \u001b[38;5;28;01mclass\u001b[39;00m\u001b[38;5;250m \u001b[39m\u001b[34;01mCopernicusDataSearcher\u001b[39;00m:\n",
      "\u001b[31mModuleNotFoundError\u001b[39m: No module named 'downloader'"
     ]
    }
   ],
   "source": [
    "from phidown.search import CopernicusDataSearcher\n",
    "# You can modify these parameters as needed\n",
    "\n",
    "aoi_wkt = \"POLYGON((-95.0 29.0, -95.0 30.0, -94.0 30.0, -94.0 29.0, -95.0 29.0))\"  # Define the AOI in WKT format\n",
    "\n",
    "searcher = CopernicusDataSearcher(\n",
    "    collection_name='SENTINEL-1',\n",
    "    product_type='SLC',\n",
    "    orbit_direction=None,\n",
    "    cloud_cover_threshold=None,\n",
    "    aoi_wkt=None,  # Use the defined AOI\n",
    "    start_date='2023-05-03T00:00:00.000Z',\n",
    "    end_date='2024-05-03T04:00:00.000Z',\n",
    "    top=1000,\n",
    "    attributes={'swathIdentifier': 'S1'}, # Swath identifier Stripmap: S1, ..., S6 | 'WV1,WV2' for wavemode\n",
    ")\n",
    "\n",
    "df = searcher.execute_query()\n",
    "print(f\"Number of results: {len(df)}\")\n",
    "# Display the first few rows of the DataFrame\n",
    "searcher.display_results(top_n=15)"
   ]
  },
  {
   "cell_type": "markdown",
   "metadata": {},
   "source": [
    "### CCM"
   ]
  },
  {
   "cell_type": "code",
   "execution_count": null,
   "metadata": {},
   "outputs": [],
   "source": [
    "from phidown.search import CopernicusDataSearcher\n",
    "# You can modify these parameters as needed\n",
    "\n",
    "\n",
    "searcher = CopernicusDataSearcher(\n",
    "    collection_name='CCM',\n",
    "    product_type='NAO_MS4_2A_07B6',\n",
    "    orbit_direction=None,\n",
    "    cloud_cover_threshold=None,\n",
    "    aoi_wkt=None,  # Use the defined AOI\n",
    "    start_date='2014-05-03T00:00:00.000Z',\n",
    "    end_date='2024-05-03T04:00:00.000Z',\n",
    "    top=1000,\n",
    "    attributes=None, \n",
    ")\n",
    "\n",
    "df = searcher.execute_query()\n",
    "print(f\"Number of results: {len(df)}\")\n",
    "# Display the first few rows of the DataFrame\n",
    "searcher.display_results(top_n=15)"
   ]
  },
  {
   "cell_type": "markdown",
   "metadata": {},
   "source": [
    "## 📥 Download Your Product\n",
    "\n",
    "Important:\n",
    "If your credentials are not deleted automatically, you must manually revoke them here:\n",
    "\n",
    "🔗 Manage S3 Credentials: https://eodata-s3keysmanager.dataspace.copernicus.eu/panel/s3-credentials\n",
    "\n",
    "Stay secure — always clean up your credentials!"
   ]
  },
  {
   "cell_type": "code",
   "execution_count": null,
   "metadata": {},
   "outputs": [],
   "source": [
    "filename = 'S1A_S3_SLC__1SDH_20240430T213606_20240430T213631_053668_0684A3_FCED.SAFE'\n",
    "searcher.download_product(filename)"
   ]
  },
  {
   "cell_type": "markdown",
   "metadata": {},
   "source": [
    "Alternative CLI:\n",
    "\n",
    "In your command line \n",
    "```bash \n",
    "python -m phidown.downloader -u {username} -p {password} -eo_product_name {filename}\n",
    "```\n"
   ]
  },
  {
   "cell_type": "code",
   "execution_count": null,
   "metadata": {},
   "outputs": [],
   "source": [
    "from phidown.downloader import load_credentials\n",
    "# Download the product using the command line\n",
    "filename = 'S1A_IW_SLC__1SDV_20220503T034102_20220503T034129_043041_0523B0_16A0.SAFE'\n",
    "username, password = load_credentials()\n",
    "# Run the command line downloader\n",
    "# Note: You need to have the phidown package installed and available in your PATH\n",
    "!python -m phidown.downloader -u {username} -p {password} -eo_product_name {filename}"
   ]
  }
 ],
 "metadata": {
  "kernelspec": {
   "display_name": "py312",
   "language": "python",
   "name": "python3"
  },
  "language_info": {
   "codemirror_mode": {
    "name": "ipython",
    "version": 3
   },
   "file_extension": ".py",
   "mimetype": "text/x-python",
   "name": "python",
   "nbconvert_exporter": "python",
   "pygments_lexer": "ipython3",
   "version": "3.12.10"
  }
 },
 "nbformat": 4,
 "nbformat_minor": 2
}
