{
 "cells": [
  {
   "cell_type": "markdown",
   "metadata": {},
   "source": [
    "# Copernicus Sentinel-2 Data Search and Exploration\n",
    "\n",
    "This Jupyter Notebook demonstrates how to search, filter, and explore Sentinel-2 satellite imagery metadata using the `phisenapi` library. The workflow includes:\n",
    "\n",
    "- **Setting Search Parameters:**  \n",
    "    The notebook defines parameters such as collection name (`SENTINEL-2`), product type (`S2MSI1C`), cloud cover threshold, area of interest (AOI) in WKT format, date range, and sorting options.\n",
    "\n",
    "- **Executing the Search:**  \n",
    "    An instance of `CopernicusDataSearcher` is configured with the specified parameters and used to query the Copernicus Open Access Hub for matching Sentinel-2 products.\n",
    "\n",
    "- **Viewing Results:**  \n",
    "    The resulting metadata is loaded into a pandas DataFrame (`df`). Key columns such as `Id`, `Name`, `S3Path`, and `GeoFootprint` are displayed for quick inspection.\n",
    "\n",
    "## Variables and Data\n",
    "\n",
    "- **aoi_wkt:** AOI polygon in WKT format. Polygon must start and end with the same point. Coordinates must be given in EPSG 4326\n",
    "- **cloud_cover_threshold:** Maximum allowed cloud cover percentage.\n",
    "- **collection_name:** Data collection to search (`SENTINEL-2`).\n",
    "- **columns_to_display:** List of DataFrame columns to display.\n",
    "- **df:** DataFrame containing search results (1000 entries, 16 columns).\n",
    "- **searcher:** Configured `CopernicusDataSearcher` instance.\n",
    "- **start_date, end_date:** Date range for the search.\n",
    "- **product_type, orbit_direction, order_by, top:** Additional search parameters."
   ]
  },
  {
   "cell_type": "code",
   "execution_count": null,
   "metadata": {},
   "outputs": [],
   "source": [
    "%load_ext autoreload\n",
    "%autoreload 2"
   ]
  },
  {
   "cell_type": "markdown",
   "metadata": {},
   "source": [
    "# Search\n",
    "\n",
    "You can modify the search parameters to refine your query, re-run the search, and further analyze or visualize the results as needed."
   ]
  },
  {
   "cell_type": "code",
   "execution_count": 1,
   "metadata": {},
   "outputs": [
    {
     "data": {
      "text/html": [
       "<div>\n",
       "<style scoped>\n",
       "    .dataframe tbody tr th:only-of-type {\n",
       "        vertical-align: middle;\n",
       "    }\n",
       "\n",
       "    .dataframe tbody tr th {\n",
       "        vertical-align: top;\n",
       "    }\n",
       "\n",
       "    .dataframe thead th {\n",
       "        text-align: right;\n",
       "    }\n",
       "</style>\n",
       "<table border=\"1\" class=\"dataframe\">\n",
       "  <thead>\n",
       "    <tr style=\"text-align: right;\">\n",
       "      <th></th>\n",
       "      <th>Id</th>\n",
       "      <th>Name</th>\n",
       "      <th>S3Path</th>\n",
       "      <th>GeoFootprint</th>\n",
       "      <th>OriginDate</th>\n",
       "      <th>Attributes</th>\n",
       "    </tr>\n",
       "  </thead>\n",
       "  <tbody>\n",
       "    <tr>\n",
       "      <th>0</th>\n",
       "      <td>0720d51b-aad3-5972-a41f-9fb5a377d88c</td>\n",
       "      <td>S1A_IW_SLC__1SDV_20220503T035608_20220503T0356...</td>\n",
       "      <td>/eodata/Sentinel-1/SAR/SLC/2022/05/03/S1A_IW_S...</td>\n",
       "      <td>{'type': 'Polygon', 'coordinates': [[[25.95559...</td>\n",
       "      <td>2022-05-03 09:09:06</td>\n",
       "      <td>[{'@odata.type': '#OData.CSC.StringAttribute',...</td>\n",
       "    </tr>\n",
       "    <tr>\n",
       "      <th>1</th>\n",
       "      <td>ea2651cc-cbc5-56da-965e-0742b927cfc6</td>\n",
       "      <td>S1A_IW_SLC__1SDV_20220503T035542_20220503T0356...</td>\n",
       "      <td>/eodata/Sentinel-1/SAR/SLC/2022/05/03/S1A_IW_S...</td>\n",
       "      <td>{'type': 'Polygon', 'coordinates': [[[26.37545...</td>\n",
       "      <td>2022-05-03 09:24:00</td>\n",
       "      <td>[{'@odata.type': '#OData.CSC.StringAttribute',...</td>\n",
       "    </tr>\n",
       "    <tr>\n",
       "      <th>2</th>\n",
       "      <td>6bcec001-b3ac-5537-bb33-b52ec097f46d</td>\n",
       "      <td>S1A_IW_SLC__1SDV_20220503T035517_20220503T0355...</td>\n",
       "      <td>/eodata/Sentinel-1/SAR/SLC/2022/05/03/S1A_IW_S...</td>\n",
       "      <td>{'type': 'Polygon', 'coordinates': [[[26.72352...</td>\n",
       "      <td>2022-05-03 09:15:13</td>\n",
       "      <td>[{'@odata.type': '#OData.CSC.StringAttribute',...</td>\n",
       "    </tr>\n",
       "  </tbody>\n",
       "</table>\n",
       "</div>"
      ],
      "text/plain": [
       "                                     Id  \\\n",
       "0  0720d51b-aad3-5972-a41f-9fb5a377d88c   \n",
       "1  ea2651cc-cbc5-56da-965e-0742b927cfc6   \n",
       "2  6bcec001-b3ac-5537-bb33-b52ec097f46d   \n",
       "\n",
       "                                                Name  \\\n",
       "0  S1A_IW_SLC__1SDV_20220503T035608_20220503T0356...   \n",
       "1  S1A_IW_SLC__1SDV_20220503T035542_20220503T0356...   \n",
       "2  S1A_IW_SLC__1SDV_20220503T035517_20220503T0355...   \n",
       "\n",
       "                                              S3Path  \\\n",
       "0  /eodata/Sentinel-1/SAR/SLC/2022/05/03/S1A_IW_S...   \n",
       "1  /eodata/Sentinel-1/SAR/SLC/2022/05/03/S1A_IW_S...   \n",
       "2  /eodata/Sentinel-1/SAR/SLC/2022/05/03/S1A_IW_S...   \n",
       "\n",
       "                                        GeoFootprint           OriginDate  \\\n",
       "0  {'type': 'Polygon', 'coordinates': [[[25.95559...  2022-05-03 09:09:06   \n",
       "1  {'type': 'Polygon', 'coordinates': [[[26.37545...  2022-05-03 09:24:00   \n",
       "2  {'type': 'Polygon', 'coordinates': [[[26.72352...  2022-05-03 09:15:13   \n",
       "\n",
       "                                          Attributes  \n",
       "0  [{'@odata.type': '#OData.CSC.StringAttribute',...  \n",
       "1  [{'@odata.type': '#OData.CSC.StringAttribute',...  \n",
       "2  [{'@odata.type': '#OData.CSC.StringAttribute',...  "
      ]
     },
     "execution_count": 1,
     "metadata": {},
     "output_type": "execute_result"
    }
   ],
   "source": [
    "from phidown.search import CopernicusDataSearcher\n",
    "# You can modify these parameters as needed\n",
    "\n",
    "searcher = CopernicusDataSearcher(\n",
    "    collection_names=['SENTINEL-1'],\n",
    "    product_type='SLC',\n",
    "    orbit_direction=None,\n",
    "    cloud_cover_threshold=None,\n",
    "    start_date='2022-05-03T00:00:00.000Z',\n",
    "    end_date='2022-05-03T04:00:00.000Z',\n",
    "    top=3,\n",
    ")\n",
    "df = searcher.execute_query()\n",
    "searcher.display_results()"
   ]
  },
  {
   "cell_type": "code",
   "execution_count": 2,
   "metadata": {},
   "outputs": [
    {
     "name": "stdout",
     "output_type": "stream",
     "text": [
      "Downloading S1A_IW_SLC__1SDV_20220503T035608_20220503T035640_043041_0523B3_3750.SAFE...\n",
      "Downloading S1A_IW_SLC__1SDV_20220503T035542_20220503T035610_043041_0523B3_7F8F.SAFE...\n",
      "Downloading S1A_IW_SLC__1SDV_20220503T035517_20220503T035544_043041_0523B3_B9BB.SAFE...\n"
     ]
    }
   ],
   "source": [
    "for product_name in df['Name']:\n",
    "    print(f\"Downloading {product_name}...\")\n",
    "    # searcher.download_product(product_name, output_dir='.', overwrite=True)"
   ]
  },
  {
   "cell_type": "code",
   "execution_count": null,
   "metadata": {},
   "outputs": [
    {
     "name": "stdout",
     "output_type": "stream",
     "text": [
      "Access token saved to disk.\n",
      "Temporary S3 credentials created successfully.\n",
      "access: 1KTF7U79MH0GNQPBJ2EZ\n",
      "secret: uOriDQI0UmLet2O89x3RV6B1nRLDq1iCnDZSaGhC\n"
     ]
    },
    {
     "name": "stderr",
     "output_type": "stream",
     "text": [
      ".                                       |                    |   0% 0.00/0.00B\n"
     ]
    },
    {
     "name": "stdout",
     "output_type": "stream",
     "text": [
      "Failed to download Sentinel-1/SAR/SLC/2022/05/03/S1A_IW_SLC__1SDV_20220503T034102_20220503T034129_043041_0523B0_16A0.SAFE/. Error: [Errno 22] Invalid argument: 'S1A_IW_SLC__1SDV_20220503T034102_20220503T034129_043041_0523B0_16A0.SAFE/..8dc1c0e6' -> 'S1A_IW_SLC__1SDV_20220503T034102_20220503T034129_043041_0523B0_16A0.SAFE/.'\n"
     ]
    },
    {
     "name": "stderr",
     "output_type": "stream",
     "text": [
      "S1A_IW_SLC__1SDV_20220503T034102_2022...|████████████████████| 100% 16.1k/16.1kB\n",
      "annotation                              |                    |   0% 0.00/0.00B\n"
     ]
    },
    {
     "name": "stdout",
     "output_type": "stream",
     "text": [
      "Creating a directory: S1A_IW_SLC__1SDV_20220503T034102_20220503T034129_043041_0523B0_16A0.SAFE/annotation\n"
     ]
    },
    {
     "name": "stderr",
     "output_type": "stream",
     "text": [
      "calibration                             |                    |   0% 0.00/0.00B\n"
     ]
    },
    {
     "name": "stdout",
     "output_type": "stream",
     "text": [
      "Creating a directory: S1A_IW_SLC__1SDV_20220503T034102_20220503T034129_043041_0523B0_16A0.SAFE/annotation/calibration\n"
     ]
    },
    {
     "name": "stderr",
     "output_type": "stream",
     "text": [
      "calibration-s1a-iw1-slc-vh-20220503t0...|████████████████████| 100% 935k/935kB\n",
      "calibration-s1a-iw1-slc-vv-20220503t0...|████████████████████| 100% 935k/935kB\n",
      "calibration-s1a-iw2-slc-vh-20220503t0...|████████████████████| 100% 1.10M/1.10MB\n",
      "calibration-s1a-iw2-slc-vv-20220503t0...|████████████████████| 100% 1.10M/1.10MB\n",
      "calibration-s1a-iw3-slc-vh-20220503t0...|████████████████████| 100% 1.06M/1.06MB\n",
      "calibration-s1a-iw3-slc-vv-20220503t0...|████████████████████| 100% 1.06M/1.06MB\n",
      "noise-s1a-iw1-slc-vh-20220503t034103-...|████████████████████| 100% 131k/131kB\n",
      "noise-s1a-iw1-slc-vv-20220503t034103-...|████████████████████| 100% 131k/131kB\n",
      "noise-s1a-iw2-slc-vh-20220503t034104-...|████████████████████| 100% 145k/145kB\n",
      "noise-s1a-iw2-slc-vv-20220503t034104-...|████████████████████| 100% 145k/145kB\n",
      "noise-s1a-iw3-slc-vh-20220503t034102-...|████████████████████| 100% 145k/145kB\n",
      "noise-s1a-iw3-slc-vv-20220503t034102-...|████████████████████| 100% 145k/145kB\n",
      "rfi                                     |                    |   0% 0.00/0.00B\n"
     ]
    },
    {
     "name": "stdout",
     "output_type": "stream",
     "text": [
      "Creating a directory: S1A_IW_SLC__1SDV_20220503T034102_20220503T034129_043041_0523B0_16A0.SAFE/annotation/rfi\n"
     ]
    },
    {
     "name": "stderr",
     "output_type": "stream",
     "text": [
      "rfi-s1a-iw1-slc-vh-20220503t034103-20...|████████████████████| 100% 14.8k/14.8kB\n",
      "rfi-s1a-iw1-slc-vv-20220503t034103-20...|████████████████████| 100% 6.42k/6.42kB\n",
      "rfi-s1a-iw2-slc-vh-20220503t034104-20...|████████████████████| 100% 15.1k/15.1kB\n",
      "rfi-s1a-iw2-slc-vv-20220503t034104-20...|████████████████████| 100% 6.76k/6.76kB\n",
      "rfi-s1a-iw3-slc-vh-20220503t034102-20...|████████████████████| 100% 15.1k/15.1kB\n",
      "rfi-s1a-iw3-slc-vv-20220503t034102-20...|████████████████████| 100% 6.76k/6.76kB\n",
      "s1a-iw1-slc-vh-20220503t034103-202205...|████████████████████| 100% 916k/916kB\n",
      "s1a-iw1-slc-vv-20220503t034103-202205...|████████████████████| 100% 916k/916kB\n",
      "s1a-iw2-slc-vh-20220503t034104-202205...|████████████████████| 100% 906k/906kB\n",
      "s1a-iw2-slc-vv-20220503t034104-202205...|████████████████████| 100% 906k/906kB\n",
      "s1a-iw3-slc-vh-20220503t034102-202205...|████████████████████| 100% 817k/817kB\n",
      "s1a-iw3-slc-vv-20220503t034102-202205...|████████████████████| 100% 817k/817kB\n",
      "manifest.safe                           |████████████████████| 100% 42.6k/42.6kB\n",
      "measurement                             |                    |   0% 0.00/0.00B\n"
     ]
    },
    {
     "name": "stdout",
     "output_type": "stream",
     "text": [
      "Creating a directory: S1A_IW_SLC__1SDV_20220503T034102_20220503T034129_043041_0523B0_16A0.SAFE/measurement\n"
     ]
    },
    {
     "name": "stderr",
     "output_type": "stream",
     "text": [
      "s1a-iw1-slc-vh-20220503t034103-202205...|████████████████████| 100% 1.20G/1.20GB\n",
      "s1a-iw1-slc-vv-20220503t034103-202205...|██████▍             |  32% 382M/1.20GB "
     ]
    }
   ],
   "source": [
    "filename = 'S1A_IW_SLC__1SDV_20220503T034102_20220503T034129_043041_0523B0_16A0.SAFE'\n",
    "searcher.download_product(\n",
    "    filename,\n",
    ")"
   ]
  },
  {
   "cell_type": "code",
   "execution_count": null,
   "metadata": {},
   "outputs": [],
   "source": []
  }
 ],
 "metadata": {
  "kernelspec": {
   "display_name": "phidown",
   "language": "python",
   "name": "python3"
  },
  "language_info": {
   "codemirror_mode": {
    "name": "ipython",
    "version": 3
   },
   "file_extension": ".py",
   "mimetype": "text/x-python",
   "name": "python",
   "nbconvert_exporter": "python",
   "pygments_lexer": "ipython3",
   "version": "3.9.22"
  }
 },
 "nbformat": 4,
 "nbformat_minor": 2
}
