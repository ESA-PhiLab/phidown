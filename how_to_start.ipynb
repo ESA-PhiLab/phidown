{
 "cells": [
  {
   "cell_type": "markdown",
   "metadata": {},
   "source": [
    "# Copernicus Sentinel-2 Data Search and Exploration\n",
    "\n",
    "This Jupyter Notebook demonstrates how to search, filter, and explore Sentinel-2 satellite imagery metadata using the `phidown` library. The workflow includes:\n",
    "\n",
    "- **Setting Search Parameters:**  \n",
    "    The notebook defines parameters such as collection name (`SENTINEL-2`), product type (`S2MSI1C`), cloud cover threshold, area of interest (AOI) in WKT format, date range, and sorting options.\n",
    "\n",
    "- **Executing the Search:**  \n",
    "    An instance of `CopernicusDataSearcher` is configured with the specified parameters and used to query the Copernicus Open Access Hub for matching Sentinel-2 products.\n",
    "\n",
    "- **Viewing Results:**  \n",
    "    The resulting metadata is loaded into a pandas DataFrame (`df`). Key columns such as `Id`, `Name`, `S3Path`, and `GeoFootprint` are displayed for quick inspection.\n",
    "\n",
    "## Variables and Data\n",
    "\n",
    "- **aoi_wkt:** AOI polygon in WKT format. Polygon must start and end with the same point. Coordinates must be given in EPSG 4326\n",
    "- **cloud_cover_threshold:** Maximum allowed cloud cover percentage.\n",
    "- **collection_name:** Data collection to search (`SENTINEL-2`).\n",
    "- **columns_to_display:** List of DataFrame columns to display.\n",
    "- **df:** DataFrame containing search results (1000 entries, 16 columns).\n",
    "- **searcher:** Configured `CopernicusDataSearcher` instance.\n",
    "- **start_date, end_date:** Date range for the search.\n",
    "- **product_type, orbit_direction, order_by, top:** Additional search parameters."
   ]
  },
  {
   "cell_type": "code",
   "execution_count": null,
   "metadata": {},
   "outputs": [],
   "source": [
    "%load_ext autoreload\n",
    "%autoreload 2"
   ]
  },
  {
   "cell_type": "markdown",
   "metadata": {},
   "source": [
    "# Search\n",
    "\n",
    "You can modify the search parameters to refine your query, re-run the search, and further analyze or visualize the results as needed."
   ]
  },
  {
   "cell_type": "markdown",
   "metadata": {},
   "source": [
    "### Sentinel Products"
   ]
  },
  {
   "cell_type": "code",
   "execution_count": null,
   "metadata": {},
   "outputs": [],
   "source": [
    "from phidown.search import CopernicusDataSearcher\n",
    "# You can modify these parameters as needed\n",
    "\n",
    "aoi_wkt = \"POLYGON((-95.0 29.0, -95.0 30.0, -94.0 30.0, -94.0 29.0, -95.0 29.0))\"  # Define the AOI in WKT format\n",
    "\n",
    "searcher = CopernicusDataSearcher()\n",
    "# Configure the search parameters\n",
    "searcher._query_by_filter(\n",
    "    collection_name='SENTINEL-1',\n",
    "    product_type='SLC',\n",
    "    orbit_direction=None,\n",
    "    cloud_cover_threshold=None,\n",
    "    aoi_wkt=None,  # Example: aoi_wkt=aoi_wkt if you want to use the defined AOI\n",
    "    start_date = '2023-05-03T00:00:00',\n",
    "    end_date = '2024-05-03T04:00:00',\n",
    "    top=1000,\n",
    "    attributes={'swathIdentifier': 'S1'} # Swath identifier Stripmap: S1, ..., S6 | 'WV1,WV2' for wavemode\n",
    "    # base_url defaults to 'https://catalogue.dataspace.copernicus.eu/odata/v1/Products'\n",
    "    # order_by defaults to 'ContentDate/Start desc'\n",
    ")\n",
    "\n",
    "df = searcher.execute_query()\n",
    "print(f\"Number of results: {len(df)}\")\n",
    "# Display the first few rows of the DataFrame\n",
    "searcher.display_results(top_n=15)"
   ]
  },
  {
   "cell_type": "markdown",
   "metadata": {},
   "source": [
    "### CCM"
   ]
  },
  {
   "cell_type": "code",
   "execution_count": null,
   "metadata": {},
   "outputs": [],
   "source": [
    "from phidown.search import CopernicusDataSearcher\n",
    "# You can modify these parameters as needed\n",
    "\n",
    "searcher = CopernicusDataSearcher()\n",
    "# Configure the search parameters\n",
    "searcher._query_by_filter(\n",
    "    collection_name='CCM',\n",
    "    product_type='NAO_MS4_2A_07B6',\n",
    "    orbit_direction=None,\n",
    "    cloud_cover_threshold=None,\n",
    "    aoi_wkt=None,  # Use the defined AOI\n",
    "    start_date='2014-05-03T00:00:00',\n",
    "    end_date='2024-05-03T04:00:00',\n",
    "    top=1000,\n",
    "    attributes=None\n",
    ")\n",
    "\n",
    "df = searcher.execute_query()\n",
    "print(f\"Number of results: {len(df)}\")\n",
    "# Display the first few rows of the DataFrame\n",
    "searcher.display_results(top_n=15)"
   ]
  },
  {
   "cell_type": "markdown",
   "metadata": {},
   "source": [
    "### Search by Product Name (Exact Match)\n",
    "\n",
    "You can search for a specific product if you know its exact name."
   ]
  },
  {
   "cell_type": "markdown",
   "metadata": {},
   "source": [
    "**Tip:**\n",
    "\n",
    "To search by exact product name, make sure the name exists in the Copernicus Data Space catalogue. You can find valid product names by running a general search first, or by browsing the [Copernicus Data Space Catalogue](https://dataspace.copernicus.eu/browser/). If your search returns no results, try using a product name from the official documentation or a recent search result.\n",
    "\n",
    "Below, we use a known-valid product name as an example."
   ]
  },
  {
   "cell_type": "code",
   "execution_count": null,
   "metadata": {},
   "outputs": [],
   "source": [
    "from phidown.search import CopernicusDataSearcher\n",
    "\n",
    "searcher_by_name = CopernicusDataSearcher()\n",
    "\n",
    "# Replace with an actual product name you want to find\n",
    "product_to_find = 'S1A_IW_GRDH_1SDV_20141031T161924_20141031T161949_003076_003856_634E.SAFE' # Example, replace with a recent, valid name\n",
    "\n",
    "print(f\"Searching for product with exact name: {product_to_find}\\n\")\n",
    "df_exact = searcher_by_name.query_by_name(product_name=product_to_find)\n",
    "\n",
    "if not df_exact.empty:\n",
    "    searcher_by_name.display_results(top_n=1)\n",
    "    display(df_exact)\n",
    "else:\n",
    "    print(f\"Product '{product_to_find}' not found or an error occurred.\")"
   ]
  },
  {
   "cell_type": "markdown",
   "metadata": {},
   "source": [
    "## 📥 Download Your Product\n",
    "\n",
    "Important:\n",
    "If your credentials are not deleted automatically, you must manually revoke them here:\n",
    "\n",
    "🔗 Manage S3 Credentials: https://eodata-s3keysmanager.dataspace.copernicus.eu/panel/s3-credentials\n",
    "\n",
    "Stay secure — always clean up your credentials!"
   ]
  },
  {
   "cell_type": "code",
   "execution_count": null,
   "metadata": {},
   "outputs": [],
   "source": [
    "from phidown.search import CopernicusDataSearcher\n",
    "\n",
    "searcher = CopernicusDataSearcher() \n",
    "\n",
    "filename = 'S1A_S3_SLC__1SDH_20240430T213606_20240430T213631_053668_0684A3_FCED.SAFE'\n",
    "searcher.download_product(filename)"
   ]
  },
  {
   "cell_type": "markdown",
   "metadata": {},
   "source": [
    "Alternative CLI:\n",
    "\n",
    "In your command line \n",
    "```bash \n",
    "python -m phidown.downloader -u {username} -p {password} -eo_product_name {filename}\n",
    "```\n"
   ]
  },
  {
   "cell_type": "code",
   "execution_count": null,
   "metadata": {},
   "outputs": [],
   "source": [
    "from phidown.downloader import load_credentials\n",
    "# Download the product using the command line\n",
    "filename = 'S1A_IW_SLC__1SDV_20220503T034102_20220503T034129_043041_0523B0_16A0.SAFE'\n",
    "username, password = load_credentials()\n",
    "# Run the command line downloader\n",
    "# Note: You need to have the phidown package installed and available in your PATH\n",
    "!python -m phidown.downloader -u {username} -p {password} -eo_product_name {filename}"
   ]
  }
 ],
 "metadata": {
  "kernelspec": {
   "display_name": ".venv",
   "language": "python",
   "name": "python3"
  },
  "language_info": {
   "codemirror_mode": {
    "name": "ipython",
    "version": 3
   },
   "file_extension": ".py",
   "mimetype": "text/x-python",
   "name": "python",
   "nbconvert_exporter": "python",
   "pygments_lexer": "ipython3",
   "version": "3.9.6"
  }
 },
 "nbformat": 4,
 "nbformat_minor": 2
}
