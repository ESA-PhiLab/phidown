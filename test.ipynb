{
 "cells": [
  {
   "cell_type": "markdown",
   "metadata": {},
   "source": [
    "# Copernicus Sentinel-2 Data Search and Exploration\n",
    "\n",
    "This Jupyter Notebook demonstrates how to search, filter, and explore Sentinel-2 satellite imagery metadata using the `phisenapi` library. The workflow includes:\n",
    "\n",
    "- **Setting Search Parameters:**  \n",
    "    The notebook defines parameters such as collection name (`SENTINEL-2`), product type (`S2MSI1C`), cloud cover threshold, area of interest (AOI) in WKT format, date range, and sorting options.\n",
    "\n",
    "- **Executing the Search:**  \n",
    "    An instance of `CopernicusDataSearcher` is configured with the specified parameters and used to query the Copernicus Open Access Hub for matching Sentinel-2 products.\n",
    "\n",
    "- **Viewing Results:**  \n",
    "    The resulting metadata is loaded into a pandas DataFrame (`df`). Key columns such as `Id`, `Name`, `S3Path`, and `GeoFootprint` are displayed for quick inspection.\n",
    "\n",
    "## Variables and Data\n",
    "\n",
    "- **aoi_wkt:** AOI polygon in WKT format. Polygon must start and end with the same point. Coordinates must be given in EPSG 4326\n",
    "- **cloud_cover_threshold:** Maximum allowed cloud cover percentage.\n",
    "- **collection_name:** Data collection to search (`SENTINEL-2`).\n",
    "- **columns_to_display:** List of DataFrame columns to display.\n",
    "- **df:** DataFrame containing search results (1000 entries, 16 columns).\n",
    "- **searcher:** Configured `CopernicusDataSearcher` instance.\n",
    "- **start_date, end_date:** Date range for the search.\n",
    "- **product_type, orbit_direction, order_by, top:** Additional search parameters.\n",
    "\n",
    "## Usage\n",
    "\n",
    "You can modify the search parameters to refine your query, re-run the search, and further analyze or visualize the results as needed."
   ]
  },
  {
   "cell_type": "code",
   "execution_count": null,
   "metadata": {},
   "outputs": [
    {
     "ename": "TypeError",
     "evalue": "set_search_parameters() got an unexpected keyword argument 'collection_name'",
     "output_type": "error",
     "traceback": [
      "\u001b[0;31m---------------------------------------------------------------------------\u001b[0m",
      "\u001b[0;31mTypeError\u001b[0m                                 Traceback (most recent call last)",
      "Cell \u001b[0;32mIn[1], line 21\u001b[0m\n\u001b[1;32m     19\u001b[0m \u001b[38;5;66;03m# Use existing variables to create an instance of the searcher class\u001b[39;00m\n\u001b[1;32m     20\u001b[0m searcher \u001b[38;5;241m=\u001b[39m CopernicusDataSearcher()\n\u001b[0;32m---> 21\u001b[0m \u001b[43msearcher\u001b[49m\u001b[38;5;241;43m.\u001b[39;49m\u001b[43mset_search_parameters\u001b[49m\u001b[43m(\u001b[49m\n\u001b[1;32m     22\u001b[0m \u001b[43m    \u001b[49m\u001b[43mcollection_name\u001b[49m\u001b[38;5;241;43m=\u001b[39;49m\u001b[43mcollection_name\u001b[49m\u001b[43m,\u001b[49m\n\u001b[1;32m     23\u001b[0m \u001b[43m    \u001b[49m\u001b[43mproduct_type\u001b[49m\u001b[38;5;241;43m=\u001b[39;49m\u001b[43mproduct_type\u001b[49m\u001b[43m,\u001b[49m\n\u001b[1;32m     24\u001b[0m \u001b[43m    \u001b[49m\u001b[43morbit_direction\u001b[49m\u001b[38;5;241;43m=\u001b[39;49m\u001b[43morbit_direction\u001b[49m\u001b[43m,\u001b[49m\n\u001b[1;32m     25\u001b[0m \u001b[43m    \u001b[49m\u001b[43mcloud_cover_threshold\u001b[49m\u001b[38;5;241;43m=\u001b[39;49m\u001b[43mcloud_cover_threshold\u001b[49m\u001b[43m,\u001b[49m\n\u001b[1;32m     26\u001b[0m \u001b[43m    \u001b[49m\u001b[43maoi_wkt\u001b[49m\u001b[38;5;241;43m=\u001b[39;49m\u001b[43maoi_wkt\u001b[49m\u001b[43m,\u001b[49m\n\u001b[1;32m     27\u001b[0m \u001b[43m    \u001b[49m\u001b[43mstart_date\u001b[49m\u001b[38;5;241;43m=\u001b[39;49m\u001b[43mstart_date\u001b[49m\u001b[43m,\u001b[49m\n\u001b[1;32m     28\u001b[0m \u001b[43m    \u001b[49m\u001b[43mend_date\u001b[49m\u001b[38;5;241;43m=\u001b[39;49m\u001b[43mend_date\u001b[49m\u001b[43m,\u001b[49m\n\u001b[1;32m     29\u001b[0m \u001b[43m    \u001b[49m\u001b[43morder_by\u001b[49m\u001b[38;5;241;43m=\u001b[39;49m\u001b[43morder_by\u001b[49m\u001b[43m,\u001b[49m\n\u001b[1;32m     30\u001b[0m \u001b[43m    \u001b[49m\u001b[43mtop\u001b[49m\u001b[38;5;241;43m=\u001b[39;49m\u001b[43mtop\u001b[49m\n\u001b[1;32m     31\u001b[0m \u001b[43m)\u001b[49m\n\u001b[1;32m     33\u001b[0m \u001b[38;5;66;03m# Execute the query and get results\u001b[39;00m\n\u001b[1;32m     34\u001b[0m df \u001b[38;5;241m=\u001b[39m searcher\u001b[38;5;241m.\u001b[39mexecute_query()\n",
      "\u001b[0;31mTypeError\u001b[0m: set_search_parameters() got an unexpected keyword argument 'collection_name'"
     ]
    }
   ],
   "source": [
    "from phidown.search import CopernicusDataSearcher\n",
    "# You can modify these parameters as needed\n",
    "# base_url is already defined\n",
    "# collection_name is already set to 'SENTINEL-2'\n",
    "# aoi_wkt contains a polygon for the area of interest\n",
    "# start_date and end_date are defined for May 20, 2019\n",
    "\n",
    "\n",
    "collection_name = 'SENTINEL-2'\n",
    "orbit_direction = None  # 'DESCENDING' or 'ASCENDING'\n",
    "product_type = 'S2MSI1C'  # Could be 'S2MSI1C', 'S2MSI2A', etc.\n",
    "cloud_cover_threshold = 20  # Cloud cover percentage\n",
    "aoi_wkt = 'POLYGON((6.6 36.5, 6.6 47.1, 18.6 47.1, 18.6 36.5, 6.6 36.5))'\n",
    "start_date = '2019-05-20T00:00:00Z'\n",
    "end_date = '2023-05-21T00:00:00Z'\n",
    "order_by = 'ContentDate/Start desc'  # Order by start date descending\n",
    "top = 100  # Number of results to return\n",
    "\n",
    "# Use existing variables to create an instance of the searcher class\n",
    "searcher = CopernicusDataSearcher(\n",
    "    collection_name=collection_name,\n",
    "    product_type=product_type,\n",
    "    orbit_direction=orbit_direction,\n",
    "    cloud_cover_threshold=cloud_cover_threshold,\n",
    "    aoi_wkt=aoi_wkt,\n",
    "    start_date=start_date,\n",
    "    end_date=end_date,\n",
    "    order_by=order_by,\n",
    "    top=top\n",
    "    )\n",
    "searcher.set_search_parameters(\n",
    "\n",
    ")\n",
    "\n",
    "# Execute the query and get results\n",
    "df = searcher.execute_query()\n",
    "columns_to_display = ['Id', 'Name', 'S3Path', 'GeoFootprint']\n",
    "# Display specific columns\n",
    "df[columns_to_display].head(50)"
   ]
  },
  {
   "cell_type": "code",
   "execution_count": 1,
   "metadata": {},
   "outputs": [],
   "source": [
    "import json \n",
    "\n",
    "# json read phisanpi.confg.json\n",
    "with open('phisenapi/config.json') as f:\n",
    "    config = json.load(f)"
   ]
  },
  {
   "cell_type": "code",
   "execution_count": 14,
   "metadata": {},
   "outputs": [],
   "source": [
    "collection_names = ['SENTINEL-1', 'SENTINEL-2']\n",
    "\n",
    "\n",
    "def get_valid_product_types(config, collection_names):\n",
    "    product_types = {key: value.get('productType', None) for key, value in config['attributes'].items()}\n",
    "    valid_product_types = {key: value for key, value in product_types.items() if key in collection_names}\n",
    "    values = [item for sublist in product_types.values() for item in sublist]\n",
    "    return valid_product_types, values\n",
    "\n",
    "# Call the function\n",
    "valid_product_types, values = get_valid_product_types(config, collection_names)\n",
    "\n"
   ]
  },
  {
   "cell_type": "code",
   "execution_count": null,
   "metadata": {},
   "outputs": [],
   "source": []
  }
 ],
 "metadata": {
  "kernelspec": {
   "display_name": "phidown",
   "language": "python",
   "name": "python3"
  },
  "language_info": {
   "codemirror_mode": {
    "name": "ipython",
    "version": 3
   },
   "file_extension": ".py",
   "mimetype": "text/x-python",
   "name": "python",
   "nbconvert_exporter": "python",
   "pygments_lexer": "ipython3",
   "version": "3.9.22"
  }
 },
 "nbformat": 4,
 "nbformat_minor": 2
}
